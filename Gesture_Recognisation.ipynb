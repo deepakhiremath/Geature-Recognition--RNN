{
 "cells": [
  {
   "cell_type": "markdown",
   "metadata": {
    "id": "M7MJNBSapDFT"
   },
   "source": [
    "# Deep Learning Project - Gesture Recognition"
   ]
  },
  {
   "cell_type": "markdown",
   "metadata": {
    "id": "TUALltU6pKvH"
   },
   "source": [
    "## Problem Statement\n",
    "\n",
    "Imagine you are working as a data scientist at a home electronics company which manufactures state of the art smart televisions. You want to develop a cool feature in the smart-TV that can recognise five different gestures performed by the user which will help users control the TV without using a remote.\n",
    "\n",
    "The gestures are continuously monitored by the webcam mounted on the TV. Each gesture corresponds to a specific command:\n",
    "\n",
    "#### Gesture Corresponding -> Action\n",
    "* Thumbs Up\t-> Increase the volume  \n",
    "* Thumbs Down\t-> Decrease the volume  \n",
    "* Left Swipe\t-> 'Jump' backwards 10 seconds  \n",
    "* Right Swipe\t-> 'Jump' forward 10 seconds  \n",
    "* Stop\t    -> Pause the movie  \n",
    "* Each video is a sequence of 30 frames (or images).  \n",
    "\n"
   ]
  },
  {
   "cell_type": "markdown",
   "metadata": {
    "id": "KBFGALN-r_5e"
   },
   "source": [
    "## Dataset\n",
    "Below code will extract the data from google drive and unzips it to specified directory.\n",
    "\n",
    "It consist of 663 videos for training, there are 30 frames for each video. For validation there are 100 videos of 30 frames each to measure the accuracy of the solution."
   ]
  },
  {
   "cell_type": "code",
   "execution_count": 4,
   "metadata": {
    "executionInfo": {
     "elapsed": 372,
     "status": "ok",
     "timestamp": 1660463144849,
     "user": {
      "displayName": "Deepak Hiremath",
      "userId": "06961457277516205177"
     },
     "user_tz": -330
    },
    "id": "q6Ol18yxpLwz"
   },
   "outputs": [],
   "source": [
    "#Import the libraries\n",
    "import zipfile\n",
    "import os"
   ]
  },
  {
   "cell_type": "code",
   "execution_count": 2,
   "metadata": {
    "colab": {
     "base_uri": "https://localhost:8080/"
    },
    "executionInfo": {
     "elapsed": 19913,
     "status": "ok",
     "timestamp": 1660463131700,
     "user": {
      "displayName": "Deepak Hiremath",
      "userId": "06961457277516205177"
     },
     "user_tz": -330
    },
    "id": "CVfSnOoZpqPY",
    "outputId": "8bfcc79f-708e-42ae-965c-cee4749d3f82"
   },
   "outputs": [
    {
     "name": "stdout",
     "output_type": "stream",
     "text": [
      "Mounted at /content/drive\n"
     ]
    }
   ],
   "source": [
    "# Mounting google drive\n",
    "from google.colab import drive\n",
    "drive.mount('/content/drive')"
   ]
  },
  {
   "cell_type": "code",
   "execution_count": 5,
   "metadata": {
    "executionInfo": {
     "elapsed": 24300,
     "status": "ok",
     "timestamp": 1660463170722,
     "user": {
      "displayName": "Deepak Hiremath",
      "userId": "06961457277516205177"
     },
     "user_tz": -330
    },
    "id": "12XROrcRplLx"
   },
   "outputs": [],
   "source": [
    "# Extracting Images from zip file to another directory\n",
    "zip_ref = zipfile.ZipFile('/content/drive/MyDrive/Project_data.zip', 'r') \n",
    "zip_ref.extractall('/content/Gesture_Recognition_Project/Extracted_Data') \n",
    "zip_ref.close()"
   ]
  },
  {
   "cell_type": "code",
   "execution_count": null,
   "metadata": {
    "id": "MNrnvvbshVVM"
   },
   "outputs": [],
   "source": [
    "#copying data to runtime to run faster"
   ]
  },
  {
   "cell_type": "code",
   "execution_count": 12,
   "metadata": {
    "executionInfo": {
     "elapsed": 442,
     "status": "ok",
     "timestamp": 1660471560125,
     "user": {
      "displayName": "Deepak Hiremath",
      "userId": "06961457277516205177"
     },
     "user_tz": -330
    },
    "id": "XnKurJalwYv4"
   },
   "outputs": [],
   "source": [
    "# setting the path for extracted directory\n",
    "\n",
    "project_folder='/content/Gesture_Recognition_Project/Extracted_Data/Project_data'"
   ]
  },
  {
   "cell_type": "code",
   "execution_count": null,
   "metadata": {
    "id": "goB8EZn9tHdy"
   },
   "outputs": [],
   "source": [
    "# Installing older version of scipy (1.1.0) as they have discontinued the support of imread since scipy 1.1.1"
   ]
  },
  {
   "cell_type": "code",
   "execution_count": 4,
   "metadata": {
    "colab": {
     "base_uri": "https://localhost:8080/"
    },
    "executionInfo": {
     "elapsed": 3467,
     "status": "ok",
     "timestamp": 1660471460590,
     "user": {
      "displayName": "Deepak Hiremath",
      "userId": "06961457277516205177"
     },
     "user_tz": -330
    },
    "id": "YpZ_-tUJtOaz",
    "outputId": "e9b3efe8-cab4-4cab-fcab-8d1af6f84c38"
   },
   "outputs": [
    {
     "name": "stdout",
     "output_type": "stream",
     "text": [
      "Looking in indexes: https://pypi.org/simple, https://us-python.pkg.dev/colab-wheels/public/simple/\n",
      "Requirement already satisfied: scipy==1.1.0 in /usr/local/lib/python3.7/dist-packages (1.1.0)\n",
      "Requirement already satisfied: numpy>=1.8.2 in /usr/local/lib/python3.7/dist-packages (from scipy==1.1.0) (1.21.6)\n"
     ]
    }
   ],
   "source": [
    "!pip install scipy==1.1.0"
   ]
  },
  {
   "cell_type": "code",
   "execution_count": 3,
   "metadata": {
    "executionInfo": {
     "elapsed": 380,
     "status": "ok",
     "timestamp": 1660471451944,
     "user": {
      "displayName": "Deepak Hiremath",
      "userId": "06961457277516205177"
     },
     "user_tz": -330
    },
    "id": "V2xW5WIHssBj"
   },
   "outputs": [],
   "source": [
    "# Import packages and libraries\n",
    "\n",
    "import numpy as np\n",
    "import os\n",
    "from scipy.misc import imread, imresize\n",
    "import datetime\n",
    "import os\n",
    "import warnings\n",
    "warnings.filterwarnings(\"ignore\")\n",
    "import abc\n",
    "from sys import getsizeof"
   ]
  },
  {
   "cell_type": "code",
   "execution_count": null,
   "metadata": {
    "id": "ykNcxNFbsvBq"
   },
   "outputs": [],
   "source": [
    "# set random seed that each run produces all most same results\n",
    "\n",
    "# np.random.seed(30)\n",
    "# import random as rn\n",
    "# rn.seed(30)\n",
    "# from keras import backend as K\n",
    "# import tensorflow as tf\n",
    "# tf.random.set_seed(30)"
   ]
  },
  {
   "cell_type": "code",
   "execution_count": 5,
   "metadata": {
    "executionInfo": {
     "elapsed": 646,
     "status": "ok",
     "timestamp": 1660471467862,
     "user": {
      "displayName": "Deepak Hiremath",
      "userId": "06961457277516205177"
     },
     "user_tz": -330
    },
    "id": "MfPLZk8RvGit"
   },
   "outputs": [],
   "source": [
    "# import libraries for image manipulation\n",
    "\n",
    "import cv2\n",
    "import matplotlib.pyplot as plt\n",
    "% matplotlib inline"
   ]
  },
  {
   "cell_type": "code",
   "execution_count": 11,
   "metadata": {
    "executionInfo": {
     "elapsed": 2154,
     "status": "ok",
     "timestamp": 1660471552190,
     "user": {
      "displayName": "Deepak Hiremath",
      "userId": "06961457277516205177"
     },
     "user_tz": -330
    },
    "id": "jGQdNdDNtySr"
   },
   "outputs": [],
   "source": [
    "# import tensorflow and keras libraries\n",
    "\n",
    "from tensorflow.keras.models import Sequential, Model\n",
    "from tensorflow.keras.layers import Dense, GRU, Flatten, TimeDistributed, Flatten, BatchNormalization, Activation\n",
    "from tensorflow.keras.layers import Conv3D, MaxPooling3D, Conv2D, MaxPooling2D\n",
    "from tensorflow.keras.layers import LSTM\n",
    "from tensorflow.keras.callbacks import ModelCheckpoint, ReduceLROnPlateau, EarlyStopping\n",
    "from tensorflow.keras import optimizers\n",
    "from tensorflow.keras.layers import Dropout"
   ]
  },
  {
   "cell_type": "markdown",
   "metadata": {
    "id": "x9IfDROewx5S"
   },
   "source": [
    "## Model Builder class\n",
    "\n",
    "##### Building a class with which we will perform actions mentioned below:\n",
    "1. intitialise paths\n",
    "2. initialise image properties\n",
    "3. set hyperparameters\n",
    "4. generator method \n",
    "5. data fetch per batch\n",
    "6. model trainer method\n",
    "\n",
    "We will reuse the methods in class to run the model with different hyperparameters.\n",
    "\n",
    "Generator Method:\n",
    "This is one of the most important part of the code, it preprocess the images as you have images of 2 different dimensions as well as create a batch of video frames."
   ]
  },
  {
   "cell_type": "code",
   "execution_count": 17,
   "metadata": {
    "executionInfo": {
     "elapsed": 482,
     "status": "ok",
     "timestamp": 1660475535434,
     "user": {
      "displayName": "Deepak Hiremath",
      "userId": "06961457277516205177"
     },
     "user_tz": -330
    },
    "id": "WnMJKdtuxDLS"
   },
   "outputs": [],
   "source": [
    "class ModelBuilder(metaclass= abc.ABCMeta):\n",
    "    \n",
    "    # method to initialise the paths and number of sequences\n",
    "\n",
    "    def initialize_path(self,project_folder):\n",
    "        self.train_doc = np.random.permutation(open(project_folder + '/' + 'train.csv').readlines())\n",
    "        self.val_doc = np.random.permutation(open(project_folder + '/' + 'val.csv').readlines())\n",
    "        self.train_path = project_folder + '/' + 'train'\n",
    "        self.val_path =  project_folder + '/' + 'val'\n",
    "        self.num_train_sequences = len(self.train_doc)\n",
    "        self.num_val_sequences = len(self.val_doc)\n",
    "    \n",
    "    # initialise image properties\n",
    "\n",
    "    def initialize_image_properties(self,image_height=100,image_width=100):\n",
    "        self.image_height=image_height\n",
    "        self.image_width=image_width\n",
    "        self.channels=3\n",
    "        self.num_classes=5\n",
    "        self.total_frames=30\n",
    "\n",
    "    # Set hyperparameters\n",
    "\n",
    "    def initialize_hyperparams(self,frames_to_sample=30,batch_size=20,num_epochs=20):\n",
    "        self.frames_to_sample=frames_to_sample\n",
    "        self.batch_size=batch_size\n",
    "        self.num_epochs=num_epochs\n",
    "        \n",
    "    # Define generator function\n",
    "\n",
    "    def generator(self,source_path, folder_list, augment=False):\n",
    "        img_idx = np.round(np.linspace(0,self.total_frames-1,self.frames_to_sample)).astype(int)\n",
    "        batch_size=self.batch_size\n",
    "        while True:\n",
    "            t = np.random.permutation(folder_list)\n",
    "            num_batches = len(t)//batch_size  # get whole number of batches\n",
    "        \n",
    "            for batch in range(num_batches): \n",
    "                batch_data, batch_labels= self.one_batch_data(source_path,t,batch,batch_size,img_idx,augment)\n",
    "                yield batch_data, batch_labels \n",
    "\n",
    "            remaining_seq=len(t)%batch_size   # get balance number in the last batch\n",
    "        \n",
    "            if (remaining_seq != 0):\n",
    "                batch_data, batch_labels= self.one_batch_data(source_path,t,num_batches,batch_size,img_idx,augment,remaining_seq)\n",
    "                yield batch_data, batch_labels \n",
    "    \n",
    "    # get one batch of data\n",
    "\n",
    "    def one_batch_data(self,source_path,t,batch,batch_size,img_idx,augment,remaining_seq=0):\n",
    "    \n",
    "        seq_len = remaining_seq if remaining_seq else batch_size\n",
    "\n",
    "        # define the matrix for the image data and the label data\n",
    "\n",
    "        batch_data = np.zeros((seq_len,len(img_idx),self.image_height,self.image_width,self.channels)) \n",
    "        batch_labels = np.zeros((seq_len,self.num_classes)) \n",
    "    \n",
    "        if (augment): batch_data_aug = np.zeros((seq_len,len(img_idx),self.image_height,self.image_width,self.channels))\n",
    "\n",
    "        \n",
    "        for folder in range(seq_len): \n",
    "\n",
    "            # get list of the images in the video directory\n",
    "\n",
    "            imgs = os.listdir(source_path+'/'+ t[folder + (batch*batch_size)].split(';')[0]) \n",
    "            for idx,item in enumerate(img_idx): \n",
    "                # read an image\n",
    "                image = imread(source_path+'/'+ t[folder + (batch*batch_size)].strip().split(';')[0]+'/'+imgs[item]).astype(np.float32)\n",
    "                # resize image\n",
    "                image_resized=imresize(image,(self.image_height,self.image_width,3))\n",
    "            \n",
    "                # normalize image data\n",
    "                batch_data[folder,idx,:,:,0] = (image_resized[:,:,0])/255\n",
    "                batch_data[folder,idx,:,:,1] = (image_resized[:,:,1])/255\n",
    "                batch_data[folder,idx,:,:,2] = (image_resized[:,:,2])/255\n",
    "\n",
    "                # create new images by augmentation\n",
    "\n",
    "                if (augment):\n",
    "                    shifted = cv2.warpAffine(image, \n",
    "                                             np.float32([[1, 0, np.random.randint(-30,30)],[0, 1, np.random.randint(-30,30)]]), \n",
    "                                            (image.shape[1], image.shape[0]))\n",
    "                    \n",
    "                    gray = cv2.cvtColor(shifted,cv2.COLOR_BGR2GRAY)\n",
    "\n",
    "                    x0, y0 = np.argwhere(gray > 0).min(axis=0)\n",
    "                    x1, y1 = np.argwhere(gray > 0).max(axis=0) \n",
    "                    \n",
    "                    cropped=shifted[x0:x1,y0:y1,:]\n",
    "                    \n",
    "                    image_resized=imresize(cropped,(self.image_height,self.image_width,3))\n",
    "                    \n",
    "                               \n",
    "                    batch_data_aug[folder,idx,:,:,0] = (image_resized[:,:,0])/255\n",
    "                    batch_data_aug[folder,idx,:,:,1] = (image_resized[:,:,1])/255\n",
    "                    batch_data_aug[folder,idx,:,:,2] = (image_resized[:,:,2])/255\n",
    "                \n",
    "            \n",
    "            batch_labels[folder, int(t[folder + (batch*batch_size)].strip().split(';')[2])] = 1\n",
    "            \n",
    "        # Concatenate augmented images\n",
    "\n",
    "        if (augment):\n",
    "            batch_data=np.concatenate([batch_data,batch_data_aug])\n",
    "            batch_labels=np.concatenate([batch_labels,batch_labels])\n",
    "\n",
    "        \n",
    "        return(batch_data,batch_labels)\n",
    "    \n",
    "    # method to train a model\n",
    "    \n",
    "    def train_model(self, model, augment_data=False):\n",
    "\n",
    "        # create the train and validation generator\n",
    "\n",
    "        train_generator = self.generator(self.train_path, self.train_doc,augment=augment_data)\n",
    "        val_generator = self.generator(self.val_path, self.val_doc)\n",
    "\n",
    "        # we will save best model information in *.h5 file\n",
    "\n",
    "        model_name = 'model_init' + '_' + str(datetime.datetime.now()).replace(' ','').replace(':','_') + '/'\n",
    "    \n",
    "        if not os.path.exists(model_name):\n",
    "            os.mkdir(model_name)\n",
    "        \n",
    "        filepath = model_name + 'model-{epoch:05d}-{loss:.5f}-{categorical_accuracy:.5f}-{val_loss:.5f}-{val_categorical_accuracy:.5f}.h5'\n",
    "\n",
    "        # create model check point to save model when validation less goes down\n",
    "\n",
    "        checkpoint = ModelCheckpoint(filepath, monitor='val_loss', verbose=1, save_best_only=False, save_weights_only=False, mode='auto', period=1)\n",
    "        LR = ReduceLROnPlateau(monitor='val_loss', factor=0.2, verbose=1, patience=4)\n",
    "        callbacks_list = [checkpoint, LR]\n",
    "\n",
    "        # set number of steps per epochs so that correct number batch generator calls are made\n",
    "\n",
    "        if (self.num_train_sequences%self.batch_size) == 0:\n",
    "            steps_per_epoch = int(self.num_train_sequences/self.batch_size)\n",
    "        else:\n",
    "            steps_per_epoch = (self.num_train_sequences//self.batch_size) + 1\n",
    "\n",
    "        if (self.num_val_sequences%self.batch_size) == 0:\n",
    "            validation_steps = int(self.num_val_sequences/self.batch_size)\n",
    "        else:\n",
    "            validation_steps = (self.num_val_sequences//self.batch_size) + 1\n",
    "        \n",
    "        # fit the model\n",
    "        history=model.fit(train_generator, steps_per_epoch=steps_per_epoch, epochs=self.num_epochs, verbose=1, \n",
    "                            callbacks=callbacks_list, validation_data=val_generator, \n",
    "                            validation_steps=validation_steps, class_weight=None, workers=1, initial_epoch=0)\n",
    "        return history\n",
    "\n",
    "        \n",
    "    @abc.abstractmethod\n",
    "    def define_model(self):\n",
    "        pass"
   ]
  },
  {
   "cell_type": "markdown",
   "metadata": {
    "id": "YcBIeNQt0hH7"
   },
   "source": [
    "### Model Building Process\n",
    "Creating different models as the requirment, the main objective is to design the network in such a way that the model is able to give good accuracy with the least number of parameters."
   ]
  },
  {
   "cell_type": "markdown",
   "metadata": {
    "id": "0U0_FmoQ0kfx"
   },
   "source": [
    "#### Starting with a simple network to test implementation"
   ]
  },
  {
   "cell_type": "code",
   "execution_count": null,
   "metadata": {
    "id": "wtlXYLp50kGJ"
   },
   "outputs": [],
   "source": [
    "class ModelConv3D1(ModelBuilder):\n",
    "    \n",
    "    def define_model(self):\n",
    "\n",
    "        model = Sequential()\n",
    "        model.add(Conv3D(16, (3, 3, 3), padding='same',\n",
    "                 input_shape=(self.frames_to_sample,self.image_height,self.image_width,self.channels)))\n",
    "        model.add(Activation('relu'))\n",
    "        model.add(BatchNormalization())\n",
    "        model.add(MaxPooling3D(pool_size=(2, 2, 2)))\n",
    "\n",
    "        model.add(Conv3D(32, (2, 2, 2), padding='same'))\n",
    "        model.add(Activation('relu'))\n",
    "        model.add(BatchNormalization())\n",
    "        model.add(MaxPooling3D(pool_size=(2, 2, 2)))\n",
    "\n",
    "        model.add(Conv3D(64, (2, 2, 2), padding='same'))\n",
    "        model.add(Activation('relu'))\n",
    "        model.add(BatchNormalization())\n",
    "        model.add(MaxPooling3D(pool_size=(2, 2, 2)))\n",
    "\n",
    "        model.add(Conv3D(128, (2, 2, 2), padding='same'))\n",
    "        model.add(Activation('relu'))\n",
    "        model.add(BatchNormalization())\n",
    "        model.add(MaxPooling3D(pool_size=(2, 2, 2)))\n",
    "\n",
    "        model.add(Flatten())\n",
    "        model.add(Dense(128,activation='relu'))\n",
    "        model.add(BatchNormalization())\n",
    "        model.add(Dropout(0.5))\n",
    "\n",
    "        model.add(Dense(64,activation='relu'))\n",
    "        model.add(BatchNormalization())\n",
    "        model.add(Dropout(0.25))\n",
    "\n",
    "\n",
    "        model.add(Dense(self.num_classes,activation='softmax'))\n",
    "\n",
    "        optimiser = optimizers.Adam()\n",
    "        #optimiser = 'sgd'\n",
    "        model.compile(optimizer=optimiser, loss='categorical_crossentropy', metrics=['categorical_accuracy'])\n",
    "        return model"
   ]
  },
  {
   "cell_type": "code",
   "execution_count": null,
   "metadata": {
    "colab": {
     "base_uri": "https://localhost:8080/"
    },
    "id": "M0MLG68Y0dhF",
    "outputId": "074bff43-f4f1-41cd-aa19-6d0da1587c03"
   },
   "outputs": [
    {
     "name": "stdout",
     "output_type": "stream",
     "text": [
      "Model: \"sequential_3\"\n",
      "_________________________________________________________________\n",
      " Layer (type)                Output Shape              Param #   \n",
      "=================================================================\n",
      " conv3d_12 (Conv3D)          (None, 30, 160, 160, 16)  1312      \n",
      "                                                                 \n",
      " activation_12 (Activation)  (None, 30, 160, 160, 16)  0         \n",
      "                                                                 \n",
      " batch_normalization_18 (Bat  (None, 30, 160, 160, 16)  64       \n",
      " chNormalization)                                                \n",
      "                                                                 \n",
      " max_pooling3d_12 (MaxPoolin  (None, 15, 80, 80, 16)   0         \n",
      " g3D)                                                            \n",
      "                                                                 \n",
      " conv3d_13 (Conv3D)          (None, 15, 80, 80, 32)    4128      \n",
      "                                                                 \n",
      " activation_13 (Activation)  (None, 15, 80, 80, 32)    0         \n",
      "                                                                 \n",
      " batch_normalization_19 (Bat  (None, 15, 80, 80, 32)   128       \n",
      " chNormalization)                                                \n",
      "                                                                 \n",
      " max_pooling3d_13 (MaxPoolin  (None, 7, 40, 40, 32)    0         \n",
      " g3D)                                                            \n",
      "                                                                 \n",
      " conv3d_14 (Conv3D)          (None, 7, 40, 40, 64)     16448     \n",
      "                                                                 \n",
      " activation_14 (Activation)  (None, 7, 40, 40, 64)     0         \n",
      "                                                                 \n",
      " batch_normalization_20 (Bat  (None, 7, 40, 40, 64)    256       \n",
      " chNormalization)                                                \n",
      "                                                                 \n",
      " max_pooling3d_14 (MaxPoolin  (None, 3, 20, 20, 64)    0         \n",
      " g3D)                                                            \n",
      "                                                                 \n",
      " conv3d_15 (Conv3D)          (None, 3, 20, 20, 128)    65664     \n",
      "                                                                 \n",
      " activation_15 (Activation)  (None, 3, 20, 20, 128)    0         \n",
      "                                                                 \n",
      " batch_normalization_21 (Bat  (None, 3, 20, 20, 128)   512       \n",
      " chNormalization)                                                \n",
      "                                                                 \n",
      " max_pooling3d_15 (MaxPoolin  (None, 1, 10, 10, 128)   0         \n",
      " g3D)                                                            \n",
      "                                                                 \n",
      " flatten_3 (Flatten)         (None, 12800)             0         \n",
      "                                                                 \n",
      " dense_9 (Dense)             (None, 128)               1638528   \n",
      "                                                                 \n",
      " batch_normalization_22 (Bat  (None, 128)              512       \n",
      " chNormalization)                                                \n",
      "                                                                 \n",
      " dropout_6 (Dropout)         (None, 128)               0         \n",
      "                                                                 \n",
      " dense_10 (Dense)            (None, 64)                8256      \n",
      "                                                                 \n",
      " batch_normalization_23 (Bat  (None, 64)               256       \n",
      " chNormalization)                                                \n",
      "                                                                 \n",
      " dropout_7 (Dropout)         (None, 64)                0         \n",
      "                                                                 \n",
      " dense_11 (Dense)            (None, 5)                 325       \n",
      "                                                                 \n",
      "=================================================================\n",
      "Total params: 1,736,389\n",
      "Trainable params: 1,735,525\n",
      "Non-trainable params: 864\n",
      "_________________________________________________________________\n"
     ]
    }
   ],
   "source": [
    "conv_3d1=ModelConv3D1()\n",
    "conv_3d1.initialize_path(project_folder)\n",
    "conv_3d1.initialize_image_properties(image_height=160,image_width=160)\n",
    "conv_3d1.initialize_hyperparams(frames_to_sample=30,batch_size=30,num_epochs=1)\n",
    "conv_3d1_model=conv_3d1.define_model()\n",
    "conv_3d1_model.summary()"
   ]
  },
  {
   "cell_type": "code",
   "execution_count": null,
   "metadata": {
    "colab": {
     "base_uri": "https://localhost:8080/",
     "height": 221
    },
    "id": "Dvylnb8k0y7W",
    "outputId": "46563d55-0e71-4332-ff9d-9c3264fe3ef2"
   },
   "outputs": [
    {
     "data": {
      "text/plain": [
       "<matplotlib.image.AxesImage at 0x7f9f86166a50>"
      ]
     },
     "execution_count": 24,
     "metadata": {},
     "output_type": "execute_result"
    },
    {
     "data": {
      "image/png": "[encoded data removed]",
      "text/plain": [
       "<Figure size 432x288 with 2 Axes>"
      ]
     },
     "metadata": {
      "needs_background": "light"
     },
     "output_type": "display_data"
    }
   ],
   "source": [
    "# Sample Cropping\n",
    "test_generator=ModelConv3D1()\n",
    "test_generator.initialize_path(project_folder)\n",
    "test_generator.initialize_image_properties(image_height=160,image_width=160)\n",
    "test_generator.initialize_hyperparams(frames_to_sample=30,batch_size=3,num_epochs=1)\n",
    "\n",
    "g=test_generator.generator(test_generator.val_path,test_generator.val_doc,augment=True)\n",
    "batch_data, batch_labels=next(g)\n",
    "fig, axes = plt.subplots(nrows=1, ncols=2)\n",
    "axes[0].imshow(batch_data[0,15,:,:,:])   \n",
    "axes[1].imshow(batch_data[3,15,:,:,:])"
   ]
  },
  {
   "cell_type": "code",
   "execution_count": null,
   "metadata": {
    "id": "mB6XWNLL1OSb"
   },
   "outputs": [],
   "source": []
  },
  {
   "cell_type": "markdown",
   "metadata": {
    "id": "hljlL2Og1Xkz"
   },
   "source": [
    "## Approach\n",
    "\n",
    "We will use following three deep learning architectures to come up with an optimum model\n",
    "<ol>\n",
    "    <li>3D Convolutional layers model.</li>\n",
    "    <li>2D Convolutional layers for feature identification + RNN layers (LSTM + GRU) for gesture recognition.</li>\n",
    "    <li>Use transfer learning with a pre-builit model such as MobileNet for feature detection + RNN layers (LSTM + GRU) for gesture recognition.</li>\n",
    "</ol>"
   ]
  },
  {
   "cell_type": "markdown",
   "metadata": {
    "id": "Jo5OqQao6qNf"
   },
   "source": [
    "#### Experiemnts \n",
    "trying to understand how the image resolution and number of images, batch size affect the training time"
   ]
  },
  {
   "cell_type": "code",
   "execution_count": null,
   "metadata": {
    "colab": {
     "base_uri": "https://localhost:8080/"
    },
    "id": "J65jZWOm3N8p",
    "outputId": "6b7832bd-b9d6-4c18-ad5f-e5b1b47a8bba"
   },
   "outputs": [
    {
     "name": "stderr",
     "output_type": "stream",
     "text": [
      "WARNING:tensorflow:`period` argument is deprecated. Please use `save_freq` to specify the frequency in number of batches seen.\n"
     ]
    },
    {
     "name": "stdout",
     "output_type": "stream",
     "text": [
      "Total Params: 1736389\n",
      "Epoch 1/3\n",
      "23/23 [==============================] - ETA: 0s - loss: 1.6043 - categorical_accuracy: 0.4027\n",
      "Epoch 1: val_loss improved from inf to 3.04552, saving model to model_init_2022-08-1311_01_48.628712/model-00001-1.60434-0.40271-3.04552-0.16000.h5\n",
      "23/23 [==============================] - 62s 3s/step - loss: 1.6043 - categorical_accuracy: 0.4027 - val_loss: 3.0455 - val_categorical_accuracy: 0.1600 - lr: 0.0010\n",
      "Epoch 2/3\n",
      "23/23 [==============================] - ETA: 0s - loss: 1.0876 - categorical_accuracy: 0.5535\n",
      "Epoch 2: val_loss did not improve from 3.04552\n",
      "23/23 [==============================] - 53s 2s/step - loss: 1.0876 - categorical_accuracy: 0.5535 - val_loss: 7.0016 - val_categorical_accuracy: 0.1600 - lr: 0.0010\n",
      "Epoch 3/3\n",
      "23/23 [==============================] - ETA: 0s - loss: 0.9700 - categorical_accuracy: 0.6094\n",
      "Epoch 3: val_loss did not improve from 3.04552\n",
      "23/23 [==============================] - 52s 2s/step - loss: 0.9700 - categorical_accuracy: 0.6094 - val_loss: 11.1392 - val_categorical_accuracy: 0.1900 - lr: 0.0010\n"
     ]
    },
    {
     "data": {
      "text/plain": [
       "<keras.callbacks.History at 0x7f9f86317610>"
      ]
     },
     "execution_count": 29,
     "metadata": {},
     "output_type": "execute_result"
    }
   ],
   "source": [
    "# 160, 160, 16, 30\n",
    "conv_3d1=ModelConv3D1()\n",
    "conv_3d1.initialize_path(project_folder)\n",
    "conv_3d1.initialize_image_properties(image_height=160,image_width=160)\n",
    "conv_3d1.initialize_hyperparams(frames_to_sample=16,batch_size=30,num_epochs=3)\n",
    "conv_3d1_model=conv_3d1.define_model()\n",
    "print(\"Total Params:\", conv_3d1_model.count_params())\n",
    "conv_3d1.train_model(conv_3d1_model)"
   ]
  },
  {
   "cell_type": "code",
   "execution_count": null,
   "metadata": {
    "id": "BH_BeTViSok4"
   },
   "outputs": [],
   "source": [
    "### Facing runtime issues with google colab while runnning above code"
   ]
  },
  {
   "cell_type": "code",
   "execution_count": null,
   "metadata": {
    "colab": {
     "base_uri": "https://localhost:8080/"
    },
    "id": "pH2leTi57D9D",
    "outputId": "9efb00f2-7467-4b11-9dfb-7809f5fa3efd"
   },
   "outputs": [
    {
     "name": "stderr",
     "output_type": "stream",
     "text": [
      "WARNING:tensorflow:`period` argument is deprecated. Please use `save_freq` to specify the frequency in number of batches seen.\n"
     ]
    },
    {
     "name": "stdout",
     "output_type": "stream",
     "text": [
      "Total Params: 687813\n",
      "Epoch 1/3\n",
      "23/23 [==============================] - ETA: 0s - loss: 1.7212 - categorical_accuracy: 0.3922\n",
      "Epoch 1: val_loss improved from inf to 2.01839, saving model to model_init_2022-08-1311_05_50.981355/model-00001-1.72123-0.39216-2.01839-0.21000.h5\n",
      "23/23 [==============================] - 47s 2s/step - loss: 1.7212 - categorical_accuracy: 0.3922 - val_loss: 2.0184 - val_categorical_accuracy: 0.2100 - lr: 0.0010\n",
      "Epoch 2/3\n",
      "23/23 [==============================] - ETA: 0s - loss: 1.2001 - categorical_accuracy: 0.5354\n",
      "Epoch 2: val_loss did not improve from 2.01839\n",
      "23/23 [==============================] - 46s 2s/step - loss: 1.2001 - categorical_accuracy: 0.5354 - val_loss: 3.6195 - val_categorical_accuracy: 0.1900 - lr: 0.0010\n",
      "Epoch 3/3\n",
      "23/23 [==============================] - ETA: 0s - loss: 0.9763 - categorical_accuracy: 0.6214\n",
      "Epoch 3: val_loss did not improve from 2.01839\n",
      "23/23 [==============================] - 45s 2s/step - loss: 0.9763 - categorical_accuracy: 0.6214 - val_loss: 4.7037 - val_categorical_accuracy: 0.2100 - lr: 0.0010\n"
     ]
    },
    {
     "data": {
      "text/plain": [
       "<keras.callbacks.History at 0x7f9f0ce38f90>"
      ]
     },
     "execution_count": 30,
     "metadata": {},
     "output_type": "execute_result"
    }
   ],
   "source": [
    "# 100, 100, 16, 30\n",
    "conv_3d1=ModelConv3D1()\n",
    "conv_3d1.initialize_path(project_folder)\n",
    "conv_3d1.initialize_image_properties(image_height=100,image_width=100)\n",
    "conv_3d1.initialize_hyperparams(frames_to_sample=16,batch_size=30,num_epochs=3)\n",
    "conv_3d1_model=conv_3d1.define_model()\n",
    "print(\"Total Params:\", conv_3d1_model.count_params())\n",
    "conv_3d1.train_model(conv_3d1_model)"
   ]
  },
  {
   "cell_type": "code",
   "execution_count": null,
   "metadata": {
    "colab": {
     "base_uri": "https://localhost:8080/"
    },
    "id": "9IXQKHy097iS",
    "outputId": "2008dfad-b1b2-4c85-86c6-d75a6a61c5d2"
   },
   "outputs": [
    {
     "name": "stderr",
     "output_type": "stream",
     "text": [
      "WARNING:tensorflow:`period` argument is deprecated. Please use `save_freq` to specify the frequency in number of batches seen.\n"
     ]
    },
    {
     "name": "stdout",
     "output_type": "stream",
     "text": [
      "Total Params: 687813\n",
      "Epoch 1/2\n",
      "12/12 [==============================] - ETA: 0s - loss: 1.7981 - categorical_accuracy: 0.3514\n",
      "Epoch 1: val_loss improved from inf to 1.61561, saving model to model_init_2022-08-1311_11_38.952546/model-00001-1.79814-0.35143-1.61561-0.16000.h5\n",
      "12/12 [==============================] - 49s 4s/step - loss: 1.7981 - categorical_accuracy: 0.3514 - val_loss: 1.6156 - val_categorical_accuracy: 0.1600 - lr: 0.0010\n",
      "Epoch 2/2\n",
      "11/12 [==========================>...] - ETA: 3s - loss: 1.2334 - categorical_accuracy: 0.5015\n",
      "Epoch 2: val_loss did not improve from 1.61561\n",
      "12/12 [==============================] - 45s 4s/step - loss: 1.2380 - categorical_accuracy: 0.5023 - val_loss: 2.6453 - val_categorical_accuracy: 0.1600 - lr: 0.0010\n"
     ]
    },
    {
     "data": {
      "text/plain": [
       "<keras.callbacks.History at 0x7f9f0caa0150>"
      ]
     },
     "execution_count": 31,
     "metadata": {},
     "output_type": "execute_result"
    }
   ],
   "source": [
    "# 100, 100, 16, 60\n",
    "conv_3d1=ModelConv3D1()\n",
    "conv_3d1.initialize_path(project_folder)\n",
    "conv_3d1.initialize_image_properties(image_height=100,image_width=100)\n",
    "conv_3d1.initialize_hyperparams(frames_to_sample=16,batch_size=60,num_epochs=2)\n",
    "conv_3d1_model=conv_3d1.define_model()\n",
    "print(\"Total Params:\", conv_3d1_model.count_params())\n",
    "conv_3d1.train_model(conv_3d1_model)"
   ]
  },
  {
   "cell_type": "code",
   "execution_count": null,
   "metadata": {
    "colab": {
     "base_uri": "https://localhost:8080/"
    },
    "id": "GyVCqdnM-k2O",
    "outputId": "58511be1-35b0-4840-d961-171e96b5e40d"
   },
   "outputs": [
    {
     "name": "stderr",
     "output_type": "stream",
     "text": [
      "WARNING:tensorflow:`period` argument is deprecated. Please use `save_freq` to specify the frequency in number of batches seen.\n"
     ]
    },
    {
     "name": "stdout",
     "output_type": "stream",
     "text": [
      "Total Params: 1736389\n",
      "Epoch 1/2\n",
      "45/45 [==============================] - ETA: 0s - loss: 1.6258 - categorical_accuracy: 0.4012\n",
      "Epoch 1: val_loss improved from inf to 3.54728, saving model to model_init_2022-08-1311_14_05.649034/model-00001-1.62581-0.40121-3.54728-0.23000.h5\n",
      "45/45 [==============================] - 52s 1s/step - loss: 1.6258 - categorical_accuracy: 0.4012 - val_loss: 3.5473 - val_categorical_accuracy: 0.2300 - lr: 0.0010\n",
      "Epoch 2/2\n",
      "45/45 [==============================] - ETA: 0s - loss: 1.1722 - categorical_accuracy: 0.5339\n",
      "Epoch 2: val_loss did not improve from 3.54728\n",
      "45/45 [==============================] - 51s 1s/step - loss: 1.1722 - categorical_accuracy: 0.5339 - val_loss: 3.6397 - val_categorical_accuracy: 0.2300 - lr: 0.0010\n"
     ]
    },
    {
     "data": {
      "text/plain": [
       "<keras.callbacks.History at 0x7f9f0c666b50>"
      ]
     },
     "execution_count": 32,
     "metadata": {},
     "output_type": "execute_result"
    }
   ],
   "source": [
    "# 160, 160, 16, 15\n",
    "conv_3d1=ModelConv3D1()\n",
    "conv_3d1.initialize_path(project_folder)\n",
    "conv_3d1.initialize_image_properties(image_height=160,image_width=160)\n",
    "conv_3d1.initialize_hyperparams(frames_to_sample=16,batch_size=15,num_epochs=2)\n",
    "conv_3d1_model=conv_3d1.define_model()\n",
    "print(\"Total Params:\", conv_3d1_model.count_params())\n",
    "conv_3d1.train_model(conv_3d1_model)"
   ]
  },
  {
   "cell_type": "code",
   "execution_count": null,
   "metadata": {
    "colab": {
     "base_uri": "https://localhost:8080/"
    },
    "id": "_VUTF7Od-zhu",
    "outputId": "f60fc3b3-d1f2-4720-c507-904621fe9b41"
   },
   "outputs": [
    {
     "name": "stderr",
     "output_type": "stream",
     "text": [
      "WARNING:tensorflow:`period` argument is deprecated. Please use `save_freq` to specify the frequency in number of batches seen.\n"
     ]
    },
    {
     "name": "stdout",
     "output_type": "stream",
     "text": [
      "Total Params: 687813\n",
      "Epoch 1/2\n",
      "45/45 [==============================] - ETA: 0s - loss: 1.7016 - categorical_accuracy: 0.3937\n",
      "Epoch 1: val_loss improved from inf to 4.79564, saving model to model_init_2022-08-1311_22_39.777402/model-00001-1.70162-0.39367-4.79564-0.21000.h5\n",
      "45/45 [==============================] - 47s 1s/step - loss: 1.7016 - categorical_accuracy: 0.3937 - val_loss: 4.7956 - val_categorical_accuracy: 0.2100 - lr: 0.0010\n",
      "Epoch 2/2\n",
      "45/45 [==============================] - ETA: 0s - loss: 1.2417 - categorical_accuracy: 0.5158\n",
      "Epoch 2: val_loss did not improve from 4.79564\n",
      "45/45 [==============================] - 46s 1s/step - loss: 1.2417 - categorical_accuracy: 0.5158 - val_loss: 7.6838 - val_categorical_accuracy: 0.1900 - lr: 0.0010\n"
     ]
    },
    {
     "data": {
      "text/plain": [
       "<keras.callbacks.History at 0x7f9f0c264250>"
      ]
     },
     "execution_count": 33,
     "metadata": {},
     "output_type": "execute_result"
    }
   ],
   "source": [
    "# 100, 100, 16, 15\n",
    "conv_3d1=ModelConv3D1()\n",
    "conv_3d1.initialize_path(project_folder)\n",
    "conv_3d1.initialize_image_properties(image_height=100,image_width=100)\n",
    "conv_3d1.initialize_hyperparams(frames_to_sample=16,batch_size=15,num_epochs=2)\n",
    "conv_3d1_model=conv_3d1.define_model()\n",
    "print(\"Total Params:\", conv_3d1_model.count_params())\n",
    "conv_3d1.train_model(conv_3d1_model)"
   ]
  },
  {
   "cell_type": "markdown",
   "metadata": {
    "id": "Xv_Zul818fus"
   },
   "source": [
    "### Conclusion of Experiments\n",
    "- As we see from the above experiments image resolution and number of frames in sequence have a direct impact on training time than batch_size\n",
    "\n",
    "- From the above observations, we fixed the <em>batch size between 15 and 40</em>. We changed the <em>resolution and number of image per sequence</em> based on the device memory constraints (100, 120). \n",
    "- Models are designed such that their memory foot print is less than 50 MB"
   ]
  },
  {
   "cell_type": "markdown",
   "metadata": {
    "id": "jYSlhYeq9oCy"
   },
   "source": [
    "## Model 1\n",
    "- Batch Size: 40\n",
    "- Epoch: 15"
   ]
  },
  {
   "cell_type": "code",
   "execution_count": 20,
   "metadata": {
    "executionInfo": {
     "elapsed": 564,
     "status": "ok",
     "timestamp": 1660475686682,
     "user": {
      "displayName": "Deepak Hiremath",
      "userId": "06961457277516205177"
     },
     "user_tz": -330
    },
    "id": "iuSpvXfLDzrA"
   },
   "outputs": [],
   "source": [
    "## Plotting\n",
    "#Function to plot validation and training metrics\n",
    "\n",
    "def plot(history):\n",
    "    fig, axes = plt.subplots(nrows=1, ncols=2, figsize=(15,4))\n",
    "    axes[0].plot(history.history['loss'])   \n",
    "    axes[0].plot(history.history['val_loss'])\n",
    "    axes[0].legend(['loss','val_loss'])\n",
    "\n",
    "    axes[1].plot(history.history['categorical_accuracy'])   \n",
    "    axes[1].plot(history.history['val_categorical_accuracy'])\n",
    "    axes[1].legend(['categorical_accuracy','val_categorical_accuracy'])"
   ]
  },
  {
   "cell_type": "code",
   "execution_count": null,
   "metadata": {
    "id": "GGzoXcAM9Ohz"
   },
   "outputs": [],
   "source": [
    "# derive a new model class from abstract model class\n",
    "# this will have the new model architecture\n",
    "\n",
    "class ModelConv3D1(ModelBuilder):\n",
    "    \n",
    "    def define_model(self,filtersize=(3,3,3),dense_neurons=64,dropout=0.25):\n",
    "\n",
    "        model = Sequential()\n",
    "        model.add(Conv3D(16, filtersize, padding='same',\n",
    "                 input_shape=(self.frames_to_sample,self.image_height,self.image_width,self.channels)))\n",
    "        model.add(Activation('relu'))\n",
    "        model.add(BatchNormalization())\n",
    "        model.add(MaxPooling3D(pool_size=(2, 2, 2)))\n",
    "\n",
    "        model.add(Conv3D(32, filtersize, padding='same'))\n",
    "        model.add(Activation('relu'))\n",
    "        model.add(BatchNormalization())\n",
    "        model.add(MaxPooling3D(pool_size=(2, 2, 2)))\n",
    "\n",
    "        model.add(Conv3D(64, filtersize, padding='same'))\n",
    "        model.add(Activation('relu'))\n",
    "        model.add(BatchNormalization())\n",
    "        model.add(MaxPooling3D(pool_size=(2, 2, 2)))\n",
    "\n",
    "        model.add(Conv3D(128, filtersize, padding='same'))\n",
    "        model.add(Activation('relu'))\n",
    "        model.add(BatchNormalization())\n",
    "        model.add(MaxPooling3D(pool_size=(2, 2, 2)))\n",
    "\n",
    "        model.add(Flatten())\n",
    "        model.add(Dense(dense_neurons,activation='relu'))\n",
    "        model.add(BatchNormalization())\n",
    "        model.add(Dropout(dropout))\n",
    "\n",
    "        model.add(Dense(dense_neurons,activation='relu'))\n",
    "        model.add(BatchNormalization())\n",
    "        model.add(Dropout(dropout))\n",
    "\n",
    "\n",
    "        model.add(Dense(self.num_classes,activation='softmax'))\n",
    "\n",
    "        optimiser = optimizers.Adam()\n",
    "        model.compile(optimizer=optimiser, loss='categorical_crossentropy', metrics=['categorical_accuracy'])\n",
    "        return model"
   ]
  },
  {
   "cell_type": "code",
   "execution_count": null,
   "metadata": {
    "colab": {
     "base_uri": "https://localhost:8080/"
    },
    "id": "SzLCHgS8AJwa",
    "outputId": "da52b1bf-bb80-45b7-8687-04adaf5a1fc6"
   },
   "outputs": [
    {
     "name": "stdout",
     "output_type": "stream",
     "text": [
      "Model: \"sequential_11\"\n",
      "_________________________________________________________________\n",
      " Layer (type)                Output Shape              Param #   \n",
      "=================================================================\n",
      " conv3d_44 (Conv3D)          (None, 20, 160, 160, 16)  1312      \n",
      "                                                                 \n",
      " activation_44 (Activation)  (None, 20, 160, 160, 16)  0         \n",
      "                                                                 \n",
      " batch_normalization_66 (Bat  (None, 20, 160, 160, 16)  64       \n",
      " chNormalization)                                                \n",
      "                                                                 \n",
      " max_pooling3d_44 (MaxPoolin  (None, 10, 80, 80, 16)   0         \n",
      " g3D)                                                            \n",
      "                                                                 \n",
      " conv3d_45 (Conv3D)          (None, 10, 80, 80, 32)    13856     \n",
      "                                                                 \n",
      " activation_45 (Activation)  (None, 10, 80, 80, 32)    0         \n",
      "                                                                 \n",
      " batch_normalization_67 (Bat  (None, 10, 80, 80, 32)   128       \n",
      " chNormalization)                                                \n",
      "                                                                 \n",
      " max_pooling3d_45 (MaxPoolin  (None, 5, 40, 40, 32)    0         \n",
      " g3D)                                                            \n",
      "                                                                 \n",
      " conv3d_46 (Conv3D)          (None, 5, 40, 40, 64)     55360     \n",
      "                                                                 \n",
      " activation_46 (Activation)  (None, 5, 40, 40, 64)     0         \n",
      "                                                                 \n",
      " batch_normalization_68 (Bat  (None, 5, 40, 40, 64)    256       \n",
      " chNormalization)                                                \n",
      "                                                                 \n",
      " max_pooling3d_46 (MaxPoolin  (None, 2, 20, 20, 64)    0         \n",
      " g3D)                                                            \n",
      "                                                                 \n",
      " conv3d_47 (Conv3D)          (None, 2, 20, 20, 128)    221312    \n",
      "                                                                 \n",
      " activation_47 (Activation)  (None, 2, 20, 20, 128)    0         \n",
      "                                                                 \n",
      " batch_normalization_69 (Bat  (None, 2, 20, 20, 128)   512       \n",
      " chNormalization)                                                \n",
      "                                                                 \n",
      " max_pooling3d_47 (MaxPoolin  (None, 1, 10, 10, 128)   0         \n",
      " g3D)                                                            \n",
      "                                                                 \n",
      " flatten_11 (Flatten)        (None, 12800)             0         \n",
      "                                                                 \n",
      " dense_33 (Dense)            (None, 64)                819264    \n",
      "                                                                 \n",
      " batch_normalization_70 (Bat  (None, 64)               256       \n",
      " chNormalization)                                                \n",
      "                                                                 \n",
      " dropout_22 (Dropout)        (None, 64)                0         \n",
      "                                                                 \n",
      " dense_34 (Dense)            (None, 64)                4160      \n",
      "                                                                 \n",
      " batch_normalization_71 (Bat  (None, 64)               256       \n",
      " chNormalization)                                                \n",
      "                                                                 \n",
      " dropout_23 (Dropout)        (None, 64)                0         \n",
      "                                                                 \n",
      " dense_35 (Dense)            (None, 5)                 325       \n",
      "                                                                 \n",
      "=================================================================\n",
      "Total params: 1,117,061\n",
      "Trainable params: 1,116,325\n",
      "Non-trainable params: 736\n",
      "_________________________________________________________________\n"
     ]
    }
   ],
   "source": [
    "# create the model and set the hyperparamters\n",
    "\n",
    "conv_3d1=ModelConv3D1()\n",
    "conv_3d1.initialize_path(project_folder)\n",
    "conv_3d1.initialize_image_properties(image_height=160,image_width=160)\n",
    "conv_3d1.initialize_hyperparams(frames_to_sample=20,batch_size=40,num_epochs=15)\n",
    "conv_3d1_model=conv_3d1.define_model()\n",
    "conv_3d1_model.summary()"
   ]
  },
  {
   "cell_type": "code",
   "execution_count": null,
   "metadata": {
    "colab": {
     "base_uri": "https://localhost:8080/"
    },
    "id": "7UApfvtVAPqV",
    "outputId": "893faeb2-75bc-4442-dc25-4018b8c2cfb5"
   },
   "outputs": [
    {
     "name": "stderr",
     "output_type": "stream",
     "text": [
      "WARNING:tensorflow:`period` argument is deprecated. Please use `save_freq` to specify the frequency in number of batches seen.\n"
     ]
    },
    {
     "name": "stdout",
     "output_type": "stream",
     "text": [
      "Total Params: 1117061\n",
      "Epoch 1/15\n",
      "17/17 [==============================] - ETA: 0s - loss: 1.5563 - categorical_accuracy: 0.4042\n",
      "Epoch 1: saving model to model_init_2022-08-1312_05_20.251316/model-00001-1.55631-0.40422-1.54030-0.23000.h5\n",
      "17/17 [==============================] - 81s 5s/step - loss: 1.5563 - categorical_accuracy: 0.4042 - val_loss: 1.5403 - val_categorical_accuracy: 0.2300 - lr: 0.0010\n",
      "Epoch 2/15\n",
      "17/17 [==============================] - ETA: 0s - loss: 1.1198 - categorical_accuracy: 0.5505\n",
      "Epoch 2: saving model to model_init_2022-08-1312_05_20.251316/model-00002-1.11977-0.55053-4.42296-0.20000.h5\n",
      "17/17 [==============================] - 86s 5s/step - loss: 1.1198 - categorical_accuracy: 0.5505 - val_loss: 4.4230 - val_categorical_accuracy: 0.2000 - lr: 0.0010\n",
      "Epoch 3/15\n",
      "17/17 [==============================] - ETA: 0s - loss: 0.7921 - categorical_accuracy: 0.6938\n",
      "Epoch 3: saving model to model_init_2022-08-1312_05_20.251316/model-00003-0.79209-0.69382-5.60791-0.13000.h5\n",
      "17/17 [==============================] - 86s 5s/step - loss: 0.7921 - categorical_accuracy: 0.6938 - val_loss: 5.6079 - val_categorical_accuracy: 0.1300 - lr: 0.0010\n",
      "Epoch 4/15\n",
      "17/17 [==============================] - ETA: 0s - loss: 0.5934 - categorical_accuracy: 0.7843\n",
      "Epoch 4: saving model to model_init_2022-08-1312_05_20.251316/model-00004-0.59335-0.78431-5.72754-0.16000.h5\n",
      "17/17 [==============================] - 88s 5s/step - loss: 0.5934 - categorical_accuracy: 0.7843 - val_loss: 5.7275 - val_categorical_accuracy: 0.1600 - lr: 0.0010\n",
      "Epoch 5/15\n",
      "17/17 [==============================] - ETA: 0s - loss: 0.4544 - categorical_accuracy: 0.8462\n",
      "Epoch 5: saving model to model_init_2022-08-1312_05_20.251316/model-00005-0.45435-0.84615-5.75700-0.18000.h5\n",
      "\n",
      "Epoch 5: ReduceLROnPlateau reducing learning rate to 0.00020000000949949026.\n",
      "17/17 [==============================] - 89s 6s/step - loss: 0.4544 - categorical_accuracy: 0.8462 - val_loss: 5.7570 - val_categorical_accuracy: 0.1800 - lr: 0.0010\n",
      "Epoch 6/15\n",
      "17/17 [==============================] - ETA: 0s - loss: 0.3439 - categorical_accuracy: 0.8944\n",
      "Epoch 6: saving model to model_init_2022-08-1312_05_20.251316/model-00006-0.34386-0.89442-6.38267-0.16000.h5\n",
      "17/17 [==============================] - 91s 6s/step - loss: 0.3439 - categorical_accuracy: 0.8944 - val_loss: 6.3827 - val_categorical_accuracy: 0.1600 - lr: 2.0000e-04\n",
      "Epoch 7/15\n",
      "17/17 [==============================] - ETA: 0s - loss: 0.2961 - categorical_accuracy: 0.9155\n",
      "Epoch 7: saving model to model_init_2022-08-1312_05_20.251316/model-00007-0.29612-0.91554-6.08937-0.16000.h5\n",
      "17/17 [==============================] - 90s 6s/step - loss: 0.2961 - categorical_accuracy: 0.9155 - val_loss: 6.0894 - val_categorical_accuracy: 0.1600 - lr: 2.0000e-04\n",
      "Epoch 8/15\n",
      "17/17 [==============================] - ETA: 0s - loss: 0.2495 - categorical_accuracy: 0.9261\n",
      "Epoch 8: saving model to model_init_2022-08-1312_05_20.251316/model-00008-0.24948-0.92609-5.29978-0.18000.h5\n",
      "17/17 [==============================] - 88s 5s/step - loss: 0.2495 - categorical_accuracy: 0.9261 - val_loss: 5.2998 - val_categorical_accuracy: 0.1800 - lr: 2.0000e-04\n",
      "Epoch 9/15\n",
      "17/17 [==============================] - ETA: 0s - loss: 0.1865 - categorical_accuracy: 0.9653\n",
      "Epoch 9: saving model to model_init_2022-08-1312_05_20.251316/model-00009-0.18651-0.96531-5.83745-0.17000.h5\n",
      "\n",
      "Epoch 9: ReduceLROnPlateau reducing learning rate to 4.0000001899898055e-05.\n",
      "17/17 [==============================] - 86s 5s/step - loss: 0.1865 - categorical_accuracy: 0.9653 - val_loss: 5.8375 - val_categorical_accuracy: 0.1700 - lr: 2.0000e-04\n",
      "Epoch 10/15\n",
      "17/17 [==============================] - ETA: 0s - loss: 0.1668 - categorical_accuracy: 0.9668\n",
      "Epoch 10: saving model to model_init_2022-08-1312_05_20.251316/model-00010-0.16676-0.96682-5.81132-0.17000.h5\n",
      "17/17 [==============================] - 87s 5s/step - loss: 0.1668 - categorical_accuracy: 0.9668 - val_loss: 5.8113 - val_categorical_accuracy: 0.1700 - lr: 4.0000e-05\n",
      "Epoch 11/15\n",
      "17/17 [==============================] - ETA: 0s - loss: 0.1733 - categorical_accuracy: 0.9683\n",
      "Epoch 11: saving model to model_init_2022-08-1312_05_20.251316/model-00011-0.17333-0.96833-5.94163-0.22000.h5\n",
      "17/17 [==============================] - 89s 6s/step - loss: 0.1733 - categorical_accuracy: 0.9683 - val_loss: 5.9416 - val_categorical_accuracy: 0.2200 - lr: 4.0000e-05\n",
      "Epoch 12/15\n",
      "17/17 [==============================] - ETA: 0s - loss: 0.1503 - categorical_accuracy: 0.9774\n",
      "Epoch 12: saving model to model_init_2022-08-1312_05_20.251316/model-00012-0.15032-0.97738-5.94968-0.19000.h5\n",
      "17/17 [==============================] - 86s 5s/step - loss: 0.1503 - categorical_accuracy: 0.9774 - val_loss: 5.9497 - val_categorical_accuracy: 0.1900 - lr: 4.0000e-05\n",
      "Epoch 13/15\n",
      "17/17 [==============================] - ETA: 0s - loss: 0.1638 - categorical_accuracy: 0.9729\n",
      "Epoch 13: saving model to model_init_2022-08-1312_05_20.251316/model-00013-0.16380-0.97285-5.95174-0.22000.h5\n",
      "\n",
      "Epoch 13: ReduceLROnPlateau reducing learning rate to 8.000000525498762e-06.\n",
      "17/17 [==============================] - 84s 5s/step - loss: 0.1638 - categorical_accuracy: 0.9729 - val_loss: 5.9517 - val_categorical_accuracy: 0.2200 - lr: 4.0000e-05\n",
      "Epoch 14/15\n",
      "17/17 [==============================] - ETA: 0s - loss: 0.1524 - categorical_accuracy: 0.9698\n",
      "Epoch 14: saving model to model_init_2022-08-1312_05_20.251316/model-00014-0.15241-0.96983-5.94315-0.25000.h5\n",
      "17/17 [==============================] - 89s 6s/step - loss: 0.1524 - categorical_accuracy: 0.9698 - val_loss: 5.9432 - val_categorical_accuracy: 0.2500 - lr: 8.0000e-06\n",
      "Epoch 15/15\n",
      "17/17 [==============================] - ETA: 0s - loss: 0.1492 - categorical_accuracy: 0.9713\n",
      "Epoch 15: saving model to model_init_2022-08-1312_05_20.251316/model-00015-0.14922-0.97134-6.27223-0.20000.h5\n",
      "17/17 [==============================] - 84s 5s/step - loss: 0.1492 - categorical_accuracy: 0.9713 - val_loss: 6.2722 - val_categorical_accuracy: 0.2000 - lr: 8.0000e-06\n"
     ]
    }
   ],
   "source": [
    "# train the model\n",
    "\n",
    "print(\"Total Params:\", conv_3d1_model.count_params())\n",
    "history_model1 = conv_3d1.train_model(conv_3d1_model)"
   ]
  },
  {
   "cell_type": "code",
   "execution_count": null,
   "metadata": {
    "colab": {
     "base_uri": "https://localhost:8080/",
     "height": 265
    },
    "id": "QGeDIM2FAcxc",
    "outputId": "c58f3752-5afc-4590-f038-2c48e439ee12"
   },
   "outputs": [
    {
     "data": {
      "image/png": "[encoded data removed]",
      "text/plain": [
       "<Figure size 1080x288 with 2 Axes>"
      ]
     },
     "metadata": {
      "needs_background": "light"
     },
     "output_type": "display_data"
    }
   ],
   "source": [
    "# Plot the training and validation metrics\n",
    "\n",
    "plot(history_model1)"
   ]
  },
  {
   "cell_type": "markdown",
   "metadata": {
    "id": "dZiouwBf0BXc"
   },
   "source": [
    "## Observations: Model1\n",
    "- Models shows high training accuracy and low validation accuracy\n",
    "- Model is overfitting. So we will try to do data augumentation"
   ]
  },
  {
   "cell_type": "markdown",
   "metadata": {
    "id": "8gnuG5EkMoYO"
   },
   "source": [
    "## Model 2 - Augementation Implementation\n",
    "\n",
    "We are trying to handle the overfitting with augemetation and more epochs\n",
    "We also increased dropout from 0.25 to 0.5 to see if helps in underfitting\n",
    "\n",
    " - Data Augmentation - to address overfitting\n",
    " - Batch Size 20\n",
    " - Epoch from 15 to 25\n",
    " - Dropout from 0.5 to 0.25"
   ]
  },
  {
   "cell_type": "code",
   "execution_count": null,
   "metadata": {
    "colab": {
     "base_uri": "https://localhost:8080/"
    },
    "id": "h3T45eJ8EKLe",
    "outputId": "5f29557f-c8f8-47e8-8d51-ebfe90f91b44"
   },
   "outputs": [
    {
     "name": "stdout",
     "output_type": "stream",
     "text": [
      "Model: \"sequential_1\"\n",
      "_________________________________________________________________\n",
      " Layer (type)                Output Shape              Param #   \n",
      "=================================================================\n",
      " conv3d_4 (Conv3D)           (None, 20, 160, 160, 16)  1312      \n",
      "                                                                 \n",
      " activation_4 (Activation)   (None, 20, 160, 160, 16)  0         \n",
      "                                                                 \n",
      " batch_normalization_6 (Batc  (None, 20, 160, 160, 16)  64       \n",
      " hNormalization)                                                 \n",
      "                                                                 \n",
      " max_pooling3d_4 (MaxPooling  (None, 10, 80, 80, 16)   0         \n",
      " 3D)                                                             \n",
      "                                                                 \n",
      " conv3d_5 (Conv3D)           (None, 10, 80, 80, 32)    13856     \n",
      "                                                                 \n",
      " activation_5 (Activation)   (None, 10, 80, 80, 32)    0         \n",
      "                                                                 \n",
      " batch_normalization_7 (Batc  (None, 10, 80, 80, 32)   128       \n",
      " hNormalization)                                                 \n",
      "                                                                 \n",
      " max_pooling3d_5 (MaxPooling  (None, 5, 40, 40, 32)    0         \n",
      " 3D)                                                             \n",
      "                                                                 \n",
      " conv3d_6 (Conv3D)           (None, 5, 40, 40, 64)     55360     \n",
      "                                                                 \n",
      " activation_6 (Activation)   (None, 5, 40, 40, 64)     0         \n",
      "                                                                 \n",
      " batch_normalization_8 (Batc  (None, 5, 40, 40, 64)    256       \n",
      " hNormalization)                                                 \n",
      "                                                                 \n",
      " max_pooling3d_6 (MaxPooling  (None, 2, 20, 20, 64)    0         \n",
      " 3D)                                                             \n",
      "                                                                 \n",
      " conv3d_7 (Conv3D)           (None, 2, 20, 20, 128)    221312    \n",
      "                                                                 \n",
      " activation_7 (Activation)   (None, 2, 20, 20, 128)    0         \n",
      "                                                                 \n",
      " batch_normalization_9 (Batc  (None, 2, 20, 20, 128)   512       \n",
      " hNormalization)                                                 \n",
      "                                                                 \n",
      " max_pooling3d_7 (MaxPooling  (None, 1, 10, 10, 128)   0         \n",
      " 3D)                                                             \n",
      "                                                                 \n",
      " flatten_1 (Flatten)         (None, 12800)             0         \n",
      "                                                                 \n",
      " dense_3 (Dense)             (None, 256)               3277056   \n",
      "                                                                 \n",
      " batch_normalization_10 (Bat  (None, 256)              1024      \n",
      " chNormalization)                                                \n",
      "                                                                 \n",
      " dropout_2 (Dropout)         (None, 256)               0         \n",
      "                                                                 \n",
      " dense_4 (Dense)             (None, 256)               65792     \n",
      "                                                                 \n",
      " batch_normalization_11 (Bat  (None, 256)              1024      \n",
      " chNormalization)                                                \n",
      "                                                                 \n",
      " dropout_3 (Dropout)         (None, 256)               0         \n",
      "                                                                 \n",
      " dense_5 (Dense)             (None, 5)                 1285      \n",
      "                                                                 \n",
      "=================================================================\n",
      "Total params: 3,638,981\n",
      "Trainable params: 3,637,477\n",
      "Non-trainable params: 1,504\n",
      "_________________________________________________________________\n"
     ]
    }
   ],
   "source": [
    " # create the model and set hyperparameters\n",
    "\n",
    "conv_3d2=ModelConv3D1()\n",
    "conv_3d2.initialize_path(project_folder)\n",
    "conv_3d2.initialize_image_properties(image_height=160,image_width=160)\n",
    "conv_3d2.initialize_hyperparams(frames_to_sample=20,batch_size=20,num_epochs=25) # no. of epochs changed to 25\n",
    "conv_3d2_model=conv_3d2.define_model(dense_neurons=256,dropout=0.5) # dropout is 0.5\n",
    "conv_3d2_model.summary()"
   ]
  },
  {
   "cell_type": "code",
   "execution_count": null,
   "metadata": {
    "colab": {
     "base_uri": "https://localhost:8080/"
    },
    "id": "F6BpnBIMOGHy",
    "outputId": "6e1190b8-2997-4fa2-8ecd-584090016647"
   },
   "outputs": [
    {
     "metadata": {
      "tags": null
     },
     "name": "stderr",
     "output_type": "stream",
     "text": [
      "WARNING:tensorflow:`period` argument is deprecated. Please use `save_freq` to specify the frequency in number of batches seen.\n"
     ]
    },
    {
     "name": "stdout",
     "output_type": "stream",
     "text": [
      "Total Params: 3638981\n",
      "Epoch 1/25\n",
      "34/34 [==============================] - ETA: 0s - loss: 1.9620 - categorical_accuracy: 0.3808\n",
      "Epoch 1: saving model to model_init_2022-08-1314_26_46.295002/model-00001-1.96198-0.38084-5.01717-0.23000.h5\n",
      "34/34 [==============================] - 129s 4s/step - loss: 1.9620 - categorical_accuracy: 0.3808 - val_loss: 5.0172 - val_categorical_accuracy: 0.2300 - lr: 0.0010\n",
      "Epoch 2/25\n",
      "34/34 [==============================] - ETA: 0s - loss: 1.3751 - categorical_accuracy: 0.5204\n",
      "Epoch 2: saving model to model_init_2022-08-1314_26_46.295002/model-00002-1.37508-0.52036-8.50359-0.14000.h5\n",
      "34/34 [==============================] - 136s 4s/step - loss: 1.3751 - categorical_accuracy: 0.5204 - val_loss: 8.5036 - val_categorical_accuracy: 0.1400 - lr: 0.0010\n",
      "Epoch 3/25\n",
      "34/34 [==============================] - ETA: 0s - loss: 1.1773 - categorical_accuracy: 0.5799\n",
      "Epoch 3: saving model to model_init_2022-08-1314_26_46.295002/model-00003-1.17733-0.57994-6.22655-0.21000.h5\n",
      "34/34 [==============================] - 132s 4s/step - loss: 1.1773 - categorical_accuracy: 0.5799 - val_loss: 6.2265 - val_categorical_accuracy: 0.2100 - lr: 0.0010\n",
      "Epoch 4/25\n",
      "34/34 [==============================] - ETA: 0s - loss: 0.9956 - categorical_accuracy: 0.6388\n",
      "Epoch 4: saving model to model_init_2022-08-1314_26_46.295002/model-00004-0.99557-0.63876-6.22321-0.18000.h5\n",
      "34/34 [==============================] - 132s 4s/step - loss: 0.9956 - categorical_accuracy: 0.6388 - val_loss: 6.2232 - val_categorical_accuracy: 0.1800 - lr: 0.0010\n",
      "Epoch 5/25\n",
      "34/34 [==============================] - ETA: 0s - loss: 0.9304 - categorical_accuracy: 0.6712\n",
      "Epoch 5: saving model to model_init_2022-08-1314_26_46.295002/model-00005-0.93038-0.67119-6.50380-0.24000.h5\n",
      "\n",
      "Epoch 5: ReduceLROnPlateau reducing learning rate to 0.00020000000949949026.\n",
      "34/34 [==============================] - 132s 4s/step - loss: 0.9304 - categorical_accuracy: 0.6712 - val_loss: 6.5038 - val_categorical_accuracy: 0.2400 - lr: 0.0010\n",
      "Epoch 6/25\n",
      "34/34 [==============================] - ETA: 0s - loss: 0.7179 - categorical_accuracy: 0.7262\n",
      "Epoch 6: saving model to model_init_2022-08-1314_26_46.295002/model-00006-0.71787-0.72624-5.36387-0.21000.h5\n",
      "34/34 [==============================] - 133s 4s/step - loss: 0.7179 - categorical_accuracy: 0.7262 - val_loss: 5.3639 - val_categorical_accuracy: 0.2100 - lr: 2.0000e-04\n",
      "Epoch 7/25\n",
      "34/34 [==============================] - ETA: 0s - loss: 0.6898 - categorical_accuracy: 0.7398\n",
      "Epoch 7: saving model to model_init_2022-08-1314_26_46.295002/model-00007-0.68983-0.73982-4.74435-0.30000.h5\n",
      "34/34 [==============================] - 131s 4s/step - loss: 0.6898 - categorical_accuracy: 0.7398 - val_loss: 4.7443 - val_categorical_accuracy: 0.3000 - lr: 2.0000e-04\n",
      "Epoch 8/25\n",
      "34/34 [==============================] - ETA: 0s - loss: 0.5829 - categorical_accuracy: 0.7805\n",
      "Epoch 8: saving model to model_init_2022-08-1314_26_46.295002/model-00008-0.58289-0.78054-4.75463-0.31000.h5\n",
      "34/34 [==============================] - 133s 4s/step - loss: 0.5829 - categorical_accuracy: 0.7805 - val_loss: 4.7546 - val_categorical_accuracy: 0.3100 - lr: 2.0000e-04\n",
      "Epoch 9/25\n",
      "34/34 [==============================] - ETA: 0s - loss: 0.7276 - categorical_accuracy: 0.7300\n",
      "Epoch 9: saving model to model_init_2022-08-1314_26_46.295002/model-00009-0.72762-0.73002-4.66812-0.26000.h5\n",
      "34/34 [==============================] - 129s 4s/step - loss: 0.7276 - categorical_accuracy: 0.7300 - val_loss: 4.6681 - val_categorical_accuracy: 0.2600 - lr: 2.0000e-04\n",
      "Epoch 10/25\n",
      "34/34 [==============================] - ETA: 0s - loss: 0.7031 - categorical_accuracy: 0.7443\n",
      "Epoch 10: saving model to model_init_2022-08-1314_26_46.295002/model-00010-0.70310-0.74434-3.45991-0.36000.h5\n",
      "34/34 [==============================] - 130s 4s/step - loss: 0.7031 - categorical_accuracy: 0.7443 - val_loss: 3.4599 - val_categorical_accuracy: 0.3600 - lr: 2.0000e-04\n",
      "Epoch 11/25\n",
      "34/34 [==============================] - ETA: 0s - loss: 0.5539 - categorical_accuracy: 0.8092\n",
      "Epoch 11: saving model to model_init_2022-08-1314_26_46.295002/model-00011-0.55388-0.80920-3.57731-0.34000.h5\n",
      "34/34 [==============================] - 130s 4s/step - loss: 0.5539 - categorical_accuracy: 0.8092 - val_loss: 3.5773 - val_categorical_accuracy: 0.3400 - lr: 2.0000e-04\n",
      "Epoch 12/25\n",
      "34/34 [==============================] - ETA: 0s - loss: 0.5182 - categorical_accuracy: 0.8084\n",
      "Epoch 12: saving model to model_init_2022-08-1314_26_46.295002/model-00012-0.51817-0.80845-3.27898-0.33000.h5\n",
      "34/34 [==============================] - 129s 4s/step - loss: 0.5182 - categorical_accuracy: 0.8084 - val_loss: 3.2790 - val_categorical_accuracy: 0.3300 - lr: 2.0000e-04\n",
      "Epoch 13/25\n",
      "34/34 [==============================] - ETA: 0s - loss: 0.5087 - categorical_accuracy: 0.7964\n",
      "Epoch 13: saving model to model_init_2022-08-1314_26_46.295002/model-00013-0.50867-0.79638-2.89995-0.34000.h5\n",
      "34/34 [==============================] - 125s 4s/step - loss: 0.5087 - categorical_accuracy: 0.7964 - val_loss: 2.8999 - val_categorical_accuracy: 0.3400 - lr: 2.0000e-04\n",
      "Epoch 14/25\n",
      "34/34 [==============================] - ETA: 0s - loss: 0.5116 - categorical_accuracy: 0.8092\n",
      "Epoch 14: saving model to model_init_2022-08-1314_26_46.295002/model-00014-0.51164-0.80920-2.62127-0.35000.h5\n",
      "34/34 [==============================] - 129s 4s/step - loss: 0.5116 - categorical_accuracy: 0.8092 - val_loss: 2.6213 - val_categorical_accuracy: 0.3500 - lr: 2.0000e-04\n",
      "Epoch 15/25\n",
      "34/34 [==============================] - ETA: 0s - loss: 0.4527 - categorical_accuracy: 0.8228\n",
      "Epoch 15: saving model to model_init_2022-08-1314_26_46.295002/model-00015-0.45269-0.82278-2.27891-0.36000.h5\n",
      "34/34 [==============================] - 132s 4s/step - loss: 0.4527 - categorical_accuracy: 0.8228 - val_loss: 2.2789 - val_categorical_accuracy: 0.3600 - lr: 2.0000e-04\n",
      "Epoch 16/25\n",
      "34/34 [==============================] - ETA: 0s - loss: 0.3873 - categorical_accuracy: 0.8544\n",
      "Epoch 16: saving model to model_init_2022-08-1314_26_46.295002/model-00016-0.38730-0.85445-2.10212-0.42000.h5\n",
      "34/34 [==============================] - 122s 4s/step - loss: 0.3873 - categorical_accuracy: 0.8544 - val_loss: 2.1021 - val_categorical_accuracy: 0.4200 - lr: 2.0000e-04\n",
      "Epoch 17/25\n",
      "34/34 [==============================] - ETA: 0s - loss: 0.4568 - categorical_accuracy: 0.8296\n",
      "Epoch 17: saving model to model_init_2022-08-1314_26_46.295002/model-00017-0.45683-0.82956-1.46059-0.59000.h5\n",
      "34/34 [==============================] - 128s 4s/step - loss: 0.4568 - categorical_accuracy: 0.8296 - val_loss: 1.4606 - val_categorical_accuracy: 0.5900 - lr: 2.0000e-04\n",
      "Epoch 18/25\n",
      "34/34 [==============================] - ETA: 0s - loss: 0.4632 - categorical_accuracy: 0.8318\n",
      "Epoch 18: saving model to model_init_2022-08-1314_26_46.295002/model-00018-0.46317-0.83183-1.79694-0.48000.h5\n",
      "34/34 [==============================] - 128s 4s/step - loss: 0.4632 - categorical_accuracy: 0.8318 - val_loss: 1.7969 - val_categorical_accuracy: 0.4800 - lr: 2.0000e-04\n",
      "Epoch 19/25\n",
      "34/34 [==============================] - ETA: 0s - loss: 0.3519 - categorical_accuracy: 0.8605\n",
      "Epoch 19: saving model to model_init_2022-08-1314_26_46.295002/model-00019-0.35188-0.86048-1.69259-0.55000.h5\n",
      "34/34 [==============================] - 129s 4s/step - loss: 0.3519 - categorical_accuracy: 0.8605 - val_loss: 1.6926 - val_categorical_accuracy: 0.5500 - lr: 2.0000e-04\n",
      "Epoch 20/25\n",
      "34/34 [==============================] - ETA: 0s - loss: 0.3450 - categorical_accuracy: 0.8718\n",
      "Epoch 20: saving model to model_init_2022-08-1314_26_46.295002/model-00020-0.34498-0.87179-1.31578-0.60000.h5\n",
      "34/34 [==============================] - 128s 4s/step - loss: 0.3450 - categorical_accuracy: 0.8718 - val_loss: 1.3158 - val_categorical_accuracy: 0.6000 - lr: 2.0000e-04\n",
      "Epoch 21/25\n",
      "34/34 [==============================] - ETA: 0s - loss: 0.3630 - categorical_accuracy: 0.8680\n",
      "Epoch 21: saving model to model_init_2022-08-1314_26_46.295002/model-00021-0.36301-0.86802-1.53220-0.57000.h5\n",
      "34/34 [==============================] - 120s 4s/step - loss: 0.3630 - categorical_accuracy: 0.8680 - val_loss: 1.5322 - val_categorical_accuracy: 0.5700 - lr: 2.0000e-04\n",
      "Epoch 22/25\n",
      "34/34 [==============================] - ETA: 0s - loss: 0.3254 - categorical_accuracy: 0.8786\n",
      "Epoch 22: saving model to model_init_2022-08-1314_26_46.295002/model-00022-0.32540-0.87858-0.93250-0.76000.h5\n",
      "34/34 [==============================] - 119s 4s/step - loss: 0.3254 - categorical_accuracy: 0.8786 - val_loss: 0.9325 - val_categorical_accuracy: 0.7600 - lr: 2.0000e-04\n",
      "Epoch 23/25\n",
      "34/34 [==============================] - ETA: 0s - loss: 0.2698 - categorical_accuracy: 0.9005\n",
      "Epoch 23: saving model to model_init_2022-08-1314_26_46.295002/model-00023-0.26975-0.90045-0.78135-0.78000.h5\n",
      "34/34 [==============================] - 127s 4s/step - loss: 0.2698 - categorical_accuracy: 0.9005 - val_loss: 0.7814 - val_categorical_accuracy: 0.7800 - lr: 2.0000e-04\n",
      "Epoch 24/25\n",
      "34/34 [==============================] - ETA: 0s - loss: 0.3357 - categorical_accuracy: 0.8801\n",
      "Epoch 24: saving model to model_init_2022-08-1314_26_46.295002/model-00024-0.33575-0.88009-1.03289-0.75000.h5\n",
      "34/34 [==============================] - 127s 4s/step - loss: 0.3357 - categorical_accuracy: 0.8801 - val_loss: 1.0329 - val_categorical_accuracy: 0.7500 - lr: 2.0000e-04\n",
      "Epoch 25/25\n",
      "34/34 [==============================] - ETA: 0s - loss: 0.4196 - categorical_accuracy: 0.8590\n",
      "Epoch 25: saving model to model_init_2022-08-1314_26_46.295002/model-00025-0.41955-0.85897-1.75559-0.64000.h5\n",
      "34/34 [==============================] - 128s 4s/step - loss: 0.4196 - categorical_accuracy: 0.8590 - val_loss: 1.7556 - val_categorical_accuracy: 0.6400 - lr: 2.0000e-04\n"
     ]
    }
   ],
   "source": [
    "# training the model\n",
    "\n",
    "print(\"Total Params:\", conv_3d2_model.count_params())\n",
    "history_model2=conv_3d2.train_model(conv_3d2_model,augment_data=True)"
   ]
  },
  {
   "cell_type": "code",
   "execution_count": null,
   "metadata": {
    "colab": {
     "base_uri": "https://localhost:8080/",
     "height": 265
    },
    "id": "QX-881trONbx",
    "outputId": "4b6b662b-bb17-4512-dea6-27db345f7ef7"
   },
   "outputs": [
    {
     "data": {
      "image/png": "[encoded data removed]",
      "text/plain": [
       "<Figure size 1080x288 with 2 Axes>"
      ]
     },
     "metadata": {
      "needs_background": "light"
     },
     "output_type": "display_data"
    }
   ],
   "source": [
    "# Plot the training and validation metrics\n",
    "\n",
    "plot(history_model2)"
   ]
  },
  {
   "cell_type": "markdown",
   "metadata": {
    "id": "J2MHbutGzI8C"
   },
   "source": [
    "### Observations of Model2\n",
    "\n",
    "- Model is not overfitting and we get a good training and validation accuracy of around 65%. \n",
    "- Next we will try some more methods, \n",
    "  - reduce the filter size\n",
    "  - reduce image resolution\n",
    "- Since we see oscillations in loss, let's try lowering the learning rate to 0.0002"
   ]
  },
  {
   "cell_type": "markdown",
   "metadata": {
    "id": "ZxrdYWAP1W-7"
   },
   "source": [
    "## Model 3: Reduced image resoltuion and filter size\n",
    "-  Reduce filter size to (2,2,2)\n",
    "-  Image resoultion reduced to 120 x  120"
   ]
  },
  {
   "cell_type": "code",
   "execution_count": 11,
   "metadata": {
    "executionInfo": {
     "elapsed": 381,
     "status": "ok",
     "timestamp": 1660450217672,
     "user": {
      "displayName": "Deepak Hiremath",
      "userId": "06961457277516205177"
     },
     "user_tz": -330
    },
    "id": "apIr_Q7DlE3W"
   },
   "outputs": [],
   "source": [
    "# derive a new model with new architecture with learning rate 0.0002\n",
    "\n",
    "class ModelConv3D3(ModelBuilder):\n",
    "    \n",
    "    def define_model(self,filtersize=(3,3,3),dense_neurons=64,dropout=0.25):\n",
    "\n",
    "        model = Sequential()\n",
    "        model.add(Conv3D(16, filtersize, padding='same',\n",
    "                 input_shape=(self.frames_to_sample,self.image_height,self.image_width,self.channels)))\n",
    "        model.add(Activation('relu'))\n",
    "        model.add(BatchNormalization())\n",
    "        model.add(MaxPooling3D(pool_size=(2, 2, 2)))\n",
    "\n",
    "        model.add(Conv3D(32, filtersize, padding='same'))\n",
    "        model.add(Activation('relu'))\n",
    "        model.add(BatchNormalization())\n",
    "        model.add(MaxPooling3D(pool_size=(2, 2, 2)))\n",
    "\n",
    "        model.add(Conv3D(64, filtersize, padding='same'))\n",
    "        model.add(Activation('relu'))\n",
    "        model.add(BatchNormalization())\n",
    "        model.add(MaxPooling3D(pool_size=(2, 2, 2)))\n",
    "\n",
    "        model.add(Conv3D(128, filtersize, padding='same'))\n",
    "        model.add(Activation('relu'))\n",
    "        model.add(BatchNormalization())\n",
    "        model.add(MaxPooling3D(pool_size=(2, 2, 2)))\n",
    "\n",
    "        model.add(Flatten())\n",
    "        model.add(Dense(dense_neurons,activation='relu'))\n",
    "        model.add(BatchNormalization())\n",
    "        model.add(Dropout(dropout))\n",
    "\n",
    "        model.add(Dense(dense_neurons,activation='relu'))\n",
    "        model.add(BatchNormalization())\n",
    "        model.add(Dropout(dropout))\n",
    "\n",
    "\n",
    "        model.add(Dense(self.num_classes,activation='softmax'))\n",
    "\n",
    "        optimiser = optimizers.Adam(lr=0.0002)\n",
    "        model.compile(optimizer=optimiser, loss='categorical_crossentropy', metrics=['categorical_accuracy'])\n",
    "        return model"
   ]
  },
  {
   "cell_type": "code",
   "execution_count": 12,
   "metadata": {
    "colab": {
     "base_uri": "https://localhost:8080/"
    },
    "executionInfo": {
     "elapsed": 4014,
     "status": "ok",
     "timestamp": 1660450224776,
     "user": {
      "displayName": "Deepak Hiremath",
      "userId": "06961457277516205177"
     },
     "user_tz": -330
    },
    "id": "4JD5HEkA24Km",
    "outputId": "b0019d5c-7c93-49d3-d4e9-cf6807b0cd58"
   },
   "outputs": [
    {
     "name": "stdout",
     "output_type": "stream",
     "text": [
      "Model: \"sequential\"\n",
      "_________________________________________________________________\n",
      " Layer (type)                Output Shape              Param #   \n",
      "=================================================================\n",
      " conv3d (Conv3D)             (None, 16, 120, 120, 16)  400       \n",
      "                                                                 \n",
      " activation (Activation)     (None, 16, 120, 120, 16)  0         \n",
      "                                                                 \n",
      " batch_normalization (BatchN  (None, 16, 120, 120, 16)  64       \n",
      " ormalization)                                                   \n",
      "                                                                 \n",
      " max_pooling3d (MaxPooling3D  (None, 8, 60, 60, 16)    0         \n",
      " )                                                               \n",
      "                                                                 \n",
      " conv3d_1 (Conv3D)           (None, 8, 60, 60, 32)     4128      \n",
      "                                                                 \n",
      " activation_1 (Activation)   (None, 8, 60, 60, 32)     0         \n",
      "                                                                 \n",
      " batch_normalization_1 (Batc  (None, 8, 60, 60, 32)    128       \n",
      " hNormalization)                                                 \n",
      "                                                                 \n",
      " max_pooling3d_1 (MaxPooling  (None, 4, 30, 30, 32)    0         \n",
      " 3D)                                                             \n",
      "                                                                 \n",
      " conv3d_2 (Conv3D)           (None, 4, 30, 30, 64)     16448     \n",
      "                                                                 \n",
      " activation_2 (Activation)   (None, 4, 30, 30, 64)     0         \n",
      "                                                                 \n",
      " batch_normalization_2 (Batc  (None, 4, 30, 30, 64)    256       \n",
      " hNormalization)                                                 \n",
      "                                                                 \n",
      " max_pooling3d_2 (MaxPooling  (None, 2, 15, 15, 64)    0         \n",
      " 3D)                                                             \n",
      "                                                                 \n",
      " conv3d_3 (Conv3D)           (None, 2, 15, 15, 128)    65664     \n",
      "                                                                 \n",
      " activation_3 (Activation)   (None, 2, 15, 15, 128)    0         \n",
      "                                                                 \n",
      " batch_normalization_3 (Batc  (None, 2, 15, 15, 128)   512       \n",
      " hNormalization)                                                 \n",
      "                                                                 \n",
      " max_pooling3d_3 (MaxPooling  (None, 1, 7, 7, 128)     0         \n",
      " 3D)                                                             \n",
      "                                                                 \n",
      " flatten (Flatten)           (None, 6272)              0         \n",
      "                                                                 \n",
      " dense (Dense)               (None, 256)               1605888   \n",
      "                                                                 \n",
      " batch_normalization_4 (Batc  (None, 256)              1024      \n",
      " hNormalization)                                                 \n",
      "                                                                 \n",
      " dropout (Dropout)           (None, 256)               0         \n",
      "                                                                 \n",
      " dense_1 (Dense)             (None, 256)               65792     \n",
      "                                                                 \n",
      " batch_normalization_5 (Batc  (None, 256)              1024      \n",
      " hNormalization)                                                 \n",
      "                                                                 \n",
      " dropout_1 (Dropout)         (None, 256)               0         \n",
      "                                                                 \n",
      " dense_2 (Dense)             (None, 5)                 1285      \n",
      "                                                                 \n",
      "=================================================================\n",
      "Total params: 1,762,613\n",
      "Trainable params: 1,761,109\n",
      "Non-trainable params: 1,504\n",
      "_________________________________________________________________\n"
     ]
    }
   ],
   "source": [
    "# defining hyperparameters\n",
    "\n",
    "conv_3d3=ModelConv3D3()\n",
    "conv_3d3.initialize_path(project_folder)\n",
    "conv_3d3.initialize_image_properties(image_height=120,image_width=120)  # define reduced image size of 120 X 120\n",
    "conv_3d3.initialize_hyperparams(frames_to_sample=16,batch_size=30,num_epochs=30)\n",
    "conv_3d3_model=conv_3d3.define_model(filtersize=(2,2,2),dense_neurons=256,dropout=0.5)  # reduce filter size to (2,2,2)\n",
    "conv_3d3_model.summary()"
   ]
  },
  {
   "cell_type": "code",
   "execution_count": 13,
   "metadata": {
    "colab": {
     "base_uri": "https://localhost:8080/"
    },
    "executionInfo": {
     "elapsed": 865430,
     "status": "ok",
     "timestamp": 1660452742192,
     "user": {
      "displayName": "Deepak Hiremath",
      "userId": "06961457277516205177"
     },
     "user_tz": -330
    },
    "id": "whxGsnPa3CW6",
    "outputId": "679c6016-eba5-450d-edd4-4c97f35038ec"
   },
   "outputs": [
    {
     "metadata": {
      "tags": null
     },
     "name": "stderr",
     "output_type": "stream",
     "text": [
      "WARNING:tensorflow:`period` argument is deprecated. Please use `save_freq` to specify the frequency in number of batches seen.\n"
     ]
    },
    {
     "name": "stdout",
     "output_type": "stream",
     "text": [
      "Total Params: 1762613\n",
      "Epoch 1/30\n",
      "23/23 [==============================] - ETA: 0s - loss: 2.2108 - categorical_accuracy: 0.3062\n",
      "Epoch 1: saving model to model_init_2022-08-1404_10_28.664497/model-00001-2.21084-0.30618-1.79620-0.16000.h5\n",
      "23/23 [==============================] - 109s 4s/step - loss: 2.2108 - categorical_accuracy: 0.3062 - val_loss: 1.7962 - val_categorical_accuracy: 0.1600 - lr: 2.0000e-04\n",
      "Epoch 2/30\n",
      "23/23 [==============================] - ETA: 0s - loss: 1.4952 - categorical_accuracy: 0.4796\n",
      "Epoch 2: saving model to model_init_2022-08-1404_10_28.664497/model-00002-1.49518-0.47964-2.68216-0.16000.h5\n",
      "23/23 [==============================] - 92s 4s/step - loss: 1.4952 - categorical_accuracy: 0.4796 - val_loss: 2.6822 - val_categorical_accuracy: 0.1600 - lr: 2.0000e-04\n",
      "Epoch 3/30\n",
      "23/23 [==============================] - ETA: 0s - loss: 1.4321 - categorical_accuracy: 0.5106\n",
      "Epoch 3: saving model to model_init_2022-08-1404_10_28.664497/model-00003-1.43212-0.51056-3.72433-0.15000.h5\n",
      "23/23 [==============================] - 86s 4s/step - loss: 1.4321 - categorical_accuracy: 0.5106 - val_loss: 3.7243 - val_categorical_accuracy: 0.1500 - lr: 2.0000e-04\n",
      "Epoch 4/30\n",
      "23/23 [==============================] - ETA: 0s - loss: 1.1960 - categorical_accuracy: 0.5762\n",
      "Epoch 4: saving model to model_init_2022-08-1404_10_28.664497/model-00004-1.19605-0.57617-4.68641-0.16000.h5\n",
      "23/23 [==============================] - 86s 4s/step - loss: 1.1960 - categorical_accuracy: 0.5762 - val_loss: 4.6864 - val_categorical_accuracy: 0.1600 - lr: 2.0000e-04\n",
      "Epoch 5/30\n",
      "23/23 [==============================] - ETA: 0s - loss: 1.1158 - categorical_accuracy: 0.6018\n",
      "Epoch 5: saving model to model_init_2022-08-1404_10_28.664497/model-00005-1.11576-0.60181-6.15505-0.16000.h5\n",
      "\n",
      "Epoch 5: ReduceLROnPlateau reducing learning rate to 3.9999998989515007e-05.\n",
      "23/23 [==============================] - 82s 4s/step - loss: 1.1158 - categorical_accuracy: 0.6018 - val_loss: 6.1550 - val_categorical_accuracy: 0.1600 - lr: 2.0000e-04\n",
      "Epoch 6/30\n",
      "23/23 [==============================] - ETA: 0s - loss: 0.9884 - categorical_accuracy: 0.6357\n",
      "Epoch 6: saving model to model_init_2022-08-1404_10_28.664497/model-00006-0.98840-0.63575-7.04050-0.17000.h5\n",
      "23/23 [==============================] - 88s 4s/step - loss: 0.9884 - categorical_accuracy: 0.6357 - val_loss: 7.0405 - val_categorical_accuracy: 0.1700 - lr: 4.0000e-05\n",
      "Epoch 7/30\n",
      "23/23 [==============================] - ETA: 0s - loss: 0.9918 - categorical_accuracy: 0.6388\n",
      "Epoch 7: saving model to model_init_2022-08-1404_10_28.664497/model-00007-0.99181-0.63876-7.60391-0.18000.h5\n",
      "23/23 [==============================] - 86s 4s/step - loss: 0.9918 - categorical_accuracy: 0.6388 - val_loss: 7.6039 - val_categorical_accuracy: 0.1800 - lr: 4.0000e-05\n",
      "Epoch 8/30\n",
      "23/23 [==============================] - ETA: 0s - loss: 0.9513 - categorical_accuracy: 0.6493\n",
      "Epoch 8: saving model to model_init_2022-08-1404_10_28.664497/model-00008-0.95126-0.64932-7.99521-0.17000.h5\n",
      "23/23 [==============================] - 86s 4s/step - loss: 0.9513 - categorical_accuracy: 0.6493 - val_loss: 7.9952 - val_categorical_accuracy: 0.1700 - lr: 4.0000e-05\n",
      "Epoch 9/30\n",
      "22/23 [===========================>..] - ETA: 3s - loss: 0.9524 - categorical_accuracy: 0.6727\n",
      "Epoch 9: saving model to model_init_2022-08-1404_10_28.664497/model-00009-0.95660-0.67195-8.81668-0.16000.h5\n",
      "\n",
      "Epoch 9: ReduceLROnPlateau reducing learning rate to 7.999999797903002e-06.\n",
      "23/23 [==============================] - 81s 4s/step - loss: 0.9566 - categorical_accuracy: 0.6719 - val_loss: 8.8167 - val_categorical_accuracy: 0.1600 - lr: 4.0000e-05\n",
      "Epoch 10/30\n",
      "23/23 [==============================] - ETA: 0s - loss: 0.9336 - categorical_accuracy: 0.6554\n",
      "Epoch 10: saving model to model_init_2022-08-1404_10_28.664497/model-00010-0.93358-0.65535-8.96464-0.18000.h5\n",
      "23/23 [==============================] - 87s 4s/step - loss: 0.9336 - categorical_accuracy: 0.6554 - val_loss: 8.9646 - val_categorical_accuracy: 0.1800 - lr: 8.0000e-06\n",
      "Epoch 11/30\n",
      "23/23 [==============================] - ETA: 0s - loss: 0.9273 - categorical_accuracy: 0.6538\n",
      "Epoch 11: saving model to model_init_2022-08-1404_10_28.664497/model-00011-0.92728-0.65385-9.46428-0.19000.h5\n",
      "23/23 [==============================] - 85s 4s/step - loss: 0.9273 - categorical_accuracy: 0.6538 - val_loss: 9.4643 - val_categorical_accuracy: 0.1900 - lr: 8.0000e-06\n",
      "Epoch 12/30\n",
      "22/23 [===========================>..] - ETA: 3s - loss: 0.8822 - categorical_accuracy: 0.6826\n",
      "Epoch 12: saving model to model_init_2022-08-1404_10_28.664497/model-00012-0.88228-0.68175-10.22282-0.16000.h5\n",
      "23/23 [==============================] - 81s 4s/step - loss: 0.8823 - categorical_accuracy: 0.6817 - val_loss: 10.2228 - val_categorical_accuracy: 0.1600 - lr: 8.0000e-06\n",
      "Epoch 13/30\n",
      "23/23 [==============================] - ETA: 0s - loss: 0.8744 - categorical_accuracy: 0.6719\n",
      "Epoch 13: saving model to model_init_2022-08-1404_10_28.664497/model-00013-0.87444-0.67195-9.34742-0.22000.h5\n",
      "\n",
      "Epoch 13: ReduceLROnPlateau reducing learning rate to 1.5999999959603884e-06.\n",
      "23/23 [==============================] - 81s 4s/step - loss: 0.8744 - categorical_accuracy: 0.6719 - val_loss: 9.3474 - val_categorical_accuracy: 0.2200 - lr: 8.0000e-06\n",
      "Epoch 14/30\n",
      "23/23 [==============================] - ETA: 0s - loss: 0.8466 - categorical_accuracy: 0.6757\n",
      "Epoch 14: saving model to model_init_2022-08-1404_10_28.664497/model-00014-0.84663-0.67572-9.14238-0.24000.h5\n",
      "23/23 [==============================] - 86s 4s/step - loss: 0.8466 - categorical_accuracy: 0.6757 - val_loss: 9.1424 - val_categorical_accuracy: 0.2400 - lr: 1.6000e-06\n",
      "Epoch 15/30\n",
      "22/23 [===========================>..] - ETA: 3s - loss: 0.8365 - categorical_accuracy: 0.7015\n",
      "Epoch 15: saving model to model_init_2022-08-1404_10_28.664497/model-00015-0.84546-0.69910-8.66866-0.27000.h5\n",
      "23/23 [==============================] - 85s 4s/step - loss: 0.8455 - categorical_accuracy: 0.6991 - val_loss: 8.6687 - val_categorical_accuracy: 0.2700 - lr: 1.6000e-06\n",
      "Epoch 16/30\n",
      "23/23 [==============================] - ETA: 0s - loss: 0.8682 - categorical_accuracy: 0.6750\n",
      "Epoch 16: saving model to model_init_2022-08-1404_10_28.664497/model-00016-0.86816-0.67496-8.35565-0.26000.h5\n",
      "23/23 [==============================] - 84s 4s/step - loss: 0.8682 - categorical_accuracy: 0.6750 - val_loss: 8.3556 - val_categorical_accuracy: 0.2600 - lr: 1.6000e-06\n",
      "Epoch 17/30\n",
      "23/23 [==============================] - ETA: 0s - loss: 0.8793 - categorical_accuracy: 0.6674\n",
      "Epoch 17: saving model to model_init_2022-08-1404_10_28.664497/model-00017-0.87932-0.66742-7.58572-0.30000.h5\n",
      "\n",
      "Epoch 17: ReduceLROnPlateau reducing learning rate to 3.200000037395512e-07.\n",
      "23/23 [==============================] - 79s 4s/step - loss: 0.8793 - categorical_accuracy: 0.6674 - val_loss: 7.5857 - val_categorical_accuracy: 0.3000 - lr: 1.6000e-06\n",
      "Epoch 18/30\n",
      "23/23 [==============================] - ETA: 0s - loss: 0.8387 - categorical_accuracy: 0.6931\n",
      "Epoch 18: saving model to model_init_2022-08-1404_10_28.664497/model-00018-0.83870-0.69306-7.34129-0.25000.h5\n",
      "23/23 [==============================] - 80s 4s/step - loss: 0.8387 - categorical_accuracy: 0.6931 - val_loss: 7.3413 - val_categorical_accuracy: 0.2500 - lr: 3.2000e-07\n",
      "Epoch 19/30\n",
      "23/23 [==============================] - ETA: 0s - loss: 0.8555 - categorical_accuracy: 0.7036\n",
      "Epoch 19: saving model to model_init_2022-08-1404_10_28.664497/model-00019-0.85552-0.70362-6.85249-0.29000.h5\n",
      "23/23 [==============================] - 85s 4s/step - loss: 0.8555 - categorical_accuracy: 0.7036 - val_loss: 6.8525 - val_categorical_accuracy: 0.2900 - lr: 3.2000e-07\n",
      "Epoch 20/30\n",
      "23/23 [==============================] - ETA: 0s - loss: 0.8887 - categorical_accuracy: 0.6840\n",
      "Epoch 20: saving model to model_init_2022-08-1404_10_28.664497/model-00020-0.88866-0.68401-5.29890-0.34000.h5\n",
      "23/23 [==============================] - 84s 4s/step - loss: 0.8887 - categorical_accuracy: 0.6840 - val_loss: 5.2989 - val_categorical_accuracy: 0.3400 - lr: 3.2000e-07\n",
      "Epoch 21/30\n",
      "23/23 [==============================] - ETA: 0s - loss: 0.8954 - categorical_accuracy: 0.6772\n",
      "Epoch 21: saving model to model_init_2022-08-1404_10_28.664497/model-00021-0.89539-0.67722-4.96675-0.31000.h5\n",
      "\n",
      "Epoch 21: ReduceLROnPlateau reducing learning rate to 6.399999961104187e-08.\n",
      "23/23 [==============================] - 81s 4s/step - loss: 0.8954 - categorical_accuracy: 0.6772 - val_loss: 4.9668 - val_categorical_accuracy: 0.3100 - lr: 3.2000e-07\n",
      "Epoch 22/30\n",
      "22/23 [===========================>..] - ETA: 3s - loss: 0.9146 - categorical_accuracy: 0.6697\n",
      "Epoch 22: saving model to model_init_2022-08-1404_10_28.664497/model-00022-0.91829-0.66893-4.24381-0.33000.h5\n",
      "23/23 [==============================] - 80s 4s/step - loss: 0.9183 - categorical_accuracy: 0.6689 - val_loss: 4.2438 - val_categorical_accuracy: 0.3300 - lr: 6.4000e-08\n",
      "Epoch 23/30\n",
      "23/23 [==============================] - ETA: 0s - loss: 0.8322 - categorical_accuracy: 0.6810\n",
      "Epoch 23: saving model to model_init_2022-08-1404_10_28.664497/model-00023-0.83218-0.68100-3.65820-0.37000.h5\n",
      "23/23 [==============================] - 80s 4s/step - loss: 0.8322 - categorical_accuracy: 0.6810 - val_loss: 3.6582 - val_categorical_accuracy: 0.3700 - lr: 6.4000e-08\n",
      "Epoch 24/30\n",
      "23/23 [==============================] - ETA: 0s - loss: 0.8608 - categorical_accuracy: 0.6893\n",
      "Epoch 24: saving model to model_init_2022-08-1404_10_28.664497/model-00024-0.86080-0.68929-3.10497-0.37000.h5\n",
      "23/23 [==============================] - 79s 4s/step - loss: 0.8608 - categorical_accuracy: 0.6893 - val_loss: 3.1050 - val_categorical_accuracy: 0.3700 - lr: 6.4000e-08\n",
      "Epoch 25/30\n",
      "23/23 [==============================] - ETA: 0s - loss: 0.9161 - categorical_accuracy: 0.6704\n",
      "Epoch 25: saving model to model_init_2022-08-1404_10_28.664497/model-00025-0.91605-0.67044-2.74572-0.38000.h5\n",
      "\n",
      "Epoch 25: ReduceLROnPlateau reducing learning rate to 1.2799999637991278e-08.\n",
      "23/23 [==============================] - 78s 4s/step - loss: 0.9161 - categorical_accuracy: 0.6704 - val_loss: 2.7457 - val_categorical_accuracy: 0.3800 - lr: 6.4000e-08\n",
      "Epoch 26/30\n",
      "22/23 [===========================>..] - ETA: 3s - loss: 0.8605 - categorical_accuracy: 0.6705\n",
      "Epoch 26: saving model to model_init_2022-08-1404_10_28.664497/model-00026-0.85778-0.67119-2.16638-0.44000.h5\n",
      "23/23 [==============================] - 81s 4s/step - loss: 0.8578 - categorical_accuracy: 0.6712 - val_loss: 2.1664 - val_categorical_accuracy: 0.4400 - lr: 1.2800e-08\n",
      "Epoch 27/30\n",
      "22/23 [===========================>..] - ETA: 3s - loss: 0.8525 - categorical_accuracy: 0.6917\n",
      "Epoch 27: saving model to model_init_2022-08-1404_10_28.664497/model-00027-0.85000-0.69231-1.86598-0.45000.h5\n",
      "23/23 [==============================] - 79s 4s/step - loss: 0.8500 - categorical_accuracy: 0.6923 - val_loss: 1.8660 - val_categorical_accuracy: 0.4500 - lr: 1.2800e-08\n",
      "Epoch 28/30\n",
      "22/23 [===========================>..] - ETA: 3s - loss: 0.8509 - categorical_accuracy: 0.6780\n",
      "Epoch 28: saving model to model_init_2022-08-1404_10_28.664497/model-00028-0.85532-0.67572-1.82560-0.43000.h5\n",
      "23/23 [==============================] - 79s 4s/step - loss: 0.8553 - categorical_accuracy: 0.6757 - val_loss: 1.8256 - val_categorical_accuracy: 0.4300 - lr: 1.2800e-08\n",
      "Epoch 29/30\n",
      "23/23 [==============================] - ETA: 0s - loss: 0.8426 - categorical_accuracy: 0.6750\n",
      "Epoch 29: saving model to model_init_2022-08-1404_10_28.664497/model-00029-0.84260-0.67496-1.51384-0.47000.h5\n",
      "23/23 [==============================] - 80s 4s/step - loss: 0.8426 - categorical_accuracy: 0.6750 - val_loss: 1.5138 - val_categorical_accuracy: 0.4700 - lr: 1.2800e-08\n",
      "Epoch 30/30\n",
      "23/23 [==============================] - ETA: 0s - loss: 0.8827 - categorical_accuracy: 0.6772\n",
      "Epoch 30: saving model to model_init_2022-08-1404_10_28.664497/model-00030-0.88270-0.67722-1.34410-0.55000.h5\n",
      "23/23 [==============================] - 80s 4s/step - loss: 0.8827 - categorical_accuracy: 0.6772 - val_loss: 1.3441 - val_categorical_accuracy: 0.5500 - lr: 1.2800e-08\n"
     ]
    }
   ],
   "source": [
    "# train the model with augmentation\n",
    "\n",
    "print(\"Total Params:\", conv_3d3_model.count_params())\n",
    "history_model3=conv_3d3.train_model(conv_3d3_model,augment_data=True)"
   ]
  },
  {
   "cell_type": "code",
   "execution_count": 16,
   "metadata": {
    "colab": {
     "base_uri": "https://localhost:8080/",
     "height": 265
    },
    "executionInfo": {
     "elapsed": 615,
     "status": "ok",
     "timestamp": 1660452773404,
     "user": {
      "displayName": "Deepak Hiremath",
      "userId": "06961457277516205177"
     },
     "user_tz": -330
    },
    "id": "HI3D39QD3IgO",
    "outputId": "fad07b56-3a8c-4804-f283-dfadeb4408a4"
   },
   "outputs": [
    {
     "data": {
      "image/png": "[encoded data removed]",
      "text/plain": [
       "<Figure size 1080x288 with 2 Axes>"
      ]
     },
     "metadata": {
      "needs_background": "light"
     },
     "output_type": "display_data"
    }
   ],
   "source": [
    "# Plot training and validation metrics\n",
    "\n",
    "plot(history_model3)"
   ]
  },
  {
   "cell_type": "markdown",
   "metadata": {
    "id": "lfnTjsdWrfL6"
   },
   "source": [
    "#### Observations of Model 3\n",
    "\n",
    "- Model has not displayed better validation accuracy compared to earlier model."
   ]
  },
  {
   "cell_type": "markdown",
   "metadata": {
    "id": "3pFdYAJnr3_s"
   },
   "source": [
    "## Model 4 - Adding more layers - I am trying to see if model accuracy increases if we add more layers\n",
    "\n",
    "- 8 CNN layers\n",
    "- Number of epochs increased to 30 to gain more accuracy\n",
    "- Filter size (3,3,3)"
   ]
  },
  {
   "cell_type": "code",
   "execution_count": 17,
   "metadata": {
    "executionInfo": {
     "elapsed": 392,
     "status": "ok",
     "timestamp": 1660452813077,
     "user": {
      "displayName": "Deepak Hiremath",
      "userId": "06961457277516205177"
     },
     "user_tz": -330
    },
    "id": "p3QHUF8NrxpU"
   },
   "outputs": [],
   "source": [
    "# define new model architecure now with 8 CNN layers\n",
    "\n",
    "class ModelConv3D4(ModelBuilder):\n",
    "    \n",
    "    def define_model(self,filtersize=(3,3,3),dense_neurons=64,dropout=0.25):\n",
    "\n",
    "        # CNN layer 1\n",
    "        model = Sequential()\n",
    "        model.add(Conv3D(16, filtersize, padding='same',\n",
    "                 input_shape=(self.frames_to_sample,self.image_height,self.image_width,self.channels)))\n",
    "        model.add(Activation('relu'))\n",
    "        model.add(BatchNormalization())\n",
    "        \n",
    "        # CNN layer 2\n",
    "        model.add(Conv3D(16, filtersize, padding='same',\n",
    "                 input_shape=(self.frames_to_sample,self.image_height,self.image_width,self.channels)))\n",
    "        model.add(Activation('relu'))\n",
    "        model.add(BatchNormalization())\n",
    "        \n",
    "        model.add(MaxPooling3D(pool_size=(2, 2, 2)))\n",
    "\n",
    "        # CNN layer 3\n",
    "        model.add(Conv3D(32, filtersize, padding='same'))\n",
    "        model.add(Activation('relu'))\n",
    "        model.add(BatchNormalization())\n",
    "        \n",
    "        # CNN layer 4\n",
    "        model.add(Conv3D(32, filtersize, padding='same'))\n",
    "        model.add(Activation('relu'))\n",
    "        model.add(BatchNormalization())\n",
    "        \n",
    "        model.add(MaxPooling3D(pool_size=(2, 2, 2)))\n",
    "\n",
    "        # CNN layer 5\n",
    "        model.add(Conv3D(64, filtersize, padding='same'))\n",
    "        model.add(Activation('relu'))\n",
    "        model.add(BatchNormalization())\n",
    "        \n",
    "        # CNN layer 6\n",
    "        model.add(Conv3D(64, filtersize, padding='same'))\n",
    "        model.add(Activation('relu'))\n",
    "        model.add(BatchNormalization())\n",
    "        \n",
    "        model.add(MaxPooling3D(pool_size=(2, 2, 2)))\n",
    "\n",
    "        # CNN layer 7\n",
    "        model.add(Conv3D(128, filtersize, padding='same'))\n",
    "        model.add(Activation('relu'))\n",
    "        model.add(BatchNormalization())\n",
    "        \n",
    "        # CNN layer 8\n",
    "        model.add(Conv3D(128, filtersize, padding='same'))\n",
    "        model.add(Activation('relu'))\n",
    "        model.add(BatchNormalization())\n",
    "        \n",
    "        model.add(MaxPooling3D(pool_size=(2, 2, 2)))\n",
    "        \n",
    "\n",
    "        model.add(Flatten())\n",
    "        model.add(Dense(dense_neurons,activation='relu'))\n",
    "        model.add(BatchNormalization())\n",
    "        model.add(Dropout(dropout))\n",
    "\n",
    "        model.add(Dense(dense_neurons,activation='relu'))\n",
    "        model.add(BatchNormalization())\n",
    "        model.add(Dropout(dropout))\n",
    "\n",
    "\n",
    "        model.add(Dense(self.num_classes,activation='softmax'))\n",
    "\n",
    "        optimiser = optimizers.Adam()\n",
    "        model.compile(optimizer=optimiser, loss='categorical_crossentropy', metrics=['categorical_accuracy'])\n",
    "        return model"
   ]
  },
  {
   "cell_type": "code",
   "execution_count": 18,
   "metadata": {
    "colab": {
     "base_uri": "https://localhost:8080/"
    },
    "executionInfo": {
     "elapsed": 1021,
     "status": "ok",
     "timestamp": 1660452837920,
     "user": {
      "displayName": "Deepak Hiremath",
      "userId": "06961457277516205177"
     },
     "user_tz": -330
    },
    "id": "4TrAB1odszUv",
    "outputId": "b26f9451-0317-44a1-dda2-3f6ae3a7e874"
   },
   "outputs": [
    {
     "name": "stdout",
     "output_type": "stream",
     "text": [
      "Model: \"sequential_1\"\n",
      "_________________________________________________________________\n",
      " Layer (type)                Output Shape              Param #   \n",
      "=================================================================\n",
      " conv3d_4 (Conv3D)           (None, 16, 120, 120, 16)  1312      \n",
      "                                                                 \n",
      " activation_4 (Activation)   (None, 16, 120, 120, 16)  0         \n",
      "                                                                 \n",
      " batch_normalization_6 (Batc  (None, 16, 120, 120, 16)  64       \n",
      " hNormalization)                                                 \n",
      "                                                                 \n",
      " conv3d_5 (Conv3D)           (None, 16, 120, 120, 16)  6928      \n",
      "                                                                 \n",
      " activation_5 (Activation)   (None, 16, 120, 120, 16)  0         \n",
      "                                                                 \n",
      " batch_normalization_7 (Batc  (None, 16, 120, 120, 16)  64       \n",
      " hNormalization)                                                 \n",
      "                                                                 \n",
      " max_pooling3d_4 (MaxPooling  (None, 8, 60, 60, 16)    0         \n",
      " 3D)                                                             \n",
      "                                                                 \n",
      " conv3d_6 (Conv3D)           (None, 8, 60, 60, 32)     13856     \n",
      "                                                                 \n",
      " activation_6 (Activation)   (None, 8, 60, 60, 32)     0         \n",
      "                                                                 \n",
      " batch_normalization_8 (Batc  (None, 8, 60, 60, 32)    128       \n",
      " hNormalization)                                                 \n",
      "                                                                 \n",
      " conv3d_7 (Conv3D)           (None, 8, 60, 60, 32)     27680     \n",
      "                                                                 \n",
      " activation_7 (Activation)   (None, 8, 60, 60, 32)     0         \n",
      "                                                                 \n",
      " batch_normalization_9 (Batc  (None, 8, 60, 60, 32)    128       \n",
      " hNormalization)                                                 \n",
      "                                                                 \n",
      " max_pooling3d_5 (MaxPooling  (None, 4, 30, 30, 32)    0         \n",
      " 3D)                                                             \n",
      "                                                                 \n",
      " conv3d_8 (Conv3D)           (None, 4, 30, 30, 64)     55360     \n",
      "                                                                 \n",
      " activation_8 (Activation)   (None, 4, 30, 30, 64)     0         \n",
      "                                                                 \n",
      " batch_normalization_10 (Bat  (None, 4, 30, 30, 64)    256       \n",
      " chNormalization)                                                \n",
      "                                                                 \n",
      " conv3d_9 (Conv3D)           (None, 4, 30, 30, 64)     110656    \n",
      "                                                                 \n",
      " activation_9 (Activation)   (None, 4, 30, 30, 64)     0         \n",
      "                                                                 \n",
      " batch_normalization_11 (Bat  (None, 4, 30, 30, 64)    256       \n",
      " chNormalization)                                                \n",
      "                                                                 \n",
      " max_pooling3d_6 (MaxPooling  (None, 2, 15, 15, 64)    0         \n",
      " 3D)                                                             \n",
      "                                                                 \n",
      " conv3d_10 (Conv3D)          (None, 2, 15, 15, 128)    221312    \n",
      "                                                                 \n",
      " activation_10 (Activation)  (None, 2, 15, 15, 128)    0         \n",
      "                                                                 \n",
      " batch_normalization_12 (Bat  (None, 2, 15, 15, 128)   512       \n",
      " chNormalization)                                                \n",
      "                                                                 \n",
      " conv3d_11 (Conv3D)          (None, 2, 15, 15, 128)    442496    \n",
      "                                                                 \n",
      " activation_11 (Activation)  (None, 2, 15, 15, 128)    0         \n",
      "                                                                 \n",
      " batch_normalization_13 (Bat  (None, 2, 15, 15, 128)   512       \n",
      " chNormalization)                                                \n",
      "                                                                 \n",
      " max_pooling3d_7 (MaxPooling  (None, 1, 7, 7, 128)     0         \n",
      " 3D)                                                             \n",
      "                                                                 \n",
      " flatten_1 (Flatten)         (None, 6272)              0         \n",
      "                                                                 \n",
      " dense_3 (Dense)             (None, 256)               1605888   \n",
      "                                                                 \n",
      " batch_normalization_14 (Bat  (None, 256)              1024      \n",
      " chNormalization)                                                \n",
      "                                                                 \n",
      " dropout_2 (Dropout)         (None, 256)               0         \n",
      "                                                                 \n",
      " dense_4 (Dense)             (None, 256)               65792     \n",
      "                                                                 \n",
      " batch_normalization_15 (Bat  (None, 256)              1024      \n",
      " chNormalization)                                                \n",
      "                                                                 \n",
      " dropout_3 (Dropout)         (None, 256)               0         \n",
      "                                                                 \n",
      " dense_5 (Dense)             (None, 5)                 1285      \n",
      "                                                                 \n",
      "=================================================================\n",
      "Total params: 2,556,533\n",
      "Trainable params: 2,554,549\n",
      "Non-trainable params: 1,984\n",
      "_________________________________________________________________\n"
     ]
    }
   ],
   "source": [
    "# define model hyper paramters\n",
    "\n",
    "conv_3d4=ModelConv3D4()\n",
    "conv_3d4.initialize_path(project_folder)\n",
    "conv_3d4.initialize_image_properties(image_height=120,image_width=120)\n",
    "conv_3d4.initialize_hyperparams(frames_to_sample=16,batch_size=20,num_epochs=30)\n",
    "conv_3d4_model=conv_3d4.define_model(filtersize=(3,3,3),dense_neurons=256,dropout=0.5)  # increased no. of neurons in dense layer\n",
    "conv_3d4_model.summary()"
   ]
  },
  {
   "cell_type": "code",
   "execution_count": 19,
   "metadata": {
    "colab": {
     "base_uri": "https://localhost:8080/"
    },
    "executionInfo": {
     "elapsed": 1911270,
     "status": "ok",
     "timestamp": 1660455470118,
     "user": {
      "displayName": "Deepak Hiremath",
      "userId": "06961457277516205177"
     },
     "user_tz": -330
    },
    "id": "xHbe9wm-s5Mg",
    "outputId": "2aaf39e0-d4ad-4ac5-961d-5bc6b4c52f47"
   },
   "outputs": [
    {
     "metadata": {
      "tags": null
     },
     "name": "stderr",
     "output_type": "stream",
     "text": [
      "WARNING:tensorflow:`period` argument is deprecated. Please use `save_freq` to specify the frequency in number of batches seen.\n"
     ]
    },
    {
     "name": "stdout",
     "output_type": "stream",
     "text": [
      "Total Params: 2556533\n",
      "Epoch 1/30\n",
      "34/34 [==============================] - ETA: 0s - loss: 2.0080 - categorical_accuracy: 0.3439\n",
      "Epoch 1: saving model to model_init_2022-08-1404_54_24.410591/model-00001-2.00804-0.34389-1.67880-0.35000.h5\n",
      "34/34 [==============================] - 92s 3s/step - loss: 2.0080 - categorical_accuracy: 0.3439 - val_loss: 1.6788 - val_categorical_accuracy: 0.3500 - lr: 0.0010\n",
      "Epoch 2/30\n",
      "34/34 [==============================] - ETA: 0s - loss: 1.6600 - categorical_accuracy: 0.4186\n",
      "Epoch 2: saving model to model_init_2022-08-1404_54_24.410591/model-00002-1.65996-0.41855-2.86036-0.14000.h5\n",
      "34/34 [==============================] - 86s 3s/step - loss: 1.6600 - categorical_accuracy: 0.4186 - val_loss: 2.8604 - val_categorical_accuracy: 0.1400 - lr: 0.0010\n",
      "Epoch 3/30\n",
      "34/34 [==============================] - ETA: 0s - loss: 1.5578 - categorical_accuracy: 0.4729\n",
      "Epoch 3: saving model to model_init_2022-08-1404_54_24.410591/model-00003-1.55776-0.47285-6.50809-0.19000.h5\n",
      "34/34 [==============================] - 87s 3s/step - loss: 1.5578 - categorical_accuracy: 0.4729 - val_loss: 6.5081 - val_categorical_accuracy: 0.1900 - lr: 0.0010\n",
      "Epoch 4/30\n",
      "34/34 [==============================] - ETA: 0s - loss: 1.4275 - categorical_accuracy: 0.4653\n",
      "Epoch 4: saving model to model_init_2022-08-1404_54_24.410591/model-00004-1.42747-0.46531-2.58823-0.23000.h5\n",
      "34/34 [==============================] - 85s 3s/step - loss: 1.4275 - categorical_accuracy: 0.4653 - val_loss: 2.5882 - val_categorical_accuracy: 0.2300 - lr: 0.0010\n",
      "Epoch 5/30\n",
      "34/34 [==============================] - ETA: 0s - loss: 1.3254 - categorical_accuracy: 0.5294\n",
      "Epoch 5: saving model to model_init_2022-08-1404_54_24.410591/model-00005-1.32535-0.52941-4.66692-0.20000.h5\n",
      "\n",
      "Epoch 5: ReduceLROnPlateau reducing learning rate to 0.00020000000949949026.\n",
      "34/34 [==============================] - 87s 3s/step - loss: 1.3254 - categorical_accuracy: 0.5294 - val_loss: 4.6669 - val_categorical_accuracy: 0.2000 - lr: 0.0010\n",
      "Epoch 6/30\n",
      "34/34 [==============================] - ETA: 0s - loss: 1.0587 - categorical_accuracy: 0.5867\n",
      "Epoch 6: saving model to model_init_2022-08-1404_54_24.410591/model-00006-1.05873-0.58673-4.33962-0.21000.h5\n",
      "34/34 [==============================] - 85s 3s/step - loss: 1.0587 - categorical_accuracy: 0.5867 - val_loss: 4.3396 - val_categorical_accuracy: 0.2100 - lr: 2.0000e-04\n",
      "Epoch 7/30\n",
      "34/34 [==============================] - ETA: 0s - loss: 0.9960 - categorical_accuracy: 0.6244\n",
      "Epoch 7: saving model to model_init_2022-08-1404_54_24.410591/model-00007-0.99598-0.62443-3.92453-0.26000.h5\n",
      "34/34 [==============================] - 86s 3s/step - loss: 0.9960 - categorical_accuracy: 0.6244 - val_loss: 3.9245 - val_categorical_accuracy: 0.2600 - lr: 2.0000e-04\n",
      "Epoch 8/30\n",
      "34/34 [==============================] - ETA: 0s - loss: 0.9177 - categorical_accuracy: 0.6659\n",
      "Epoch 8: saving model to model_init_2022-08-1404_54_24.410591/model-00008-0.91770-0.66591-4.93772-0.25000.h5\n",
      "34/34 [==============================] - 87s 3s/step - loss: 0.9177 - categorical_accuracy: 0.6659 - val_loss: 4.9377 - val_categorical_accuracy: 0.2500 - lr: 2.0000e-04\n",
      "Epoch 9/30\n",
      "34/34 [==============================] - ETA: 0s - loss: 0.9045 - categorical_accuracy: 0.6682\n",
      "Epoch 9: saving model to model_init_2022-08-1404_54_24.410591/model-00009-0.90450-0.66817-4.18841-0.23000.h5\n",
      "\n",
      "Epoch 9: ReduceLROnPlateau reducing learning rate to 4.0000001899898055e-05.\n",
      "34/34 [==============================] - 87s 3s/step - loss: 0.9045 - categorical_accuracy: 0.6682 - val_loss: 4.1884 - val_categorical_accuracy: 0.2300 - lr: 2.0000e-04\n",
      "Epoch 10/30\n",
      "34/34 [==============================] - ETA: 0s - loss: 0.8232 - categorical_accuracy: 0.6810\n",
      "Epoch 10: saving model to model_init_2022-08-1404_54_24.410591/model-00010-0.82323-0.68100-3.46686-0.33000.h5\n",
      "34/34 [==============================] - 86s 3s/step - loss: 0.8232 - categorical_accuracy: 0.6810 - val_loss: 3.4669 - val_categorical_accuracy: 0.3300 - lr: 4.0000e-05\n",
      "Epoch 11/30\n",
      "34/34 [==============================] - ETA: 0s - loss: 0.8686 - categorical_accuracy: 0.6863\n",
      "Epoch 11: saving model to model_init_2022-08-1404_54_24.410591/model-00011-0.86860-0.68627-3.23161-0.33000.h5\n",
      "34/34 [==============================] - 87s 3s/step - loss: 0.8686 - categorical_accuracy: 0.6863 - val_loss: 3.2316 - val_categorical_accuracy: 0.3300 - lr: 4.0000e-05\n",
      "Epoch 12/30\n",
      "34/34 [==============================] - ETA: 0s - loss: 0.8322 - categorical_accuracy: 0.6923\n",
      "Epoch 12: saving model to model_init_2022-08-1404_54_24.410591/model-00012-0.83221-0.69231-2.47601-0.36000.h5\n",
      "34/34 [==============================] - 86s 3s/step - loss: 0.8322 - categorical_accuracy: 0.6923 - val_loss: 2.4760 - val_categorical_accuracy: 0.3600 - lr: 4.0000e-05\n",
      "Epoch 13/30\n",
      "34/34 [==============================] - ETA: 0s - loss: 0.7892 - categorical_accuracy: 0.7051\n",
      "Epoch 13: saving model to model_init_2022-08-1404_54_24.410591/model-00013-0.78916-0.70513-2.86910-0.30000.h5\n",
      "\n",
      "Epoch 13: ReduceLROnPlateau reducing learning rate to 8.000000525498762e-06.\n",
      "34/34 [==============================] - 85s 3s/step - loss: 0.7892 - categorical_accuracy: 0.7051 - val_loss: 2.8691 - val_categorical_accuracy: 0.3000 - lr: 4.0000e-05\n",
      "Epoch 14/30\n",
      "34/34 [==============================] - ETA: 0s - loss: 0.8503 - categorical_accuracy: 0.6674\n",
      "Epoch 14: saving model to model_init_2022-08-1404_54_24.410591/model-00014-0.85034-0.66742-1.72300-0.44000.h5\n",
      "34/34 [==============================] - 85s 3s/step - loss: 0.8503 - categorical_accuracy: 0.6674 - val_loss: 1.7230 - val_categorical_accuracy: 0.4400 - lr: 8.0000e-06\n",
      "Epoch 15/30\n",
      "34/34 [==============================] - ETA: 0s - loss: 0.8213 - categorical_accuracy: 0.6916\n",
      "Epoch 15: saving model to model_init_2022-08-1404_54_24.410591/model-00015-0.82130-0.69155-1.55348-0.50000.h5\n",
      "34/34 [==============================] - 86s 3s/step - loss: 0.8213 - categorical_accuracy: 0.6916 - val_loss: 1.5535 - val_categorical_accuracy: 0.5000 - lr: 8.0000e-06\n",
      "Epoch 16/30\n",
      "34/34 [==============================] - ETA: 0s - loss: 0.7659 - categorical_accuracy: 0.7164\n",
      "Epoch 16: saving model to model_init_2022-08-1404_54_24.410591/model-00016-0.76589-0.71644-1.33034-0.55000.h5\n",
      "34/34 [==============================] - 86s 3s/step - loss: 0.7659 - categorical_accuracy: 0.7164 - val_loss: 1.3303 - val_categorical_accuracy: 0.5500 - lr: 8.0000e-06\n",
      "Epoch 17/30\n",
      "34/34 [==============================] - ETA: 0s - loss: 0.7235 - categorical_accuracy: 0.7383\n",
      "Epoch 17: saving model to model_init_2022-08-1404_54_24.410591/model-00017-0.72352-0.73831-1.03874-0.64000.h5\n",
      "34/34 [==============================] - 86s 3s/step - loss: 0.7235 - categorical_accuracy: 0.7383 - val_loss: 1.0387 - val_categorical_accuracy: 0.6400 - lr: 8.0000e-06\n",
      "Epoch 18/30\n",
      "34/34 [==============================] - ETA: 0s - loss: 0.7696 - categorical_accuracy: 0.7006\n",
      "Epoch 18: saving model to model_init_2022-08-1404_54_24.410591/model-00018-0.76955-0.70060-0.91322-0.62000.h5\n",
      "34/34 [==============================] - 85s 3s/step - loss: 0.7696 - categorical_accuracy: 0.7006 - val_loss: 0.9132 - val_categorical_accuracy: 0.6200 - lr: 8.0000e-06\n",
      "Epoch 19/30\n",
      "34/34 [==============================] - ETA: 0s - loss: 0.7594 - categorical_accuracy: 0.6983\n",
      "Epoch 19: saving model to model_init_2022-08-1404_54_24.410591/model-00019-0.75943-0.69834-0.99062-0.61000.h5\n",
      "34/34 [==============================] - 85s 3s/step - loss: 0.7594 - categorical_accuracy: 0.6983 - val_loss: 0.9906 - val_categorical_accuracy: 0.6100 - lr: 8.0000e-06\n",
      "Epoch 20/30\n",
      "34/34 [==============================] - ETA: 0s - loss: 0.7092 - categorical_accuracy: 0.7225\n",
      "Epoch 20: saving model to model_init_2022-08-1404_54_24.410591/model-00020-0.70917-0.72247-0.81328-0.67000.h5\n",
      "34/34 [==============================] - 85s 3s/step - loss: 0.7092 - categorical_accuracy: 0.7225 - val_loss: 0.8133 - val_categorical_accuracy: 0.6700 - lr: 8.0000e-06\n",
      "Epoch 21/30\n",
      "34/34 [==============================] - ETA: 0s - loss: 0.7578 - categorical_accuracy: 0.7210\n",
      "Epoch 21: saving model to model_init_2022-08-1404_54_24.410591/model-00021-0.75777-0.72097-0.78816-0.68000.h5\n",
      "34/34 [==============================] - 85s 3s/step - loss: 0.7578 - categorical_accuracy: 0.7210 - val_loss: 0.7882 - val_categorical_accuracy: 0.6800 - lr: 8.0000e-06\n",
      "Epoch 22/30\n",
      "34/34 [==============================] - ETA: 0s - loss: 0.7388 - categorical_accuracy: 0.7255\n",
      "Epoch 22: saving model to model_init_2022-08-1404_54_24.410591/model-00022-0.73884-0.72549-0.77794-0.68000.h5\n",
      "34/34 [==============================] - 84s 3s/step - loss: 0.7388 - categorical_accuracy: 0.7255 - val_loss: 0.7779 - val_categorical_accuracy: 0.6800 - lr: 8.0000e-06\n",
      "Epoch 23/30\n",
      "34/34 [==============================] - ETA: 0s - loss: 0.7895 - categorical_accuracy: 0.7059\n",
      "Epoch 23: saving model to model_init_2022-08-1404_54_24.410591/model-00023-0.78953-0.70588-0.73562-0.71000.h5\n",
      "34/34 [==============================] - 85s 3s/step - loss: 0.7895 - categorical_accuracy: 0.7059 - val_loss: 0.7356 - val_categorical_accuracy: 0.7100 - lr: 8.0000e-06\n",
      "Epoch 24/30\n",
      "34/34 [==============================] - ETA: 0s - loss: 0.7411 - categorical_accuracy: 0.7262\n",
      "Epoch 24: saving model to model_init_2022-08-1404_54_24.410591/model-00024-0.74110-0.72624-0.70116-0.76000.h5\n",
      "34/34 [==============================] - 85s 3s/step - loss: 0.7411 - categorical_accuracy: 0.7262 - val_loss: 0.7012 - val_categorical_accuracy: 0.7600 - lr: 8.0000e-06\n",
      "Epoch 25/30\n",
      "34/34 [==============================] - ETA: 0s - loss: 0.7649 - categorical_accuracy: 0.7217\n",
      "Epoch 25: saving model to model_init_2022-08-1404_54_24.410591/model-00025-0.76491-0.72172-0.77174-0.70000.h5\n",
      "34/34 [==============================] - 86s 3s/step - loss: 0.7649 - categorical_accuracy: 0.7217 - val_loss: 0.7717 - val_categorical_accuracy: 0.7000 - lr: 8.0000e-06\n",
      "Epoch 26/30\n",
      "34/34 [==============================] - ETA: 0s - loss: 0.7749 - categorical_accuracy: 0.7029\n",
      "Epoch 26: saving model to model_init_2022-08-1404_54_24.410591/model-00026-0.77492-0.70287-0.72084-0.74000.h5\n",
      "34/34 [==============================] - 84s 3s/step - loss: 0.7749 - categorical_accuracy: 0.7029 - val_loss: 0.7208 - val_categorical_accuracy: 0.7400 - lr: 8.0000e-06\n",
      "Epoch 27/30\n",
      "34/34 [==============================] - ETA: 0s - loss: 0.7823 - categorical_accuracy: 0.7104\n",
      "Epoch 27: saving model to model_init_2022-08-1404_54_24.410591/model-00027-0.78227-0.71041-0.75319-0.70000.h5\n",
      "34/34 [==============================] - 86s 3s/step - loss: 0.7823 - categorical_accuracy: 0.7104 - val_loss: 0.7532 - val_categorical_accuracy: 0.7000 - lr: 8.0000e-06\n",
      "Epoch 28/30\n",
      "34/34 [==============================] - ETA: 0s - loss: 0.7781 - categorical_accuracy: 0.7112\n",
      "Epoch 28: saving model to model_init_2022-08-1404_54_24.410591/model-00028-0.77813-0.71116-0.76628-0.70000.h5\n",
      "\n",
      "Epoch 28: ReduceLROnPlateau reducing learning rate to 1.6000001778593287e-06.\n",
      "34/34 [==============================] - 86s 3s/step - loss: 0.7781 - categorical_accuracy: 0.7112 - val_loss: 0.7663 - val_categorical_accuracy: 0.7000 - lr: 8.0000e-06\n",
      "Epoch 29/30\n",
      "34/34 [==============================] - ETA: 0s - loss: 0.7090 - categorical_accuracy: 0.7270\n",
      "Epoch 29: saving model to model_init_2022-08-1404_54_24.410591/model-00029-0.70895-0.72700-0.79433-0.73000.h5\n",
      "34/34 [==============================] - 86s 3s/step - loss: 0.7090 - categorical_accuracy: 0.7270 - val_loss: 0.7943 - val_categorical_accuracy: 0.7300 - lr: 1.6000e-06\n",
      "Epoch 30/30\n",
      "34/34 [==============================] - ETA: 0s - loss: 0.7446 - categorical_accuracy: 0.7247\n",
      "Epoch 30: saving model to model_init_2022-08-1404_54_24.410591/model-00030-0.74462-0.72474-0.60339-0.79000.h5\n",
      "34/34 [==============================] - 86s 3s/step - loss: 0.7446 - categorical_accuracy: 0.7247 - val_loss: 0.6034 - val_categorical_accuracy: 0.7900 - lr: 1.6000e-06\n"
     ]
    }
   ],
   "source": [
    "# train the model\n",
    "\n",
    "print(\"Total Params:\", conv_3d4_model.count_params())\n",
    "history_model4=conv_3d4.train_model(conv_3d4_model,augment_data=True)"
   ]
  },
  {
   "cell_type": "code",
   "execution_count": 20,
   "metadata": {
    "colab": {
     "base_uri": "https://localhost:8080/",
     "height": 265
    },
    "executionInfo": {
     "elapsed": 934,
     "status": "ok",
     "timestamp": 1660455473916,
     "user": {
      "displayName": "Deepak Hiremath",
      "userId": "06961457277516205177"
     },
     "user_tz": -330
    },
    "id": "5_yImopfxH5s",
    "outputId": "91d9eef0-444f-4f67-acdb-e977a69bd8e1"
   },
   "outputs": [
    {
     "data": {
      "image/png": "[encoded data removed]",
      "text/plain": [
       "<Figure size 1080x288 with 2 Axes>"
      ]
     },
     "metadata": {
      "needs_background": "light"
     },
     "output_type": "display_data"
    }
   ],
   "source": [
    "### plot the training and validation metrics\n",
    "\n",
    "plot(history_model4)"
   ]
  },
  {
   "cell_type": "markdown",
   "metadata": {
    "id": "ENbQshXiw--S"
   },
   "source": [
    "### Observations\n",
    "\n",
    "- With more layers we see drastic performance improvement. We get validation accuracy of 79% "
   ]
  },
  {
   "cell_type": "markdown",
   "metadata": {
    "id": "uk_2wHB5xzNM"
   },
   "source": [
    "# Model 5 - Low memory footprint model\n",
    "- Reducing the number of parameters\n",
    "- Reducing the no. of neurons\n",
    "- Image 120 * 120\n",
    "- batch_size: 20\n",
    "- epochs: 25\n",
    "- dropouts:0.25\n",
    "- learning rate: 0.0002"
   ]
  },
  {
   "cell_type": "code",
   "execution_count": 22,
   "metadata": {
    "executionInfo": {
     "elapsed": 592,
     "status": "ok",
     "timestamp": 1660456024280,
     "user": {
      "displayName": "Deepak Hiremath",
      "userId": "06961457277516205177"
     },
     "user_tz": -330
    },
    "id": "Z322cfnsxszs"
   },
   "outputs": [],
   "source": [
    "# Building model with reduced parameters\n",
    "\n",
    "class ModelConv3D5(ModelBuilder):\n",
    "    \n",
    "    def define_model(self,dense_neurons=64,dropout=0.25):\n",
    "\n",
    "        model = Sequential()\n",
    "        model.add(Conv3D(16, (3, 3, 3), padding='same',\n",
    "                 input_shape=(self.frames_to_sample,self.image_height,self.image_width,self.channels)))\n",
    "        model.add(Activation('relu'))\n",
    "        model.add(BatchNormalization())\n",
    "        model.add(MaxPooling3D(pool_size=(2, 2, 2)))\n",
    "\n",
    "        model.add(Conv3D(32, (3, 3, 3), padding='same'))\n",
    "        model.add(Activation('relu'))\n",
    "        model.add(BatchNormalization())\n",
    "        model.add(MaxPooling3D(pool_size=(2, 2, 2)))\n",
    "\n",
    "        model.add(Conv3D(64, (2, 2, 2), padding='same'))\n",
    "        model.add(Activation('relu'))\n",
    "        model.add(BatchNormalization())\n",
    "        model.add(MaxPooling3D(pool_size=(2, 2, 2)))\n",
    "\n",
    "        model.add(Conv3D(128, (2, 2, 2), padding='same'))\n",
    "        model.add(Activation('relu'))\n",
    "        model.add(BatchNormalization())\n",
    "        model.add(MaxPooling3D(pool_size=(2, 2, 2)))\n",
    "        \n",
    "        model.add(Flatten())\n",
    "        model.add(Dense(dense_neurons,activation='relu'))\n",
    "        model.add(BatchNormalization())\n",
    "        model.add(Dropout(dropout))\n",
    "\n",
    "        model.add(Dense(dense_neurons,activation='relu'))\n",
    "        model.add(BatchNormalization())\n",
    "        model.add(Dropout(dropout))\n",
    "\n",
    "        model.add(Dense(self.num_classes,activation='softmax'))\n",
    "\n",
    "        optimiser = optimizers.Adam(lr=0.0002)\n",
    "        model.compile(optimizer=optimiser, loss='categorical_crossentropy', metrics=['categorical_accuracy'])\n",
    "        return model"
   ]
  },
  {
   "cell_type": "code",
   "execution_count": 27,
   "metadata": {
    "colab": {
     "base_uri": "https://localhost:8080/"
    },
    "executionInfo": {
     "elapsed": 1673,
     "status": "ok",
     "timestamp": 1660460276430,
     "user": {
      "displayName": "Deepak Hiremath",
      "userId": "06961457277516205177"
     },
     "user_tz": -330
    },
    "id": "9yEhNjcD48Qy",
    "outputId": "d0752f82-405e-4dd5-8568-644a35d90a4a"
   },
   "outputs": [
    {
     "name": "stdout",
     "output_type": "stream",
     "text": [
      "Model: \"sequential_3\"\n",
      "_________________________________________________________________\n",
      " Layer (type)                Output Shape              Param #   \n",
      "=================================================================\n",
      " conv3d_16 (Conv3D)          (None, 16, 120, 120, 16)  1312      \n",
      "                                                                 \n",
      " activation_16 (Activation)  (None, 16, 120, 120, 16)  0         \n",
      "                                                                 \n",
      " batch_normalization_22 (Bat  (None, 16, 120, 120, 16)  64       \n",
      " chNormalization)                                                \n",
      "                                                                 \n",
      " max_pooling3d_12 (MaxPoolin  (None, 8, 60, 60, 16)    0         \n",
      " g3D)                                                            \n",
      "                                                                 \n",
      " conv3d_17 (Conv3D)          (None, 8, 60, 60, 32)     13856     \n",
      "                                                                 \n",
      " activation_17 (Activation)  (None, 8, 60, 60, 32)     0         \n",
      "                                                                 \n",
      " batch_normalization_23 (Bat  (None, 8, 60, 60, 32)    128       \n",
      " chNormalization)                                                \n",
      "                                                                 \n",
      " max_pooling3d_13 (MaxPoolin  (None, 4, 30, 30, 32)    0         \n",
      " g3D)                                                            \n",
      "                                                                 \n",
      " conv3d_18 (Conv3D)          (None, 4, 30, 30, 64)     16448     \n",
      "                                                                 \n",
      " activation_18 (Activation)  (None, 4, 30, 30, 64)     0         \n",
      "                                                                 \n",
      " batch_normalization_24 (Bat  (None, 4, 30, 30, 64)    256       \n",
      " chNormalization)                                                \n",
      "                                                                 \n",
      " max_pooling3d_14 (MaxPoolin  (None, 2, 15, 15, 64)    0         \n",
      " g3D)                                                            \n",
      "                                                                 \n",
      " conv3d_19 (Conv3D)          (None, 2, 15, 15, 128)    65664     \n",
      "                                                                 \n",
      " activation_19 (Activation)  (None, 2, 15, 15, 128)    0         \n",
      "                                                                 \n",
      " batch_normalization_25 (Bat  (None, 2, 15, 15, 128)   512       \n",
      " chNormalization)                                                \n",
      "                                                                 \n",
      " max_pooling3d_15 (MaxPoolin  (None, 1, 7, 7, 128)     0         \n",
      " g3D)                                                            \n",
      "                                                                 \n",
      " flatten_3 (Flatten)         (None, 6272)              0         \n",
      "                                                                 \n",
      " dense_9 (Dense)             (None, 64)                401472    \n",
      "                                                                 \n",
      " batch_normalization_26 (Bat  (None, 64)               256       \n",
      " chNormalization)                                                \n",
      "                                                                 \n",
      " dropout_6 (Dropout)         (None, 64)                0         \n",
      "                                                                 \n",
      " dense_10 (Dense)            (None, 64)                4160      \n",
      "                                                                 \n",
      " batch_normalization_27 (Bat  (None, 64)               256       \n",
      " chNormalization)                                                \n",
      "                                                                 \n",
      " dropout_7 (Dropout)         (None, 64)                0         \n",
      "                                                                 \n",
      " dense_11 (Dense)            (None, 5)                 325       \n",
      "                                                                 \n",
      "=================================================================\n",
      "Total params: 504,709\n",
      "Trainable params: 503,973\n",
      "Non-trainable params: 736\n",
      "_________________________________________________________________\n"
     ]
    }
   ],
   "source": [
    "conv_3d5 = ModelConv3D5()\n",
    "conv_3d5.initialize_path(project_folder)\n",
    "conv_3d5.initialize_image_properties(image_height=120, image_width=120)\n",
    "conv_3d5.initialize_hyperparams(frames_to_sample=16,batch_size=20,num_epochs=25)  # reduced epoch\n",
    "conv_3d5_model=conv_3d5.define_model(dense_neurons=64,dropout=0.25) # reduced no. of neurons\n",
    "conv_3d5_model.summary()"
   ]
  },
  {
   "cell_type": "code",
   "execution_count": 28,
   "metadata": {
    "colab": {
     "base_uri": "https://localhost:8080/"
    },
    "executionInfo": {
     "elapsed": 1265570,
     "status": "ok",
     "timestamp": 1660462344159,
     "user": {
      "displayName": "Deepak Hiremath",
      "userId": "06961457277516205177"
     },
     "user_tz": -330
    },
    "id": "7Vblk8BP5wJr",
    "outputId": "15b1b92f-a37c-4225-8179-7f11f1713307"
   },
   "outputs": [
    {
     "metadata": {
      "tags": null
     },
     "name": "stderr",
     "output_type": "stream",
     "text": [
      "WARNING:tensorflow:`period` argument is deprecated. Please use `save_freq` to specify the frequency in number of batches seen.\n"
     ]
    },
    {
     "name": "stdout",
     "output_type": "stream",
     "text": [
      "Total Params: 504709\n",
      "Epoch 1/25\n",
      "34/34 [==============================] - ETA: 0s - loss: 1.8052 - categorical_accuracy: 0.3130\n",
      "Epoch 1: saving model to model_init_2022-08-1406_58_10.418757/model-00001-1.80518-0.31297-1.90456-0.16000.h5\n",
      "34/34 [==============================] - 86s 3s/step - loss: 1.8052 - categorical_accuracy: 0.3130 - val_loss: 1.9046 - val_categorical_accuracy: 0.1600 - lr: 2.0000e-04\n",
      "Epoch 2/25\n",
      "34/34 [==============================] - ETA: 0s - loss: 1.2483 - categorical_accuracy: 0.5113\n",
      "Epoch 2: saving model to model_init_2022-08-1406_58_10.418757/model-00002-1.24834-0.51131-3.05461-0.15000.h5\n",
      "34/34 [==============================] - 83s 3s/step - loss: 1.2483 - categorical_accuracy: 0.5113 - val_loss: 3.0546 - val_categorical_accuracy: 0.1500 - lr: 2.0000e-04\n",
      "Epoch 3/25\n",
      "34/34 [==============================] - ETA: 0s - loss: 1.0568 - categorical_accuracy: 0.5822\n",
      "Epoch 3: saving model to model_init_2022-08-1406_58_10.418757/model-00003-1.05679-0.58220-4.36384-0.16000.h5\n",
      "34/34 [==============================] - 85s 3s/step - loss: 1.0568 - categorical_accuracy: 0.5822 - val_loss: 4.3638 - val_categorical_accuracy: 0.1600 - lr: 2.0000e-04\n",
      "Epoch 4/25\n",
      "34/34 [==============================] - ETA: 0s - loss: 0.9138 - categorical_accuracy: 0.6538\n",
      "Epoch 4: saving model to model_init_2022-08-1406_58_10.418757/model-00004-0.91382-0.65385-4.95946-0.16000.h5\n",
      "34/34 [==============================] - 81s 2s/step - loss: 0.9138 - categorical_accuracy: 0.6538 - val_loss: 4.9595 - val_categorical_accuracy: 0.1600 - lr: 2.0000e-04\n",
      "Epoch 5/25\n",
      "34/34 [==============================] - ETA: 0s - loss: 0.8205 - categorical_accuracy: 0.6900\n",
      "Epoch 5: saving model to model_init_2022-08-1406_58_10.418757/model-00005-0.82049-0.69005-6.13701-0.15000.h5\n",
      "\n",
      "Epoch 5: ReduceLROnPlateau reducing learning rate to 3.9999998989515007e-05.\n",
      "34/34 [==============================] - 82s 2s/step - loss: 0.8205 - categorical_accuracy: 0.6900 - val_loss: 6.1370 - val_categorical_accuracy: 0.1500 - lr: 2.0000e-04\n",
      "Epoch 6/25\n",
      "34/34 [==============================] - ETA: 0s - loss: 0.7257 - categorical_accuracy: 0.7179\n",
      "Epoch 6: saving model to model_init_2022-08-1406_58_10.418757/model-00006-0.72569-0.71795-6.20841-0.16000.h5\n",
      "34/34 [==============================] - 82s 2s/step - loss: 0.7257 - categorical_accuracy: 0.7179 - val_loss: 6.2084 - val_categorical_accuracy: 0.1600 - lr: 4.0000e-05\n",
      "Epoch 7/25\n",
      "34/34 [==============================] - ETA: 0s - loss: 0.7173 - categorical_accuracy: 0.7240\n",
      "Epoch 7: saving model to model_init_2022-08-1406_58_10.418757/model-00007-0.71729-0.72398-6.13377-0.18000.h5\n",
      "34/34 [==============================] - 83s 3s/step - loss: 0.7173 - categorical_accuracy: 0.7240 - val_loss: 6.1338 - val_categorical_accuracy: 0.1800 - lr: 4.0000e-05\n",
      "Epoch 8/25\n",
      "34/34 [==============================] - ETA: 0s - loss: 0.6888 - categorical_accuracy: 0.7459\n",
      "Epoch 8: saving model to model_init_2022-08-1406_58_10.418757/model-00008-0.68885-0.74585-6.44191-0.14000.h5\n",
      "34/34 [==============================] - 82s 2s/step - loss: 0.6888 - categorical_accuracy: 0.7459 - val_loss: 6.4419 - val_categorical_accuracy: 0.1400 - lr: 4.0000e-05\n",
      "Epoch 9/25\n",
      "34/34 [==============================] - ETA: 0s - loss: 0.6480 - categorical_accuracy: 0.7489\n",
      "Epoch 9: saving model to model_init_2022-08-1406_58_10.418757/model-00009-0.64797-0.74887-6.02928-0.18000.h5\n",
      "\n",
      "Epoch 9: ReduceLROnPlateau reducing learning rate to 7.999999797903002e-06.\n",
      "34/34 [==============================] - 81s 2s/step - loss: 0.6480 - categorical_accuracy: 0.7489 - val_loss: 6.0293 - val_categorical_accuracy: 0.1800 - lr: 4.0000e-05\n",
      "Epoch 10/25\n",
      "33/34 [============================>.] - ETA: 2s - loss: 0.6669 - categorical_accuracy: 0.7447\n",
      "Epoch 10: saving model to model_init_2022-08-1406_58_10.418757/model-00010-0.66758-0.74434-4.99202-0.15000.h5\n",
      "34/34 [==============================] - 83s 2s/step - loss: 0.6676 - categorical_accuracy: 0.7443 - val_loss: 4.9920 - val_categorical_accuracy: 0.1500 - lr: 8.0000e-06\n",
      "Epoch 11/25\n",
      "34/34 [==============================] - ETA: 0s - loss: 0.6560 - categorical_accuracy: 0.7692\n",
      "Epoch 11: saving model to model_init_2022-08-1406_58_10.418757/model-00011-0.65598-0.76923-4.58614-0.18000.h5\n",
      "34/34 [==============================] - 83s 3s/step - loss: 0.6560 - categorical_accuracy: 0.7692 - val_loss: 4.5861 - val_categorical_accuracy: 0.1800 - lr: 8.0000e-06\n",
      "Epoch 12/25\n",
      "34/34 [==============================] - ETA: 0s - loss: 0.6704 - categorical_accuracy: 0.7481\n",
      "Epoch 12: saving model to model_init_2022-08-1406_58_10.418757/model-00012-0.67036-0.74811-3.80917-0.24000.h5\n",
      "34/34 [==============================] - 81s 2s/step - loss: 0.6704 - categorical_accuracy: 0.7481 - val_loss: 3.8092 - val_categorical_accuracy: 0.2400 - lr: 8.0000e-06\n",
      "Epoch 13/25\n",
      "34/34 [==============================] - ETA: 0s - loss: 0.5851 - categorical_accuracy: 0.7813\n",
      "Epoch 13: saving model to model_init_2022-08-1406_58_10.418757/model-00013-0.58513-0.78130-3.23750-0.22000.h5\n",
      "\n",
      "Epoch 13: ReduceLROnPlateau reducing learning rate to 1.5999999959603884e-06.\n",
      "34/34 [==============================] - 81s 2s/step - loss: 0.5851 - categorical_accuracy: 0.7813 - val_loss: 3.2375 - val_categorical_accuracy: 0.2200 - lr: 8.0000e-06\n",
      "Epoch 14/25\n",
      "34/34 [==============================] - ETA: 0s - loss: 0.6666 - categorical_accuracy: 0.7459\n",
      "Epoch 14: saving model to model_init_2022-08-1406_58_10.418757/model-00014-0.66656-0.74585-2.78976-0.25000.h5\n",
      "34/34 [==============================] - 83s 2s/step - loss: 0.6666 - categorical_accuracy: 0.7459 - val_loss: 2.7898 - val_categorical_accuracy: 0.2500 - lr: 1.6000e-06\n",
      "Epoch 15/25\n",
      "34/34 [==============================] - ETA: 0s - loss: 0.6177 - categorical_accuracy: 0.7738\n",
      "Epoch 15: saving model to model_init_2022-08-1406_58_10.418757/model-00015-0.61766-0.77376-2.11472-0.32000.h5\n",
      "34/34 [==============================] - 81s 2s/step - loss: 0.6177 - categorical_accuracy: 0.7738 - val_loss: 2.1147 - val_categorical_accuracy: 0.3200 - lr: 1.6000e-06\n",
      "Epoch 16/25\n",
      "34/34 [==============================] - ETA: 0s - loss: 0.6555 - categorical_accuracy: 0.7474\n",
      "Epoch 16: saving model to model_init_2022-08-1406_58_10.418757/model-00016-0.65552-0.74736-1.71199-0.40000.h5\n",
      "34/34 [==============================] - 81s 2s/step - loss: 0.6555 - categorical_accuracy: 0.7474 - val_loss: 1.7120 - val_categorical_accuracy: 0.4000 - lr: 1.6000e-06\n",
      "Epoch 17/25\n",
      "34/34 [==============================] - ETA: 0s - loss: 0.6266 - categorical_accuracy: 0.7730\n",
      "Epoch 17: saving model to model_init_2022-08-1406_58_10.418757/model-00017-0.62660-0.77300-1.42235-0.41000.h5\n",
      "34/34 [==============================] - 81s 2s/step - loss: 0.6266 - categorical_accuracy: 0.7730 - val_loss: 1.4224 - val_categorical_accuracy: 0.4100 - lr: 1.6000e-06\n",
      "Epoch 18/25\n",
      "34/34 [==============================] - ETA: 0s - loss: 0.6620 - categorical_accuracy: 0.7587\n",
      "Epoch 18: saving model to model_init_2022-08-1406_58_10.418757/model-00018-0.66201-0.75867-1.19671-0.55000.h5\n",
      "34/34 [==============================] - 81s 2s/step - loss: 0.6620 - categorical_accuracy: 0.7587 - val_loss: 1.1967 - val_categorical_accuracy: 0.5500 - lr: 1.6000e-06\n",
      "Epoch 19/25\n",
      "34/34 [==============================] - ETA: 0s - loss: 0.6442 - categorical_accuracy: 0.7594\n",
      "Epoch 19: saving model to model_init_2022-08-1406_58_10.418757/model-00019-0.64417-0.75943-0.99886-0.57000.h5\n",
      "34/34 [==============================] - 81s 2s/step - loss: 0.6442 - categorical_accuracy: 0.7594 - val_loss: 0.9989 - val_categorical_accuracy: 0.5700 - lr: 1.6000e-06\n",
      "Epoch 20/25\n",
      "34/34 [==============================] - ETA: 0s - loss: 0.6619 - categorical_accuracy: 0.7640\n",
      "Epoch 20: saving model to model_init_2022-08-1406_58_10.418757/model-00020-0.66194-0.76395-0.89454-0.62000.h5\n",
      "34/34 [==============================] - 82s 2s/step - loss: 0.6619 - categorical_accuracy: 0.7640 - val_loss: 0.8945 - val_categorical_accuracy: 0.6200 - lr: 1.6000e-06\n",
      "Epoch 21/25\n",
      "34/34 [==============================] - ETA: 0s - loss: 0.6245 - categorical_accuracy: 0.7790\n",
      "Epoch 21: saving model to model_init_2022-08-1406_58_10.418757/model-00021-0.62449-0.77903-0.84155-0.67000.h5\n",
      "34/34 [==============================] - 83s 3s/step - loss: 0.6245 - categorical_accuracy: 0.7790 - val_loss: 0.8415 - val_categorical_accuracy: 0.6700 - lr: 1.6000e-06\n",
      "Epoch 22/25\n",
      "34/34 [==============================] - ETA: 0s - loss: 0.6195 - categorical_accuracy: 0.7805\n",
      "Epoch 22: saving model to model_init_2022-08-1406_58_10.418757/model-00022-0.61953-0.78054-0.84704-0.67000.h5\n",
      "34/34 [==============================] - 81s 2s/step - loss: 0.6195 - categorical_accuracy: 0.7805 - val_loss: 0.8470 - val_categorical_accuracy: 0.6700 - lr: 1.6000e-06\n",
      "Epoch 23/25\n",
      "34/34 [==============================] - ETA: 0s - loss: 0.6472 - categorical_accuracy: 0.7655\n",
      "Epoch 23: saving model to model_init_2022-08-1406_58_10.418757/model-00023-0.64717-0.76546-0.81063-0.69000.h5\n",
      "34/34 [==============================] - 82s 2s/step - loss: 0.6472 - categorical_accuracy: 0.7655 - val_loss: 0.8106 - val_categorical_accuracy: 0.6900 - lr: 1.6000e-06\n",
      "Epoch 24/25\n",
      "34/34 [==============================] - ETA: 0s - loss: 0.6376 - categorical_accuracy: 0.7715\n",
      "Epoch 24: saving model to model_init_2022-08-1406_58_10.418757/model-00024-0.63755-0.77149-0.66273-0.70000.h5\n",
      "34/34 [==============================] - 81s 2s/step - loss: 0.6376 - categorical_accuracy: 0.7715 - val_loss: 0.6627 - val_categorical_accuracy: 0.7000 - lr: 1.6000e-06\n",
      "Epoch 25/25\n",
      "34/34 [==============================] - ETA: 0s - loss: 0.6673 - categorical_accuracy: 0.7496\n",
      "Epoch 25: saving model to model_init_2022-08-1406_58_10.418757/model-00025-0.66728-0.74962-0.78068-0.71000.h5\n",
      "34/34 [==============================] - 81s 2s/step - loss: 0.6673 - categorical_accuracy: 0.7496 - val_loss: 0.7807 - val_categorical_accuracy: 0.7100 - lr: 1.6000e-06\n"
     ]
    }
   ],
   "source": [
    "#training\n",
    "print(\"Total Params:\", conv_3d5_model.count_params())\n",
    "history_model5=conv_3d5.train_model(conv_3d5_model,augment_data=True)"
   ]
  },
  {
   "cell_type": "code",
   "execution_count": 29,
   "metadata": {
    "colab": {
     "base_uri": "https://localhost:8080/",
     "height": 265
    },
    "executionInfo": {
     "elapsed": 1136,
     "status": "ok",
     "timestamp": 1660462352347,
     "user": {
      "displayName": "Deepak Hiremath",
      "userId": "06961457277516205177"
     },
     "user_tz": -330
    },
    "id": "skxFiUSU56MG",
    "outputId": "b6700319-2729-4320-a635-f633809a1df1"
   },
   "outputs": [
    {
     "data": {
      "image/png": "[encoded data removed]",
      "text/plain": [
       "<Figure size 1080x288 with 2 Axes>"
      ]
     },
     "metadata": {
      "needs_background": "light"
     },
     "output_type": "display_data"
    }
   ],
   "source": [
    "plot(history_model5)"
   ]
  },
  {
   "cell_type": "markdown",
   "metadata": {
    "id": "o8Dv4voOM-kA"
   },
   "source": [
    "### Observations\n",
    "\n",
    "- For the above low memory foot print model the best validation accuracy of 71%\n",
    "- We can revise the parameters to check performance"
   ]
  },
  {
   "cell_type": "markdown",
   "metadata": {
    "id": "Ye_IwjfeNEZF"
   },
   "source": [
    "# Model 6: CNN- LSTM Model\n",
    "\n",
    "- Five CNN 2D layers.\n",
    "- One LSTM layer of 128 cells\n",
    "- 25 epochs\n"
   ]
  },
  {
   "cell_type": "code",
   "execution_count": 18,
   "metadata": {
    "executionInfo": {
     "elapsed": 410,
     "status": "ok",
     "timestamp": 1660475567794,
     "user": {
      "displayName": "Deepak Hiremath",
      "userId": "06961457277516205177"
     },
     "user_tz": -330
    },
    "id": "pLokao0GNT3q"
   },
   "outputs": [],
   "source": [
    "# LSTM-CNN the model\n",
    "\n",
    "class LSTMCNN1(ModelBuilder):\n",
    "    \n",
    "    def define_model(self,lstm_cells=64,dense_neurons=64,dropout=0.25):\n",
    "\n",
    "        model = Sequential()\n",
    "\n",
    "        model.add(TimeDistributed(Conv2D(16, (3, 3) , padding='same', activation='relu'),\n",
    "                                  input_shape=(self.frames_to_sample,self.image_height,self.image_width,self.channels)))\n",
    "        model.add(TimeDistributed(BatchNormalization()))\n",
    "        model.add(TimeDistributed(MaxPooling2D((2, 2))))\n",
    "        \n",
    "        model.add(TimeDistributed(Conv2D(32, (3, 3) , padding='same', activation='relu')))\n",
    "        model.add(TimeDistributed(BatchNormalization()))\n",
    "        model.add(TimeDistributed(MaxPooling2D((2, 2))))\n",
    "        \n",
    "        model.add(TimeDistributed(Conv2D(64, (3, 3) , padding='same', activation='relu')))\n",
    "        model.add(TimeDistributed(BatchNormalization()))\n",
    "        model.add(TimeDistributed(MaxPooling2D((2, 2))))\n",
    "        \n",
    "        model.add(TimeDistributed(Conv2D(128, (3, 3) , padding='same', activation='relu')))\n",
    "        model.add(TimeDistributed(BatchNormalization()))\n",
    "        model.add(TimeDistributed(MaxPooling2D((2, 2))))\n",
    "        \n",
    "        model.add(TimeDistributed(Conv2D(256, (3, 3) , padding='same', activation='relu')))\n",
    "        model.add(TimeDistributed(BatchNormalization()))\n",
    "        model.add(TimeDistributed(MaxPooling2D((2, 2))))\n",
    "        \n",
    "        model.add(TimeDistributed(Flatten()))\n",
    "\n",
    "\n",
    "        model.add(LSTM(lstm_cells))\n",
    "        model.add(Dropout(dropout))\n",
    "        \n",
    "        model.add(Dense(dense_neurons,activation='relu'))\n",
    "        model.add(Dropout(dropout))\n",
    "        \n",
    "        model.add(Dense(self.num_classes, activation='softmax'))\n",
    "        optimiser = optimizers.Adam()\n",
    "        model.compile(optimizer=optimiser, loss='categorical_crossentropy', metrics=['categorical_accuracy'])\n",
    "        return model"
   ]
  },
  {
   "cell_type": "code",
   "execution_count": 8,
   "metadata": {
    "colab": {
     "base_uri": "https://localhost:8080/"
    },
    "executionInfo": {
     "elapsed": 4392,
     "status": "ok",
     "timestamp": 1660463273707,
     "user": {
      "displayName": "Deepak Hiremath",
      "userId": "06961457277516205177"
     },
     "user_tz": -330
    },
    "id": "b2ns64AcNC6-",
    "outputId": "073aecce-08ce-4809-955e-da19dd40b1d9"
   },
   "outputs": [
    {
     "name": "stdout",
     "output_type": "stream",
     "text": [
      "Model: \"sequential\"\n",
      "_________________________________________________________________\n",
      " Layer (type)                Output Shape              Param #   \n",
      "=================================================================\n",
      " time_distributed (TimeDistr  (None, 18, 120, 120, 16)  448      \n",
      " ibuted)                                                         \n",
      "                                                                 \n",
      " time_distributed_1 (TimeDis  (None, 18, 120, 120, 16)  64       \n",
      " tributed)                                                       \n",
      "                                                                 \n",
      " time_distributed_2 (TimeDis  (None, 18, 60, 60, 16)   0         \n",
      " tributed)                                                       \n",
      "                                                                 \n",
      " time_distributed_3 (TimeDis  (None, 18, 60, 60, 32)   4640      \n",
      " tributed)                                                       \n",
      "                                                                 \n",
      " time_distributed_4 (TimeDis  (None, 18, 60, 60, 32)   128       \n",
      " tributed)                                                       \n",
      "                                                                 \n",
      " time_distributed_5 (TimeDis  (None, 18, 30, 30, 32)   0         \n",
      " tributed)                                                       \n",
      "                                                                 \n",
      " time_distributed_6 (TimeDis  (None, 18, 30, 30, 64)   18496     \n",
      " tributed)                                                       \n",
      "                                                                 \n",
      " time_distributed_7 (TimeDis  (None, 18, 30, 30, 64)   256       \n",
      " tributed)                                                       \n",
      "                                                                 \n",
      " time_distributed_8 (TimeDis  (None, 18, 15, 15, 64)   0         \n",
      " tributed)                                                       \n",
      "                                                                 \n",
      " time_distributed_9 (TimeDis  (None, 18, 15, 15, 128)  73856     \n",
      " tributed)                                                       \n",
      "                                                                 \n",
      " time_distributed_10 (TimeDi  (None, 18, 15, 15, 128)  512       \n",
      " stributed)                                                      \n",
      "                                                                 \n",
      " time_distributed_11 (TimeDi  (None, 18, 7, 7, 128)    0         \n",
      " stributed)                                                      \n",
      "                                                                 \n",
      " time_distributed_12 (TimeDi  (None, 18, 7, 7, 256)    295168    \n",
      " stributed)                                                      \n",
      "                                                                 \n",
      " time_distributed_13 (TimeDi  (None, 18, 7, 7, 256)    1024      \n",
      " stributed)                                                      \n",
      "                                                                 \n",
      " time_distributed_14 (TimeDi  (None, 18, 3, 3, 256)    0         \n",
      " stributed)                                                      \n",
      "                                                                 \n",
      " time_distributed_15 (TimeDi  (None, 18, 2304)         0         \n",
      " stributed)                                                      \n",
      "                                                                 \n",
      " lstm (LSTM)                 (None, 128)               1245696   \n",
      "                                                                 \n",
      " dropout (Dropout)           (None, 128)               0         \n",
      "                                                                 \n",
      " dense (Dense)               (None, 128)               16512     \n",
      "                                                                 \n",
      " dropout_1 (Dropout)         (None, 128)               0         \n",
      "                                                                 \n",
      " dense_1 (Dense)             (None, 5)                 645       \n",
      "                                                                 \n",
      "=================================================================\n",
      "Total params: 1,657,445\n",
      "Trainable params: 1,656,453\n",
      "Non-trainable params: 992\n",
      "_________________________________________________________________\n"
     ]
    }
   ],
   "source": [
    "# Define LSTM CNN joint model\n",
    "\n",
    "rnn_cnn1=LSTMCNN1()\n",
    "rnn_cnn1.initialize_path(project_folder)\n",
    "rnn_cnn1.initialize_image_properties(image_height=120,image_width=120)\n",
    "rnn_cnn1.initialize_hyperparams(frames_to_sample=18,batch_size=20,num_epochs=25) \n",
    "rnn_cnn1_model=rnn_cnn1.define_model(lstm_cells=128,dense_neurons=128,dropout=0.25)\n",
    "rnn_cnn1_model.summary()"
   ]
  },
  {
   "cell_type": "code",
   "execution_count": 9,
   "metadata": {
    "colab": {
     "base_uri": "https://localhost:8080/"
    },
    "executionInfo": {
     "elapsed": 2385090,
     "status": "ok",
     "timestamp": 1660465663657,
     "user": {
      "displayName": "Deepak Hiremath",
      "userId": "06961457277516205177"
     },
     "user_tz": -330
    },
    "id": "N0R1y2FSSt_H",
    "outputId": "bb39a10b-f2de-4e26-930b-b4a98c90b44d"
   },
   "outputs": [
    {
     "name": "stderr",
     "output_type": "stream",
     "text": [
      "WARNING:tensorflow:`period` argument is deprecated. Please use `save_freq` to specify the frequency in number of batches seen.\n"
     ]
    },
    {
     "name": "stdout",
     "output_type": "stream",
     "text": [
      "Total Params: 1657445\n",
      "Epoch 1/25\n",
      "34/34 [==============================] - ETA: 0s - loss: 1.4466 - categorical_accuracy: 0.3703\n",
      "Epoch 1: saving model to model_init_2022-08-1407_47_58.522713/model-00001-1.44662-0.37029-1.82262-0.21000.h5\n",
      "34/34 [==============================] - 126s 3s/step - loss: 1.4466 - categorical_accuracy: 0.3703 - val_loss: 1.8226 - val_categorical_accuracy: 0.2100 - lr: 0.0010\n",
      "Epoch 2/25\n",
      "34/34 [==============================] - ETA: 0s - loss: 1.2395 - categorical_accuracy: 0.4729\n",
      "Epoch 2: saving model to model_init_2022-08-1407_47_58.522713/model-00002-1.23947-0.47285-2.22248-0.19000.h5\n",
      "34/34 [==============================] - 97s 3s/step - loss: 1.2395 - categorical_accuracy: 0.4729 - val_loss: 2.2225 - val_categorical_accuracy: 0.1900 - lr: 0.0010\n",
      "Epoch 3/25\n",
      "34/34 [==============================] - ETA: 0s - loss: 1.1109 - categorical_accuracy: 0.5415\n",
      "Epoch 3: saving model to model_init_2022-08-1407_47_58.522713/model-00003-1.11094-0.54148-2.32189-0.20000.h5\n",
      "34/34 [==============================] - 93s 3s/step - loss: 1.1109 - categorical_accuracy: 0.5415 - val_loss: 2.3219 - val_categorical_accuracy: 0.2000 - lr: 0.0010\n",
      "Epoch 4/25\n",
      "34/34 [==============================] - ETA: 0s - loss: 0.9468 - categorical_accuracy: 0.5980\n",
      "Epoch 4: saving model to model_init_2022-08-1407_47_58.522713/model-00004-0.94676-0.59804-2.29093-0.24000.h5\n",
      "34/34 [==============================] - 92s 3s/step - loss: 0.9468 - categorical_accuracy: 0.5980 - val_loss: 2.2909 - val_categorical_accuracy: 0.2400 - lr: 0.0010\n",
      "Epoch 5/25\n",
      "34/34 [==============================] - ETA: 0s - loss: 0.8482 - categorical_accuracy: 0.6576\n",
      "Epoch 5: saving model to model_init_2022-08-1407_47_58.522713/model-00005-0.84815-0.65762-3.05899-0.23000.h5\n",
      "\n",
      "Epoch 5: ReduceLROnPlateau reducing learning rate to 0.00020000000949949026.\n",
      "34/34 [==============================] - 91s 3s/step - loss: 0.8482 - categorical_accuracy: 0.6576 - val_loss: 3.0590 - val_categorical_accuracy: 0.2300 - lr: 0.0010\n",
      "Epoch 6/25\n",
      "34/34 [==============================] - ETA: 0s - loss: 0.6984 - categorical_accuracy: 0.7308\n",
      "Epoch 6: saving model to model_init_2022-08-1407_47_58.522713/model-00006-0.69838-0.73077-3.44101-0.21000.h5\n",
      "34/34 [==============================] - 94s 3s/step - loss: 0.6984 - categorical_accuracy: 0.7308 - val_loss: 3.4410 - val_categorical_accuracy: 0.2100 - lr: 2.0000e-04\n",
      "Epoch 7/25\n",
      "34/34 [==============================] - ETA: 0s - loss: 0.5726 - categorical_accuracy: 0.7881\n",
      "Epoch 7: saving model to model_init_2022-08-1407_47_58.522713/model-00007-0.57265-0.78808-2.63410-0.24000.h5\n",
      "34/34 [==============================] - 94s 3s/step - loss: 0.5726 - categorical_accuracy: 0.7881 - val_loss: 2.6341 - val_categorical_accuracy: 0.2400 - lr: 2.0000e-04\n",
      "Epoch 8/25\n",
      "34/34 [==============================] - ETA: 0s - loss: 0.5274 - categorical_accuracy: 0.8062\n",
      "Epoch 8: saving model to model_init_2022-08-1407_47_58.522713/model-00008-0.52743-0.80618-3.26127-0.16000.h5\n",
      "34/34 [==============================] - 94s 3s/step - loss: 0.5274 - categorical_accuracy: 0.8062 - val_loss: 3.2613 - val_categorical_accuracy: 0.1600 - lr: 2.0000e-04\n",
      "Epoch 9/25\n",
      "34/34 [==============================] - ETA: 0s - loss: 0.4720 - categorical_accuracy: 0.8281\n",
      "Epoch 9: saving model to model_init_2022-08-1407_47_58.522713/model-00009-0.47200-0.82805-2.80759-0.23000.h5\n",
      "\n",
      "Epoch 9: ReduceLROnPlateau reducing learning rate to 4.0000001899898055e-05.\n",
      "34/34 [==============================] - 94s 3s/step - loss: 0.4720 - categorical_accuracy: 0.8281 - val_loss: 2.8076 - val_categorical_accuracy: 0.2300 - lr: 2.0000e-04\n",
      "Epoch 10/25\n",
      "34/34 [==============================] - ETA: 0s - loss: 0.4029 - categorical_accuracy: 0.8627\n",
      "Epoch 10: saving model to model_init_2022-08-1407_47_58.522713/model-00010-0.40285-0.86275-2.87280-0.19000.h5\n",
      "34/34 [==============================] - 93s 3s/step - loss: 0.4029 - categorical_accuracy: 0.8627 - val_loss: 2.8728 - val_categorical_accuracy: 0.1900 - lr: 4.0000e-05\n",
      "Epoch 11/25\n",
      "34/34 [==============================] - ETA: 0s - loss: 0.3938 - categorical_accuracy: 0.8658\n",
      "Epoch 11: saving model to model_init_2022-08-1407_47_58.522713/model-00011-0.39375-0.86576-2.55705-0.29000.h5\n",
      "34/34 [==============================] - 94s 3s/step - loss: 0.3938 - categorical_accuracy: 0.8658 - val_loss: 2.5571 - val_categorical_accuracy: 0.2900 - lr: 4.0000e-05\n",
      "Epoch 12/25\n",
      "34/34 [==============================] - ETA: 0s - loss: 0.3983 - categorical_accuracy: 0.8627\n",
      "Epoch 12: saving model to model_init_2022-08-1407_47_58.522713/model-00012-0.39835-0.86275-2.37781-0.30000.h5\n",
      "34/34 [==============================] - 94s 3s/step - loss: 0.3983 - categorical_accuracy: 0.8627 - val_loss: 2.3778 - val_categorical_accuracy: 0.3000 - lr: 4.0000e-05\n",
      "Epoch 13/25\n",
      "34/34 [==============================] - ETA: 0s - loss: 0.3777 - categorical_accuracy: 0.8612\n",
      "Epoch 13: saving model to model_init_2022-08-1407_47_58.522713/model-00013-0.37770-0.86124-1.82199-0.37000.h5\n",
      "34/34 [==============================] - 95s 3s/step - loss: 0.3777 - categorical_accuracy: 0.8612 - val_loss: 1.8220 - val_categorical_accuracy: 0.3700 - lr: 4.0000e-05\n",
      "Epoch 14/25\n",
      "34/34 [==============================] - ETA: 0s - loss: 0.3753 - categorical_accuracy: 0.8688\n",
      "Epoch 14: saving model to model_init_2022-08-1407_47_58.522713/model-00014-0.37532-0.86878-1.73895-0.32000.h5\n",
      "34/34 [==============================] - 96s 3s/step - loss: 0.3753 - categorical_accuracy: 0.8688 - val_loss: 1.7389 - val_categorical_accuracy: 0.3200 - lr: 4.0000e-05\n",
      "Epoch 15/25\n",
      "34/34 [==============================] - ETA: 0s - loss: 0.3701 - categorical_accuracy: 0.8756\n",
      "Epoch 15: saving model to model_init_2022-08-1407_47_58.522713/model-00015-0.37013-0.87557-1.32497-0.48000.h5\n",
      "34/34 [==============================] - 92s 3s/step - loss: 0.3701 - categorical_accuracy: 0.8756 - val_loss: 1.3250 - val_categorical_accuracy: 0.4800 - lr: 4.0000e-05\n",
      "Epoch 16/25\n",
      "34/34 [==============================] - ETA: 0s - loss: 0.3674 - categorical_accuracy: 0.8771\n",
      "Epoch 16: saving model to model_init_2022-08-1407_47_58.522713/model-00016-0.36735-0.87707-1.10464-0.60000.h5\n",
      "34/34 [==============================] - 98s 3s/step - loss: 0.3674 - categorical_accuracy: 0.8771 - val_loss: 1.1046 - val_categorical_accuracy: 0.6000 - lr: 4.0000e-05\n",
      "Epoch 17/25\n",
      "34/34 [==============================] - ETA: 0s - loss: 0.3179 - categorical_accuracy: 0.9087\n",
      "Epoch 17: saving model to model_init_2022-08-1407_47_58.522713/model-00017-0.31790-0.90875-0.89808-0.63000.h5\n",
      "34/34 [==============================] - 92s 3s/step - loss: 0.3179 - categorical_accuracy: 0.9087 - val_loss: 0.8981 - val_categorical_accuracy: 0.6300 - lr: 4.0000e-05\n",
      "Epoch 18/25\n",
      "34/34 [==============================] - ETA: 0s - loss: 0.3178 - categorical_accuracy: 0.8997\n",
      "Epoch 18: saving model to model_init_2022-08-1407_47_58.522713/model-00018-0.31782-0.89970-0.93249-0.55000.h5\n",
      "34/34 [==============================] - 93s 3s/step - loss: 0.3178 - categorical_accuracy: 0.8997 - val_loss: 0.9325 - val_categorical_accuracy: 0.5500 - lr: 4.0000e-05\n",
      "Epoch 19/25\n",
      "34/34 [==============================] - ETA: 0s - loss: 0.3103 - categorical_accuracy: 0.8989\n",
      "Epoch 19: saving model to model_init_2022-08-1407_47_58.522713/model-00019-0.31033-0.89894-0.72524-0.69000.h5\n",
      "34/34 [==============================] - 94s 3s/step - loss: 0.3103 - categorical_accuracy: 0.8989 - val_loss: 0.7252 - val_categorical_accuracy: 0.6900 - lr: 4.0000e-05\n",
      "Epoch 20/25\n",
      "34/34 [==============================] - ETA: 0s - loss: 0.2807 - categorical_accuracy: 0.9125\n",
      "Epoch 20: saving model to model_init_2022-08-1407_47_58.522713/model-00020-0.28066-0.91252-0.67988-0.74000.h5\n",
      "34/34 [==============================] - 95s 3s/step - loss: 0.2807 - categorical_accuracy: 0.9125 - val_loss: 0.6799 - val_categorical_accuracy: 0.7400 - lr: 4.0000e-05\n",
      "Epoch 21/25\n",
      "34/34 [==============================] - ETA: 0s - loss: 0.2886 - categorical_accuracy: 0.9027\n",
      "Epoch 21: saving model to model_init_2022-08-1407_47_58.522713/model-00021-0.28855-0.90271-0.66938-0.74000.h5\n",
      "34/34 [==============================] - 96s 3s/step - loss: 0.2886 - categorical_accuracy: 0.9027 - val_loss: 0.6694 - val_categorical_accuracy: 0.7400 - lr: 4.0000e-05\n",
      "Epoch 22/25\n",
      "34/34 [==============================] - ETA: 0s - loss: 0.2716 - categorical_accuracy: 0.9178\n",
      "Epoch 22: saving model to model_init_2022-08-1407_47_58.522713/model-00022-0.27159-0.91780-0.62093-0.74000.h5\n",
      "34/34 [==============================] - 96s 3s/step - loss: 0.2716 - categorical_accuracy: 0.9178 - val_loss: 0.6209 - val_categorical_accuracy: 0.7400 - lr: 4.0000e-05\n",
      "Epoch 23/25\n",
      "34/34 [==============================] - ETA: 0s - loss: 0.2781 - categorical_accuracy: 0.9050\n",
      "Epoch 23: saving model to model_init_2022-08-1407_47_58.522713/model-00023-0.27808-0.90498-0.74221-0.72000.h5\n",
      "34/34 [==============================] - 94s 3s/step - loss: 0.2781 - categorical_accuracy: 0.9050 - val_loss: 0.7422 - val_categorical_accuracy: 0.7200 - lr: 4.0000e-05\n",
      "Epoch 24/25\n",
      "34/34 [==============================] - ETA: 0s - loss: 0.2464 - categorical_accuracy: 0.9223\n",
      "Epoch 24: saving model to model_init_2022-08-1407_47_58.522713/model-00024-0.24636-0.92232-0.71253-0.74000.h5\n",
      "34/34 [==============================] - 94s 3s/step - loss: 0.2464 - categorical_accuracy: 0.9223 - val_loss: 0.7125 - val_categorical_accuracy: 0.7400 - lr: 4.0000e-05\n",
      "Epoch 25/25\n",
      "34/34 [==============================] - ETA: 0s - loss: 0.2482 - categorical_accuracy: 0.9291\n",
      "Epoch 25: saving model to model_init_2022-08-1407_47_58.522713/model-00025-0.24822-0.92911-0.62886-0.76000.h5\n",
      "34/34 [==============================] - 92s 3s/step - loss: 0.2482 - categorical_accuracy: 0.9291 - val_loss: 0.6289 - val_categorical_accuracy: 0.7600 - lr: 4.0000e-05\n"
     ]
    }
   ],
   "source": [
    "# train th emodel\n",
    "\n",
    "print(\"Total Params:\", rnn_cnn1_model.count_params())\n",
    "history_model6=rnn_cnn1.train_model(rnn_cnn1_model,augment_data=True)"
   ]
  },
  {
   "cell_type": "code",
   "execution_count": 12,
   "metadata": {
    "colab": {
     "base_uri": "https://localhost:8080/",
     "height": 265
    },
    "executionInfo": {
     "elapsed": 8,
     "status": "ok",
     "timestamp": 1660465761657,
     "user": {
      "displayName": "Deepak Hiremath",
      "userId": "06961457277516205177"
     },
     "user_tz": -330
    },
    "id": "TvsgpNsYS201",
    "outputId": "40a7c7de-481c-461e-9aad-679fbdc315aa"
   },
   "outputs": [
    {
     "data": {
      "image/png": "[encoded data removed]",
      "text/plain": [
       "<Figure size 1080x288 with 2 Axes>"
      ]
     },
     "metadata": {
      "needs_background": "light"
     },
     "output_type": "display_data"
    }
   ],
   "source": [
    "# plot training and validation metrics\n",
    "plot(history_model6)"
   ]
  },
  {
   "cell_type": "markdown",
   "metadata": {
    "id": "kxYHmcWoafy0"
   },
   "source": [
    "### Observations & Conclusions\n",
    "\n",
    "- For LSTM-CNN model we observed a best validation accuracy of 76% and training accuracy of around 92%.\n",
    "- As we see overfitting, let us augment the data with a small amount of rotation and with the same model."
   ]
  },
  {
   "cell_type": "markdown",
   "metadata": {
    "id": "6-wSi_uJba4u"
   },
   "source": [
    "#### Augmentated Model\n",
    "\n",
    "- Augment the above RNN CNN model"
   ]
  },
  {
   "cell_type": "code",
   "execution_count": 13,
   "metadata": {
    "executionInfo": {
     "elapsed": 506,
     "status": "ok",
     "timestamp": 1660471584087,
     "user": {
      "displayName": "Deepak Hiremath",
      "userId": "06961457277516205177"
     },
     "user_tz": -330
    },
    "id": "PwQ986QnakZ8"
   },
   "outputs": [],
   "source": [
    "\n",
    "class ModelBuilderMoreAugmentation(metaclass= abc.ABCMeta):\n",
    "    \n",
    "    def initialize_path(self,project_folder):\n",
    "        self.train_doc = np.random.permutation(open(project_folder + '/' + 'train.csv').readlines())\n",
    "        self.val_doc = np.random.permutation(open(project_folder + '/' + 'val.csv').readlines())\n",
    "        self.train_path = project_folder + '/' + 'train'\n",
    "        self.val_path =  project_folder + '/' + 'val'\n",
    "        self.num_train_sequences = len(self.train_doc)\n",
    "        self.num_val_sequences = len(self.val_doc)\n",
    "        \n",
    "    def initialize_image_properties(self,image_height=100,image_width=100):\n",
    "        self.image_height=image_height\n",
    "        self.image_width=image_width\n",
    "        self.channels=3\n",
    "        self.num_classes=5\n",
    "        self.total_frames=30\n",
    "          \n",
    "    def initialize_hyperparams(self,frames_to_sample=30,batch_size=20,num_epochs=20):\n",
    "        self.frames_to_sample=frames_to_sample\n",
    "        self.batch_size=batch_size\n",
    "        self.num_epochs=num_epochs\n",
    "        \n",
    "        \n",
    "    def generator(self,source_path, folder_list, augment=False):\n",
    "        img_idx = np.round(np.linspace(0,self.total_frames-1,self.frames_to_sample)).astype(int)\n",
    "        batch_size=self.batch_size\n",
    "        while True:\n",
    "            t = np.random.permutation(folder_list)\n",
    "            num_batches = len(t)//batch_size\n",
    "        \n",
    "            for batch in range(num_batches): \n",
    "                batch_data, batch_labels= self.one_batch_data(source_path,t,batch,batch_size,img_idx,augment)\n",
    "                yield batch_data, batch_labels \n",
    "\n",
    "            remaining_seq=len(t)%batch_size\n",
    "        \n",
    "            if (remaining_seq != 0):\n",
    "                batch_data, batch_labels= self.one_batch_data(source_path,t,num_batches,batch_size,img_idx,augment,remaining_seq)\n",
    "                yield batch_data, batch_labels \n",
    "    \n",
    "    \n",
    "    def one_batch_data(self,source_path,t,batch,batch_size,img_idx,augment,remaining_seq=0):\n",
    "    \n",
    "        seq_len = remaining_seq if remaining_seq else batch_size\n",
    "    \n",
    "        batch_data = np.zeros((seq_len,len(img_idx),self.image_height,self.image_width,self.channels)) \n",
    "        batch_labels = np.zeros((seq_len,self.num_classes)) \n",
    "    \n",
    "        if (augment): batch_data_aug = np.zeros((seq_len,len(img_idx),self.image_height,self.image_width,self.channels))\n",
    "\n",
    "        \n",
    "        for folder in range(seq_len): \n",
    "            imgs = os.listdir(source_path+'/'+ t[folder + (batch*batch_size)].split(';')[0]) \n",
    "            for idx,item in enumerate(img_idx): \n",
    "                image = imread(source_path+'/'+ t[folder + (batch*batch_size)].strip().split(';')[0]+'/'+imgs[item]).astype(np.float32)\n",
    "                image_resized=imresize(image,(self.image_height,self.image_width,3))\n",
    "            \n",
    "\n",
    "                batch_data[folder,idx,:,:,0] = (image_resized[:,:,0])/255\n",
    "                batch_data[folder,idx,:,:,1] = (image_resized[:,:,1])/255\n",
    "                batch_data[folder,idx,:,:,2] = (image_resized[:,:,2])/255\n",
    "            \n",
    "                if (augment):\n",
    "                    shifted = cv2.warpAffine(image, \n",
    "                                             np.float32([[1, 0, np.random.randint(-30,30)],[0, 1, np.random.randint(-30,30)]]), \n",
    "                                            (image.shape[1], image.shape[0]))\n",
    "                    \n",
    "                    gray = cv2.cvtColor(shifted,cv2.COLOR_BGR2GRAY)\n",
    "\n",
    "                    x0, y0 = np.argwhere(gray > 0).min(axis=0)\n",
    "                    x1, y1 = np.argwhere(gray > 0).max(axis=0) \n",
    "                    \n",
    "                    cropped=shifted[x0:x1,y0:y1,:]\n",
    "                    \n",
    "                    image_resized=imresize(cropped,(self.image_height,self.image_width,3))\n",
    "                    \n",
    "                    M = cv2.getRotationMatrix2D((self.image_width//2,self.image_height//2),\n",
    "                                                np.random.randint(-10,10), 1.0)\n",
    "                    rotated = cv2.warpAffine(image_resized, M, (self.image_width, self.image_height)) # rotate pics\n",
    "            \n",
    "                    batch_data_aug[folder,idx,:,:,0] = (rotated[:,:,0])/255\n",
    "                    batch_data_aug[folder,idx,:,:,1] = (rotated[:,:,1])/255\n",
    "                    batch_data_aug[folder,idx,:,:,2] = (rotated[:,:,2])/255\n",
    "                \n",
    "            \n",
    "            batch_labels[folder, int(t[folder + (batch*batch_size)].strip().split(';')[2])] = 1\n",
    "            \n",
    "    \n",
    "        if (augment):\n",
    "            batch_data=np.concatenate([batch_data,batch_data_aug])\n",
    "            batch_labels=np.concatenate([batch_labels,batch_labels])\n",
    "\n",
    "        \n",
    "        return(batch_data,batch_labels)\n",
    "    \n",
    "    \n",
    "    def train_model(self, model, augment_data=False):\n",
    "        train_generator = self.generator(self.train_path, self.train_doc,augment=augment_data)\n",
    "        val_generator = self.generator(self.val_path, self.val_doc)\n",
    "\n",
    "        model_name = 'model_init' + '_' + str(datetime.datetime.now()).replace(' ','').replace(':','_') + '/'\n",
    "    \n",
    "        if not os.path.exists(model_name):\n",
    "            os.mkdir(model_name)\n",
    "        \n",
    "        filepath = model_name + 'model-{epoch:05d}-{loss:.5f}-{categorical_accuracy:.5f}-{val_loss:.5f}-{val_categorical_accuracy:.5f}.h5'\n",
    "\n",
    "        checkpoint = ModelCheckpoint(filepath, monitor='val_loss', verbose=1, save_best_only=False, save_weights_only=False, mode='auto', period=1)\n",
    "        LR = ReduceLROnPlateau(monitor='val_loss', factor=0.2, verbose=1, patience=4)\n",
    "        callbacks_list = [checkpoint, LR]\n",
    "\n",
    "        if (self.num_train_sequences%self.batch_size) == 0:\n",
    "            steps_per_epoch = int(self.num_train_sequences/self.batch_size)\n",
    "        else:\n",
    "            steps_per_epoch = (self.num_train_sequences//self.batch_size) + 1\n",
    "\n",
    "        if (self.num_val_sequences%self.batch_size) == 0:\n",
    "            validation_steps = int(self.num_val_sequences/self.batch_size)\n",
    "        else:\n",
    "            validation_steps = (self.num_val_sequences//self.batch_size) + 1\n",
    "    \n",
    "        history=model.fit_generator(train_generator, steps_per_epoch=steps_per_epoch, epochs=self.num_epochs, verbose=1, \n",
    "                            callbacks=callbacks_list, validation_data=val_generator, \n",
    "                            validation_steps=validation_steps, class_weight=None, workers=1, initial_epoch=0)\n",
    "        return history\n",
    "\n",
    "        \n",
    "    @abc.abstractmethod\n",
    "    def define_model(self):\n",
    "        pass"
   ]
  },
  {
   "cell_type": "markdown",
   "metadata": {
    "id": "vQ29y4GUfCpT"
   },
   "source": [
    "## Model 7\n",
    "- Increased Filter size to 3\n",
    "- Increased image resolution to 160 X 160\n",
    "- batch size: 20\n",
    "- epochs: 30\n",
    "- neurons: 256\n",
    "- learning rate: 0.0002\n",
    "- Run with rotated pics in the augmentation"
   ]
  },
  {
   "cell_type": "code",
   "execution_count": 14,
   "metadata": {
    "executionInfo": {
     "elapsed": 634,
     "status": "ok",
     "timestamp": 1660471590168,
     "user": {
      "displayName": "Deepak Hiremath",
      "userId": "06961457277516205177"
     },
     "user_tz": -330
    },
    "id": "yJSIAJZ3ca9W"
   },
   "outputs": [],
   "source": [
    "# below class inherit model builder class \n",
    "\n",
    "class ModelConv3D7(ModelBuilderMoreAugmentation):\n",
    "    \n",
    "    def define_model(self,filtersize=(3,3,3),dense_neurons=64,dropout=0.25):\n",
    "\n",
    "        model = Sequential()\n",
    "        model.add(Conv3D(16, filtersize, padding='same',\n",
    "                 input_shape=(self.frames_to_sample,self.image_height,self.image_width,self.channels)))\n",
    "        model.add(Activation('relu'))\n",
    "        model.add(BatchNormalization())\n",
    "        model.add(MaxPooling3D(pool_size=(2, 2, 2)))\n",
    "\n",
    "        model.add(Conv3D(32, filtersize, padding='same'))\n",
    "        model.add(Activation('relu'))\n",
    "        model.add(BatchNormalization())\n",
    "        model.add(MaxPooling3D(pool_size=(2, 2, 2)))\n",
    "\n",
    "        model.add(Conv3D(64, filtersize, padding='same'))\n",
    "        model.add(Activation('relu'))\n",
    "        model.add(BatchNormalization())\n",
    "        model.add(MaxPooling3D(pool_size=(2, 2, 2)))\n",
    "\n",
    "        model.add(Conv3D(128, filtersize, padding='same'))\n",
    "        model.add(Activation('relu'))\n",
    "        model.add(BatchNormalization())\n",
    "        model.add(MaxPooling3D(pool_size=(2, 2, 2)))\n",
    "\n",
    "        model.add(Flatten())\n",
    "        model.add(Dense(dense_neurons,activation='relu'))\n",
    "        model.add(BatchNormalization())\n",
    "        model.add(Dropout(dropout))\n",
    "\n",
    "        model.add(Dense(dense_neurons,activation='relu'))\n",
    "        model.add(BatchNormalization())\n",
    "        model.add(Dropout(dropout))\n",
    "\n",
    "\n",
    "        model.add(Dense(self.num_classes,activation='softmax'))\n",
    "\n",
    "        optimiser = optimizers.Adam(lr=0.0002)\n",
    "        model.compile(optimizer=optimiser, loss='categorical_crossentropy', metrics=['categorical_accuracy'])\n",
    "        return model"
   ]
  },
  {
   "cell_type": "code",
   "execution_count": 15,
   "metadata": {
    "colab": {
     "base_uri": "https://localhost:8080/"
    },
    "executionInfo": {
     "elapsed": 3732,
     "status": "ok",
     "timestamp": 1660471596896,
     "user": {
      "displayName": "Deepak Hiremath",
      "userId": "06961457277516205177"
     },
     "user_tz": -330
    },
    "id": "IKZLw0l7fmPl",
    "outputId": "a021915b-cc24-4ce2-c8a1-7b840d031909"
   },
   "outputs": [
    {
     "name": "stdout",
     "output_type": "stream",
     "text": [
      "Model: \"sequential\"\n",
      "_________________________________________________________________\n",
      " Layer (type)                Output Shape              Param #   \n",
      "=================================================================\n",
      " conv3d (Conv3D)             (None, 20, 160, 160, 16)  400       \n",
      "                                                                 \n",
      " activation (Activation)     (None, 20, 160, 160, 16)  0         \n",
      "                                                                 \n",
      " batch_normalization (BatchN  (None, 20, 160, 160, 16)  64       \n",
      " ormalization)                                                   \n",
      "                                                                 \n",
      " max_pooling3d (MaxPooling3D  (None, 10, 80, 80, 16)   0         \n",
      " )                                                               \n",
      "                                                                 \n",
      " conv3d_1 (Conv3D)           (None, 10, 80, 80, 32)    4128      \n",
      "                                                                 \n",
      " activation_1 (Activation)   (None, 10, 80, 80, 32)    0         \n",
      "                                                                 \n",
      " batch_normalization_1 (Batc  (None, 10, 80, 80, 32)   128       \n",
      " hNormalization)                                                 \n",
      "                                                                 \n",
      " max_pooling3d_1 (MaxPooling  (None, 5, 40, 40, 32)    0         \n",
      " 3D)                                                             \n",
      "                                                                 \n",
      " conv3d_2 (Conv3D)           (None, 5, 40, 40, 64)     16448     \n",
      "                                                                 \n",
      " activation_2 (Activation)   (None, 5, 40, 40, 64)     0         \n",
      "                                                                 \n",
      " batch_normalization_2 (Batc  (None, 5, 40, 40, 64)    256       \n",
      " hNormalization)                                                 \n",
      "                                                                 \n",
      " max_pooling3d_2 (MaxPooling  (None, 2, 20, 20, 64)    0         \n",
      " 3D)                                                             \n",
      "                                                                 \n",
      " conv3d_3 (Conv3D)           (None, 2, 20, 20, 128)    65664     \n",
      "                                                                 \n",
      " activation_3 (Activation)   (None, 2, 20, 20, 128)    0         \n",
      "                                                                 \n",
      " batch_normalization_3 (Batc  (None, 2, 20, 20, 128)   512       \n",
      " hNormalization)                                                 \n",
      "                                                                 \n",
      " max_pooling3d_3 (MaxPooling  (None, 1, 10, 10, 128)   0         \n",
      " 3D)                                                             \n",
      "                                                                 \n",
      " flatten (Flatten)           (None, 12800)             0         \n",
      "                                                                 \n",
      " dense (Dense)               (None, 256)               3277056   \n",
      "                                                                 \n",
      " batch_normalization_4 (Batc  (None, 256)              1024      \n",
      " hNormalization)                                                 \n",
      "                                                                 \n",
      " dropout (Dropout)           (None, 256)               0         \n",
      "                                                                 \n",
      " dense_1 (Dense)             (None, 256)               65792     \n",
      "                                                                 \n",
      " batch_normalization_5 (Batc  (None, 256)              1024      \n",
      " hNormalization)                                                 \n",
      "                                                                 \n",
      " dropout_1 (Dropout)         (None, 256)               0         \n",
      "                                                                 \n",
      " dense_2 (Dense)             (None, 5)                 1285      \n",
      "                                                                 \n",
      "=================================================================\n",
      "Total params: 3,433,781\n",
      "Trainable params: 3,432,277\n",
      "Non-trainable params: 1,504\n",
      "_________________________________________________________________\n"
     ]
    }
   ],
   "source": [
    "# build the model\n",
    "\n",
    "conv_3d7=ModelConv3D7()\n",
    "conv_3d7.initialize_path(project_folder)\n",
    "conv_3d7.initialize_image_properties(image_height=160,image_width=160)\n",
    "conv_3d7.initialize_hyperparams(frames_to_sample=20,batch_size=20,num_epochs=30)\n",
    "conv_3d7_model=conv_3d7.define_model(filtersize=(2,2,2), dense_neurons=256,dropout=0.5)\n",
    "conv_3d7_model.summary()"
   ]
  },
  {
   "cell_type": "code",
   "execution_count": 16,
   "metadata": {
    "colab": {
     "base_uri": "https://localhost:8080/"
    },
    "executionInfo": {
     "elapsed": 1530344,
     "status": "ok",
     "timestamp": 1660475348565,
     "user": {
      "displayName": "Deepak Hiremath",
      "userId": "06961457277516205177"
     },
     "user_tz": -330
    },
    "id": "gR4WIyQzgBd4",
    "outputId": "8357a35b-cf95-4b1c-d71e-4471e93c6c12"
   },
   "outputs": [
    {
     "metadata": {
      "tags": null
     },
     "name": "stderr",
     "output_type": "stream",
     "text": [
      "WARNING:tensorflow:`period` argument is deprecated. Please use `save_freq` to specify the frequency in number of batches seen.\n"
     ]
    },
    {
     "name": "stdout",
     "output_type": "stream",
     "text": [
      "Total Params: 3433781\n",
      "Epoch 1/30\n",
      "34/34 [==============================] - ETA: 0s - loss: 2.1255 - categorical_accuracy: 0.3469\n",
      "Epoch 1: saving model to model_init_2022-08-1410_06_41.138361/model-00001-2.12555-0.34691-2.41598-0.16000.h5\n",
      "34/34 [==============================] - 156s 4s/step - loss: 2.1255 - categorical_accuracy: 0.3469 - val_loss: 2.4160 - val_categorical_accuracy: 0.1600 - lr: 2.0000e-04\n",
      "Epoch 2/30\n",
      "34/34 [==============================] - ETA: 0s - loss: 1.4854 - categorical_accuracy: 0.5181\n",
      "Epoch 2: saving model to model_init_2022-08-1410_06_41.138361/model-00002-1.48542-0.51810-4.40982-0.17000.h5\n",
      "34/34 [==============================] - 135s 4s/step - loss: 1.4854 - categorical_accuracy: 0.5181 - val_loss: 4.4098 - val_categorical_accuracy: 0.1700 - lr: 2.0000e-04\n",
      "Epoch 3/30\n",
      "34/34 [==============================] - ETA: 0s - loss: 1.2562 - categorical_accuracy: 0.5724\n",
      "Epoch 3: saving model to model_init_2022-08-1410_06_41.138361/model-00003-1.25615-0.57240-6.32660-0.14000.h5\n",
      "34/34 [==============================] - 130s 4s/step - loss: 1.2562 - categorical_accuracy: 0.5724 - val_loss: 6.3266 - val_categorical_accuracy: 0.1400 - lr: 2.0000e-04\n",
      "Epoch 4/30\n",
      "34/34 [==============================] - ETA: 0s - loss: 1.0661 - categorical_accuracy: 0.6335\n",
      "Epoch 4: saving model to model_init_2022-08-1410_06_41.138361/model-00004-1.06613-0.63348-6.87800-0.17000.h5\n",
      "34/34 [==============================] - 131s 4s/step - loss: 1.0661 - categorical_accuracy: 0.6335 - val_loss: 6.8780 - val_categorical_accuracy: 0.1700 - lr: 2.0000e-04\n",
      "Epoch 5/30\n",
      "34/34 [==============================] - ETA: 0s - loss: 1.0740 - categorical_accuracy: 0.6192\n",
      "Epoch 5: saving model to model_init_2022-08-1410_06_41.138361/model-00005-1.07396-0.61916-7.85786-0.12000.h5\n",
      "\n",
      "Epoch 5: ReduceLROnPlateau reducing learning rate to 3.9999998989515007e-05.\n",
      "34/34 [==============================] - 131s 4s/step - loss: 1.0740 - categorical_accuracy: 0.6192 - val_loss: 7.8579 - val_categorical_accuracy: 0.1200 - lr: 2.0000e-04\n",
      "Epoch 6/30\n",
      "34/34 [==============================] - ETA: 0s - loss: 0.9032 - categorical_accuracy: 0.6833\n",
      "Epoch 6: saving model to model_init_2022-08-1410_06_41.138361/model-00006-0.90322-0.68326-7.51416-0.26000.h5\n",
      "34/34 [==============================] - 130s 4s/step - loss: 0.9032 - categorical_accuracy: 0.6833 - val_loss: 7.5142 - val_categorical_accuracy: 0.2600 - lr: 4.0000e-05\n",
      "Epoch 7/30\n",
      "34/34 [==============================] - ETA: 0s - loss: 0.8768 - categorical_accuracy: 0.6817\n",
      "Epoch 7: saving model to model_init_2022-08-1410_06_41.138361/model-00007-0.87675-0.68175-8.48383-0.25000.h5\n",
      "34/34 [==============================] - 124s 4s/step - loss: 0.8768 - categorical_accuracy: 0.6817 - val_loss: 8.4838 - val_categorical_accuracy: 0.2500 - lr: 4.0000e-05\n",
      "Epoch 8/30\n",
      "34/34 [==============================] - ETA: 0s - loss: 0.8276 - categorical_accuracy: 0.7119\n",
      "Epoch 8: saving model to model_init_2022-08-1410_06_41.138361/model-00008-0.82764-0.71192-7.24333-0.34000.h5\n",
      "34/34 [==============================] - 122s 4s/step - loss: 0.8276 - categorical_accuracy: 0.7119 - val_loss: 7.2433 - val_categorical_accuracy: 0.3400 - lr: 4.0000e-05\n",
      "Epoch 9/30\n",
      "34/34 [==============================] - ETA: 0s - loss: 0.8479 - categorical_accuracy: 0.7066\n",
      "Epoch 9: saving model to model_init_2022-08-1410_06_41.138361/model-00009-0.84785-0.70664-8.09734-0.27000.h5\n",
      "\n",
      "Epoch 9: ReduceLROnPlateau reducing learning rate to 7.999999797903002e-06.\n",
      "34/34 [==============================] - 121s 4s/step - loss: 0.8479 - categorical_accuracy: 0.7066 - val_loss: 8.0973 - val_categorical_accuracy: 0.2700 - lr: 4.0000e-05\n",
      "Epoch 10/30\n",
      "34/34 [==============================] - ETA: 0s - loss: 0.7768 - categorical_accuracy: 0.7315\n",
      "Epoch 10: saving model to model_init_2022-08-1410_06_41.138361/model-00010-0.77676-0.73152-6.85357-0.31000.h5\n",
      "34/34 [==============================] - 128s 4s/step - loss: 0.7768 - categorical_accuracy: 0.7315 - val_loss: 6.8536 - val_categorical_accuracy: 0.3100 - lr: 8.0000e-06\n",
      "Epoch 11/30\n",
      "34/34 [==============================] - ETA: 0s - loss: 0.7847 - categorical_accuracy: 0.7270\n",
      "Epoch 11: saving model to model_init_2022-08-1410_06_41.138361/model-00011-0.78466-0.72700-6.13737-0.27000.h5\n",
      "34/34 [==============================] - 127s 4s/step - loss: 0.7847 - categorical_accuracy: 0.7270 - val_loss: 6.1374 - val_categorical_accuracy: 0.2700 - lr: 8.0000e-06\n",
      "Epoch 12/30\n",
      "34/34 [==============================] - ETA: 0s - loss: 0.8377 - categorical_accuracy: 0.7172\n",
      "Epoch 12: saving model to model_init_2022-08-1410_06_41.138361/model-00012-0.83774-0.71719-5.39908-0.26000.h5\n",
      "34/34 [==============================] - 119s 4s/step - loss: 0.8377 - categorical_accuracy: 0.7172 - val_loss: 5.3991 - val_categorical_accuracy: 0.2600 - lr: 8.0000e-06\n",
      "Epoch 13/30\n",
      "34/34 [==============================] - ETA: 0s - loss: 0.7768 - categorical_accuracy: 0.7127\n",
      "Epoch 13: saving model to model_init_2022-08-1410_06_41.138361/model-00013-0.77681-0.71267-4.68656-0.32000.h5\n",
      "\n",
      "Epoch 13: ReduceLROnPlateau reducing learning rate to 1.5999999959603884e-06.\n",
      "34/34 [==============================] - 119s 4s/step - loss: 0.7768 - categorical_accuracy: 0.7127 - val_loss: 4.6866 - val_categorical_accuracy: 0.3200 - lr: 8.0000e-06\n",
      "Epoch 14/30\n",
      "34/34 [==============================] - ETA: 0s - loss: 0.7519 - categorical_accuracy: 0.7278\n",
      "Epoch 14: saving model to model_init_2022-08-1410_06_41.138361/model-00014-0.75193-0.72775-3.48262-0.33000.h5\n",
      "34/34 [==============================] - 117s 4s/step - loss: 0.7519 - categorical_accuracy: 0.7278 - val_loss: 3.4826 - val_categorical_accuracy: 0.3300 - lr: 1.6000e-06\n",
      "Epoch 15/30\n",
      "34/34 [==============================] - ETA: 0s - loss: 0.7602 - categorical_accuracy: 0.7443\n",
      "Epoch 15: saving model to model_init_2022-08-1410_06_41.138361/model-00015-0.76018-0.74434-2.92878-0.31000.h5\n",
      "34/34 [==============================] - 127s 4s/step - loss: 0.7602 - categorical_accuracy: 0.7443 - val_loss: 2.9288 - val_categorical_accuracy: 0.3100 - lr: 1.6000e-06\n",
      "Epoch 16/30\n",
      "34/34 [==============================] - ETA: 0s - loss: 0.7807 - categorical_accuracy: 0.7262\n",
      "Epoch 16: saving model to model_init_2022-08-1410_06_41.138361/model-00016-0.78068-0.72624-2.44855-0.40000.h5\n",
      "34/34 [==============================] - 126s 4s/step - loss: 0.7807 - categorical_accuracy: 0.7262 - val_loss: 2.4486 - val_categorical_accuracy: 0.4000 - lr: 1.6000e-06\n",
      "Epoch 17/30\n",
      "34/34 [==============================] - ETA: 0s - loss: 0.8118 - categorical_accuracy: 0.7097\n",
      "Epoch 17: saving model to model_init_2022-08-1410_06_41.138361/model-00017-0.81181-0.70965-1.80078-0.45000.h5\n",
      "34/34 [==============================] - 117s 4s/step - loss: 0.8118 - categorical_accuracy: 0.7097 - val_loss: 1.8008 - val_categorical_accuracy: 0.4500 - lr: 1.6000e-06\n",
      "Epoch 18/30\n",
      "34/34 [==============================] - ETA: 0s - loss: 0.7210 - categorical_accuracy: 0.7451\n",
      "Epoch 18: saving model to model_init_2022-08-1410_06_41.138361/model-00018-0.72099-0.74510-1.40199-0.51000.h5\n",
      "34/34 [==============================] - 120s 4s/step - loss: 0.7210 - categorical_accuracy: 0.7451 - val_loss: 1.4020 - val_categorical_accuracy: 0.5100 - lr: 1.6000e-06\n",
      "Epoch 19/30\n",
      "34/34 [==============================] - ETA: 0s - loss: 0.7374 - categorical_accuracy: 0.7278\n",
      "Epoch 19: saving model to model_init_2022-08-1410_06_41.138361/model-00019-0.73736-0.72775-1.24657-0.58000.h5\n",
      "34/34 [==============================] - 117s 4s/step - loss: 0.7374 - categorical_accuracy: 0.7278 - val_loss: 1.2466 - val_categorical_accuracy: 0.5800 - lr: 1.6000e-06\n",
      "Epoch 20/30\n",
      "34/34 [==============================] - ETA: 0s - loss: 0.7255 - categorical_accuracy: 0.7368\n",
      "Epoch 20: saving model to model_init_2022-08-1410_06_41.138361/model-00020-0.72553-0.73680-1.09392-0.61000.h5\n",
      "34/34 [==============================] - 118s 4s/step - loss: 0.7255 - categorical_accuracy: 0.7368 - val_loss: 1.0939 - val_categorical_accuracy: 0.6100 - lr: 1.6000e-06\n",
      "Epoch 21/30\n",
      "34/34 [==============================] - ETA: 0s - loss: 0.7741 - categorical_accuracy: 0.7285\n",
      "Epoch 21: saving model to model_init_2022-08-1410_06_41.138361/model-00021-0.77407-0.72851-0.91267-0.67000.h5\n",
      "34/34 [==============================] - 126s 4s/step - loss: 0.7741 - categorical_accuracy: 0.7285 - val_loss: 0.9127 - val_categorical_accuracy: 0.6700 - lr: 1.6000e-06\n",
      "Epoch 22/30\n",
      "34/34 [==============================] - ETA: 0s - loss: 0.7756 - categorical_accuracy: 0.7142\n",
      "Epoch 22: saving model to model_init_2022-08-1410_06_41.138361/model-00022-0.77556-0.71418-0.74021-0.72000.h5\n",
      "34/34 [==============================] - 117s 4s/step - loss: 0.7756 - categorical_accuracy: 0.7142 - val_loss: 0.7402 - val_categorical_accuracy: 0.7200 - lr: 1.6000e-06\n",
      "Epoch 23/30\n",
      "34/34 [==============================] - ETA: 0s - loss: 0.7779 - categorical_accuracy: 0.7300\n",
      "Epoch 23: saving model to model_init_2022-08-1410_06_41.138361/model-00023-0.77795-0.73002-0.86603-0.63000.h5\n",
      "34/34 [==============================] - 126s 4s/step - loss: 0.7779 - categorical_accuracy: 0.7300 - val_loss: 0.8660 - val_categorical_accuracy: 0.6300 - lr: 1.6000e-06\n",
      "Epoch 24/30\n",
      "34/34 [==============================] - ETA: 0s - loss: 0.6858 - categorical_accuracy: 0.7421\n",
      "Epoch 24: saving model to model_init_2022-08-1410_06_41.138361/model-00024-0.68583-0.74208-0.72286-0.72000.h5\n",
      "34/34 [==============================] - 126s 4s/step - loss: 0.6858 - categorical_accuracy: 0.7421 - val_loss: 0.7229 - val_categorical_accuracy: 0.7200 - lr: 1.6000e-06\n",
      "Epoch 25/30\n",
      "34/34 [==============================] - ETA: 0s - loss: 0.7565 - categorical_accuracy: 0.7323\n",
      "Epoch 25: saving model to model_init_2022-08-1410_06_41.138361/model-00025-0.75648-0.73228-0.74169-0.71000.h5\n",
      "34/34 [==============================] - 118s 4s/step - loss: 0.7565 - categorical_accuracy: 0.7323 - val_loss: 0.7417 - val_categorical_accuracy: 0.7100 - lr: 1.6000e-06\n",
      "Epoch 26/30\n",
      "34/34 [==============================] - ETA: 0s - loss: 0.7166 - categorical_accuracy: 0.7300\n",
      "Epoch 26: saving model to model_init_2022-08-1410_06_41.138361/model-00026-0.71662-0.73002-0.71783-0.74000.h5\n",
      "34/34 [==============================] - 127s 4s/step - loss: 0.7166 - categorical_accuracy: 0.7300 - val_loss: 0.7178 - val_categorical_accuracy: 0.7400 - lr: 1.6000e-06\n",
      "Epoch 27/30\n",
      "34/34 [==============================] - ETA: 0s - loss: 0.7609 - categorical_accuracy: 0.7345\n",
      "Epoch 27: saving model to model_init_2022-08-1410_06_41.138361/model-00027-0.76092-0.73454-0.68016-0.76000.h5\n",
      "34/34 [==============================] - 117s 4s/step - loss: 0.7609 - categorical_accuracy: 0.7345 - val_loss: 0.6802 - val_categorical_accuracy: 0.7600 - lr: 1.6000e-06\n",
      "Epoch 28/30\n",
      "34/34 [==============================] - ETA: 0s - loss: 0.7341 - categorical_accuracy: 0.7459\n",
      "Epoch 28: saving model to model_init_2022-08-1410_06_41.138361/model-00028-0.73410-0.74585-0.57904-0.79000.h5\n",
      "34/34 [==============================] - 126s 4s/step - loss: 0.7341 - categorical_accuracy: 0.7459 - val_loss: 0.5790 - val_categorical_accuracy: 0.7900 - lr: 1.6000e-06\n",
      "Epoch 29/30\n",
      "34/34 [==============================] - ETA: 0s - loss: 0.7618 - categorical_accuracy: 0.7376\n",
      "Epoch 29: saving model to model_init_2022-08-1410_06_41.138361/model-00029-0.76177-0.73756-0.80329-0.71000.h5\n",
      "34/34 [==============================] - 117s 4s/step - loss: 0.7618 - categorical_accuracy: 0.7376 - val_loss: 0.8033 - val_categorical_accuracy: 0.7100 - lr: 1.6000e-06\n",
      "Epoch 30/30\n",
      "34/34 [==============================] - ETA: 0s - loss: 0.8071 - categorical_accuracy: 0.7202\n",
      "Epoch 30: saving model to model_init_2022-08-1410_06_41.138361/model-00030-0.80705-0.72021-0.67809-0.75000.h5\n",
      "34/34 [==============================] - 126s 4s/step - loss: 0.8071 - categorical_accuracy: 0.7202 - val_loss: 0.6781 - val_categorical_accuracy: 0.7500 - lr: 1.6000e-06\n"
     ]
    }
   ],
   "source": [
    "# train the model\n",
    "\n",
    "print(\"Total Params:\", conv_3d7_model.count_params())\n",
    "history_model7 = conv_3d7.train_model(conv_3d7_model, augment_data=True)"
   ]
  },
  {
   "cell_type": "code",
   "execution_count": 21,
   "metadata": {
    "colab": {
     "base_uri": "https://localhost:8080/",
     "height": 265
    },
    "executionInfo": {
     "elapsed": 518,
     "status": "ok",
     "timestamp": 1660475694876,
     "user": {
      "displayName": "Deepak Hiremath",
      "userId": "06961457277516205177"
     },
     "user_tz": -330
    },
    "id": "j6-yaKV3D3ax",
    "outputId": "0653969c-b40e-4bc4-de80-93007d19d701"
   },
   "outputs": [
    {
     "data": {
      "image/png": "[encoded data removed]",
      "text/plain": [
       "<Figure size 1080x288 with 2 Axes>"
      ]
     },
     "metadata": {
      "needs_background": "light"
     },
     "output_type": "display_data"
    }
   ],
   "source": [
    "# plot training and validation metrics\n",
    "plot(history_model7)"
   ]
  },
  {
   "cell_type": "markdown",
   "metadata": {
    "id": "U8ltAKDrh7W5"
   },
   "source": [
    "### Observations\n",
    "\n",
    "- Model has given a good accuracy of around 79% for both training and validation."
   ]
  },
  {
   "cell_type": "markdown",
   "metadata": {
    "id": "0-ZluajlHV1C"
   },
   "source": [
    "## Model 8\n",
    "- Transfer Learning with Mobilnet"
   ]
  },
  {
   "cell_type": "code",
   "execution_count": 22,
   "metadata": {
    "executionInfo": {
     "elapsed": 383,
     "status": "ok",
     "timestamp": 1660476625410,
     "user": {
      "displayName": "Deepak Hiremath",
      "userId": "06961457277516205177"
     },
     "user_tz": -330
    },
    "id": "GpwpNTQWuEW8"
   },
   "outputs": [],
   "source": [
    "# import required libraries\n",
    "\n",
    "from keras.applications import mobilenet"
   ]
  },
  {
   "cell_type": "code",
   "execution_count": 23,
   "metadata": {
    "colab": {
     "base_uri": "https://localhost:8080/"
    },
    "executionInfo": {
     "elapsed": 1072,
     "status": "ok",
     "timestamp": 1660476656432,
     "user": {
      "displayName": "Deepak Hiremath",
      "userId": "06961457277516205177"
     },
     "user_tz": -330
    },
    "id": "-40NAnYKHo4c",
    "outputId": "2ea2dc5e-baae-401e-9096-2486a28c26b5"
   },
   "outputs": [
    {
     "name": "stderr",
     "output_type": "stream",
     "text": [
      "WARNING:tensorflow:`input_shape` is undefined or non-square, or `rows` is not in [128, 160, 192, 224]. Weights for input shape (224, 224) will be loaded as the default.\n"
     ]
    },
    {
     "name": "stdout",
     "output_type": "stream",
     "text": [
      "Downloading data from https://storage.googleapis.com/tensorflow/keras-applications/mobilenet/mobilenet_1_0_224_tf_no_top.h5\n",
      "17227776/17225924 [==============================] - 0s 0us/step\n",
      "17235968/17225924 [==============================] - 0s 0us/step\n"
     ]
    }
   ],
   "source": [
    "# define transfer learning model\n",
    "\n",
    "mobilenet_transfer = mobilenet.MobileNet(weights='imagenet', include_top=False)\n",
    "\n",
    "class RNNCNN_TL(ModelBuilderMoreAugmentation):\n",
    "    \n",
    "    def define_model(self,lstm_cells=64,dense_neurons=64,dropout=0.25):\n",
    "        \n",
    "        model = Sequential()\n",
    "        model.add(TimeDistributed(mobilenet_transfer,input_shape=(self.frames_to_sample,self.image_height,self.image_width,self.channels)))\n",
    "        \n",
    "        \n",
    "        for layer in model.layers:\n",
    "            layer.trainable = False\n",
    "        \n",
    "        \n",
    "        model.add(TimeDistributed(BatchNormalization()))\n",
    "        model.add(TimeDistributed(MaxPooling2D((2, 2))))\n",
    "        model.add(TimeDistributed(Flatten()))\n",
    "\n",
    "        model.add(LSTM(lstm_cells))\n",
    "        model.add(Dropout(dropout))\n",
    "        \n",
    "        model.add(Dense(dense_neurons,activation='relu'))\n",
    "        model.add(Dropout(dropout))\n",
    "        \n",
    "        model.add(Dense(self.num_classes, activation='softmax'))\n",
    "        \n",
    "        \n",
    "        optimiser = optimizers.Adam()\n",
    "        model.compile(optimizer=optimiser, loss='categorical_crossentropy', metrics=['categorical_accuracy'])\n",
    "        return model"
   ]
  },
  {
   "cell_type": "code",
   "execution_count": 24,
   "metadata": {
    "colab": {
     "base_uri": "https://localhost:8080/"
    },
    "executionInfo": {
     "elapsed": 1461,
     "status": "ok",
     "timestamp": 1660476690651,
     "user": {
      "displayName": "Deepak Hiremath",
      "userId": "06961457277516205177"
     },
     "user_tz": -330
    },
    "id": "UdQvupXxH0uG",
    "outputId": "718be15c-c517-44af-bf9a-b7b72917239d"
   },
   "outputs": [
    {
     "name": "stdout",
     "output_type": "stream",
     "text": [
      "Model: \"sequential_1\"\n",
      "_________________________________________________________________\n",
      " Layer (type)                Output Shape              Param #   \n",
      "=================================================================\n",
      " time_distributed (TimeDistr  (None, 16, 3, 3, 1024)   3228864   \n",
      " ibuted)                                                         \n",
      "                                                                 \n",
      " time_distributed_1 (TimeDis  (None, 16, 3, 3, 1024)   4096      \n",
      " tributed)                                                       \n",
      "                                                                 \n",
      " time_distributed_2 (TimeDis  (None, 16, 1, 1, 1024)   0         \n",
      " tributed)                                                       \n",
      "                                                                 \n",
      " time_distributed_3 (TimeDis  (None, 16, 1024)         0         \n",
      " tributed)                                                       \n",
      "                                                                 \n",
      " lstm (LSTM)                 (None, 128)               590336    \n",
      "                                                                 \n",
      " dropout_2 (Dropout)         (None, 128)               0         \n",
      "                                                                 \n",
      " dense_3 (Dense)             (None, 128)               16512     \n",
      "                                                                 \n",
      " dropout_3 (Dropout)         (None, 128)               0         \n",
      "                                                                 \n",
      " dense_4 (Dense)             (None, 5)                 645       \n",
      "                                                                 \n",
      "=================================================================\n",
      "Total params: 3,840,453\n",
      "Trainable params: 609,541\n",
      "Non-trainable params: 3,230,912\n",
      "_________________________________________________________________\n"
     ]
    }
   ],
   "source": [
    "# build the model\n",
    "\n",
    "rnn_cnn_tl=RNNCNN_TL()\n",
    "rnn_cnn_tl.initialize_path(project_folder)\n",
    "rnn_cnn_tl.initialize_image_properties(image_height=120,image_width=120)\n",
    "rnn_cnn_tl.initialize_hyperparams(frames_to_sample=16,batch_size=5,num_epochs=20)\n",
    "rnn_cnn_tl_model=rnn_cnn_tl.define_model(lstm_cells=128,dense_neurons=128,dropout=0.25)\n",
    "rnn_cnn_tl_model.summary()"
   ]
  },
  {
   "cell_type": "code",
   "execution_count": 25,
   "metadata": {
    "colab": {
     "base_uri": "https://localhost:8080/"
    },
    "executionInfo": {
     "elapsed": 945238,
     "status": "ok",
     "timestamp": 1660478415105,
     "user": {
      "displayName": "Deepak Hiremath",
      "userId": "06961457277516205177"
     },
     "user_tz": -330
    },
    "id": "48athAgRH4io",
    "outputId": "935de1ac-de0d-4651-e737-380f909c31ca"
   },
   "outputs": [
    {
     "metadata": {
      "tags": null
     },
     "name": "stderr",
     "output_type": "stream",
     "text": [
      "WARNING:tensorflow:`period` argument is deprecated. Please use `save_freq` to specify the frequency in number of batches seen.\n"
     ]
    },
    {
     "name": "stdout",
     "output_type": "stream",
     "text": [
      "Total Params: 3840453\n",
      "Epoch 1/20\n",
      "133/133 [==============================] - ETA: 0s - loss: 1.3480 - categorical_accuracy: 0.4223\n",
      "Epoch 1: saving model to model_init_2022-08-1411_31_48.275874/model-00001-1.34797-0.42232-0.88297-0.71000.h5\n",
      "133/133 [==============================] - 97s 694ms/step - loss: 1.3480 - categorical_accuracy: 0.4223 - val_loss: 0.8830 - val_categorical_accuracy: 0.7100 - lr: 0.0010\n",
      "Epoch 2/20\n",
      "133/133 [==============================] - ETA: 0s - loss: 0.8565 - categorical_accuracy: 0.6787\n",
      "Epoch 2: saving model to model_init_2022-08-1411_31_48.275874/model-00002-0.85650-0.67873-0.80650-0.66000.h5\n",
      "133/133 [==============================] - 85s 640ms/step - loss: 0.8565 - categorical_accuracy: 0.6787 - val_loss: 0.8065 - val_categorical_accuracy: 0.6600 - lr: 0.0010\n",
      "Epoch 3/20\n",
      "133/133 [==============================] - ETA: 0s - loss: 0.6328 - categorical_accuracy: 0.7685\n",
      "Epoch 3: saving model to model_init_2022-08-1411_31_48.275874/model-00003-0.63276-0.76848-0.61459-0.78000.h5\n",
      "133/133 [==============================] - 84s 639ms/step - loss: 0.6328 - categorical_accuracy: 0.7685 - val_loss: 0.6146 - val_categorical_accuracy: 0.7800 - lr: 0.0010\n",
      "Epoch 4/20\n",
      "133/133 [==============================] - ETA: 0s - loss: 0.4869 - categorical_accuracy: 0.8341\n",
      "Epoch 4: saving model to model_init_2022-08-1411_31_48.275874/model-00004-0.48693-0.83409-0.72564-0.72000.h5\n",
      "133/133 [==============================] - 86s 651ms/step - loss: 0.4869 - categorical_accuracy: 0.8341 - val_loss: 0.7256 - val_categorical_accuracy: 0.7200 - lr: 0.0010\n",
      "Epoch 5/20\n",
      "133/133 [==============================] - ETA: 0s - loss: 0.3838 - categorical_accuracy: 0.8643\n",
      "Epoch 5: saving model to model_init_2022-08-1411_31_48.275874/model-00005-0.38381-0.86425-0.63635-0.79000.h5\n",
      "133/133 [==============================] - 85s 643ms/step - loss: 0.3838 - categorical_accuracy: 0.8643 - val_loss: 0.6364 - val_categorical_accuracy: 0.7900 - lr: 0.0010\n",
      "Epoch 6/20\n",
      "133/133 [==============================] - ETA: 0s - loss: 0.2847 - categorical_accuracy: 0.8982\n",
      "Epoch 6: saving model to model_init_2022-08-1411_31_48.275874/model-00006-0.28470-0.89819-0.57642-0.76000.h5\n",
      "133/133 [==============================] - 85s 642ms/step - loss: 0.2847 - categorical_accuracy: 0.8982 - val_loss: 0.5764 - val_categorical_accuracy: 0.7600 - lr: 0.0010\n",
      "Epoch 7/20\n",
      "133/133 [==============================] - ETA: 0s - loss: 0.2686 - categorical_accuracy: 0.9012\n",
      "Epoch 7: saving model to model_init_2022-08-1411_31_48.275874/model-00007-0.26864-0.90121-0.66559-0.73000.h5\n",
      "133/133 [==============================] - 85s 642ms/step - loss: 0.2686 - categorical_accuracy: 0.9012 - val_loss: 0.6656 - val_categorical_accuracy: 0.7300 - lr: 0.0010\n",
      "Epoch 8/20\n",
      "133/133 [==============================] - ETA: 0s - loss: 0.2045 - categorical_accuracy: 0.9193\n",
      "Epoch 8: saving model to model_init_2022-08-1411_31_48.275874/model-00008-0.20446-0.91931-0.58210-0.80000.h5\n",
      "133/133 [==============================] - 84s 634ms/step - loss: 0.2045 - categorical_accuracy: 0.9193 - val_loss: 0.5821 - val_categorical_accuracy: 0.8000 - lr: 0.0010\n",
      "Epoch 9/20\n",
      "133/133 [==============================] - ETA: 0s - loss: 0.2036 - categorical_accuracy: 0.9299\n",
      "Epoch 9: saving model to model_init_2022-08-1411_31_48.275874/model-00009-0.20357-0.92986-0.81676-0.70000.h5\n",
      "133/133 [==============================] - 82s 624ms/step - loss: 0.2036 - categorical_accuracy: 0.9299 - val_loss: 0.8168 - val_categorical_accuracy: 0.7000 - lr: 0.0010\n",
      "Epoch 10/20\n",
      "133/133 [==============================] - ETA: 0s - loss: 0.1592 - categorical_accuracy: 0.9457\n",
      "Epoch 10: saving model to model_init_2022-08-1411_31_48.275874/model-00010-0.15917-0.94570-0.67941-0.79000.h5\n",
      "\n",
      "Epoch 10: ReduceLROnPlateau reducing learning rate to 0.00020000000949949026.\n",
      "133/133 [==============================] - 85s 641ms/step - loss: 0.1592 - categorical_accuracy: 0.9457 - val_loss: 0.6794 - val_categorical_accuracy: 0.7900 - lr: 0.0010\n",
      "Epoch 11/20\n",
      "133/133 [==============================] - ETA: 0s - loss: 0.1182 - categorical_accuracy: 0.9578\n",
      "Epoch 11: saving model to model_init_2022-08-1411_31_48.275874/model-00011-0.11819-0.95777-0.85753-0.73000.h5\n",
      "133/133 [==============================] - 84s 635ms/step - loss: 0.1182 - categorical_accuracy: 0.9578 - val_loss: 0.8575 - val_categorical_accuracy: 0.7300 - lr: 2.0000e-04\n",
      "Epoch 12/20\n",
      "133/133 [==============================] - ETA: 0s - loss: 0.0955 - categorical_accuracy: 0.9729\n",
      "Epoch 12: saving model to model_init_2022-08-1411_31_48.275874/model-00012-0.09550-0.97285-0.70757-0.78000.h5\n",
      "133/133 [==============================] - 84s 636ms/step - loss: 0.0955 - categorical_accuracy: 0.9729 - val_loss: 0.7076 - val_categorical_accuracy: 0.7800 - lr: 2.0000e-04\n",
      "Epoch 13/20\n",
      "133/133 [==============================] - ETA: 0s - loss: 0.0762 - categorical_accuracy: 0.9751\n",
      "Epoch 13: saving model to model_init_2022-08-1411_31_48.275874/model-00013-0.07625-0.97511-0.87931-0.76000.h5\n",
      "133/133 [==============================] - 84s 632ms/step - loss: 0.0762 - categorical_accuracy: 0.9751 - val_loss: 0.8793 - val_categorical_accuracy: 0.7600 - lr: 2.0000e-04\n",
      "Epoch 14/20\n",
      "133/133 [==============================] - ETA: 0s - loss: 0.0756 - categorical_accuracy: 0.9744\n",
      "Epoch 14: saving model to model_init_2022-08-1411_31_48.275874/model-00014-0.07556-0.97436-0.67019-0.78000.h5\n",
      "\n",
      "Epoch 14: ReduceLROnPlateau reducing learning rate to 4.0000001899898055e-05.\n",
      "133/133 [==============================] - 85s 641ms/step - loss: 0.0756 - categorical_accuracy: 0.9744 - val_loss: 0.6702 - val_categorical_accuracy: 0.7800 - lr: 2.0000e-04\n",
      "Epoch 15/20\n",
      "133/133 [==============================] - ETA: 0s - loss: 0.0499 - categorical_accuracy: 0.9804\n",
      "Epoch 15: saving model to model_init_2022-08-1411_31_48.275874/model-00015-0.04993-0.98039-0.83908-0.77000.h5\n",
      "133/133 [==============================] - 84s 635ms/step - loss: 0.0499 - categorical_accuracy: 0.9804 - val_loss: 0.8391 - val_categorical_accuracy: 0.7700 - lr: 4.0000e-05\n",
      "Epoch 16/20\n",
      "133/133 [==============================] - ETA: 0s - loss: 0.0534 - categorical_accuracy: 0.9834\n",
      "Epoch 16: saving model to model_init_2022-08-1411_31_48.275874/model-00016-0.05337-0.98341-0.74417-0.77000.h5\n",
      "133/133 [==============================] - 84s 632ms/step - loss: 0.0534 - categorical_accuracy: 0.9834 - val_loss: 0.7442 - val_categorical_accuracy: 0.7700 - lr: 4.0000e-05\n",
      "Epoch 17/20\n",
      "133/133 [==============================] - ETA: 0s - loss: 0.0578 - categorical_accuracy: 0.9834\n",
      "Epoch 17: saving model to model_init_2022-08-1411_31_48.275874/model-00017-0.05776-0.98341-0.80781-0.76000.h5\n",
      "133/133 [==============================] - 84s 636ms/step - loss: 0.0578 - categorical_accuracy: 0.9834 - val_loss: 0.8078 - val_categorical_accuracy: 0.7600 - lr: 4.0000e-05\n",
      "Epoch 18/20\n",
      "133/133 [==============================] - ETA: 0s - loss: 0.0703 - categorical_accuracy: 0.9789\n",
      "Epoch 18: saving model to model_init_2022-08-1411_31_48.275874/model-00018-0.07025-0.97888-0.76874-0.74000.h5\n",
      "\n",
      "Epoch 18: ReduceLROnPlateau reducing learning rate to 8.000000525498762e-06.\n",
      "133/133 [==============================] - 84s 634ms/step - loss: 0.0703 - categorical_accuracy: 0.9789 - val_loss: 0.7687 - val_categorical_accuracy: 0.7400 - lr: 4.0000e-05\n",
      "Epoch 19/20\n",
      "133/133 [==============================] - ETA: 0s - loss: 0.0564 - categorical_accuracy: 0.9842\n",
      "Epoch 19: saving model to model_init_2022-08-1411_31_48.275874/model-00019-0.05638-0.98416-0.72456-0.75000.h5\n",
      "133/133 [==============================] - 84s 634ms/step - loss: 0.0564 - categorical_accuracy: 0.9842 - val_loss: 0.7246 - val_categorical_accuracy: 0.7500 - lr: 8.0000e-06\n",
      "Epoch 20/20\n",
      "133/133 [==============================] - ETA: 0s - loss: 0.0564 - categorical_accuracy: 0.9781\n",
      "Epoch 20: saving model to model_init_2022-08-1411_31_48.275874/model-00020-0.05638-0.97813-0.66705-0.78000.h5\n",
      "133/133 [==============================] - 84s 635ms/step - loss: 0.0564 - categorical_accuracy: 0.9781 - val_loss: 0.6671 - val_categorical_accuracy: 0.7800 - lr: 8.0000e-06\n"
     ]
    }
   ],
   "source": [
    "# train the model\n",
    "\n",
    "print(\"Total Params:\", rnn_cnn_tl_model.count_params())\n",
    "history_model18=rnn_cnn_tl.train_model(rnn_cnn_tl_model,augment_data=True)"
   ]
  },
  {
   "cell_type": "code",
   "execution_count": 27,
   "metadata": {
    "colab": {
     "base_uri": "https://localhost:8080/",
     "height": 267
    },
    "executionInfo": {
     "elapsed": 735,
     "status": "ok",
     "timestamp": 1660478660267,
     "user": {
      "displayName": "Deepak Hiremath",
      "userId": "06961457277516205177"
     },
     "user_tz": -330
    },
    "id": "ykbo3WfTH9N7",
    "outputId": "e259c163-73a4-437b-e9a4-3e0218b943df"
   },
   "outputs": [
    {
     "data": {
      "image/png": "[encoded data removed]",
      "text/plain": [
       "<Figure size 1080x288 with 2 Axes>"
      ]
     },
     "metadata": {
      "needs_background": "light"
     },
     "output_type": "display_data"
    }
   ],
   "source": [
    "# plot training and validation metrics\n",
    "plot(history_model18)"
   ]
  },
  {
   "cell_type": "markdown",
   "metadata": {
    "id": "L7x0jBuhPd06"
   },
   "source": [
    "### Observations\n",
    "\n",
    "- Model training accuracy 97% and validation accuracy 78%\n",
    "- We are not training the mobilenet weights and we see validation accuracy is very poor. \n",
    "- Let's train them as well and observe if there is performance improvement."
   ]
  },
  {
   "cell_type": "markdown",
   "metadata": {
    "id": "TOpMZxVcPoYu"
   },
   "source": [
    "## Model 9: GRU CNN\n",
    "- Transfer Learning with GRU and training all weights\n",
    "- Cells: 64\n",
    "- epochs: 20\n",
    "- batch size: 5\n",
    "- image size:120*120\n",
    "- "
   ]
  },
  {
   "cell_type": "code",
   "execution_count": 28,
   "metadata": {
    "executionInfo": {
     "elapsed": 456,
     "status": "ok",
     "timestamp": 1660478750609,
     "user": {
      "displayName": "Deepak Hiremath",
      "userId": "06961457277516205177"
     },
     "user_tz": -330
    },
    "id": "98gvMIngPUmw"
   },
   "outputs": [],
   "source": [
    "# import required libraries\n",
    "\n",
    "from keras.applications import mobilenet"
   ]
  },
  {
   "cell_type": "code",
   "execution_count": 30,
   "metadata": {
    "colab": {
     "base_uri": "https://localhost:8080/"
    },
    "executionInfo": {
     "elapsed": 1211,
     "status": "ok",
     "timestamp": 1660478866143,
     "user": {
      "displayName": "Deepak Hiremath",
      "userId": "06961457277516205177"
     },
     "user_tz": -330
    },
    "id": "p3Pjzby4Pvru",
    "outputId": "0adf8edf-1368-4607-d583-dc4d8e62293b"
   },
   "outputs": [
    {
     "name": "stderr",
     "output_type": "stream",
     "text": [
      "WARNING:tensorflow:`input_shape` is undefined or non-square, or `rows` is not in [128, 160, 192, 224]. Weights for input shape (224, 224) will be loaded as the default.\n"
     ]
    }
   ],
   "source": [
    "# define the model\n",
    "\n",
    "from keras.applications import mobilenet\n",
    "\n",
    "mobilenet_transfer = mobilenet.MobileNet(weights='imagenet', include_top=False)\n",
    "\n",
    "class RNNCNN_TL2(ModelBuilderMoreAugmentation):\n",
    "    \n",
    "    def define_model(self,gru_cells=64,dense_neurons=64,dropout=0.25):\n",
    "        \n",
    "        model = Sequential()\n",
    "        model.add(TimeDistributed(mobilenet_transfer,input_shape=(self.frames_to_sample,self.image_height,self.image_width,self.channels)))\n",
    " \n",
    "        \n",
    "        model.add(TimeDistributed(BatchNormalization()))\n",
    "        model.add(TimeDistributed(MaxPooling2D((2, 2))))\n",
    "        model.add(TimeDistributed(Flatten()))\n",
    "\n",
    "        model.add(GRU(gru_cells))\n",
    "        model.add(Dropout(dropout))\n",
    "        \n",
    "        model.add(Dense(dense_neurons,activation='relu'))\n",
    "        model.add(Dropout(dropout))\n",
    "        \n",
    "        model.add(Dense(self.num_classes, activation='softmax'))\n",
    "        \n",
    "        \n",
    "        optimiser = optimizers.Adam()\n",
    "        model.compile(optimizer=optimiser, loss='categorical_crossentropy', metrics=['categorical_accuracy'])\n",
    "        return model"
   ]
  },
  {
   "cell_type": "code",
   "execution_count": 31,
   "metadata": {
    "colab": {
     "base_uri": "https://localhost:8080/"
    },
    "executionInfo": {
     "elapsed": 1693,
     "status": "ok",
     "timestamp": 1660478891419,
     "user": {
      "displayName": "Deepak Hiremath",
      "userId": "06961457277516205177"
     },
     "user_tz": -330
    },
    "id": "Iw0SjLTCQAOD",
    "outputId": "2024c142-d71f-434a-f32b-e907331e7aba"
   },
   "outputs": [
    {
     "name": "stdout",
     "output_type": "stream",
     "text": [
      "Model: \"sequential_2\"\n",
      "_________________________________________________________________\n",
      " Layer (type)                Output Shape              Param #   \n",
      "=================================================================\n",
      " time_distributed_4 (TimeDis  (None, 16, 3, 3, 1024)   3228864   \n",
      " tributed)                                                       \n",
      "                                                                 \n",
      " time_distributed_5 (TimeDis  (None, 16, 3, 3, 1024)   4096      \n",
      " tributed)                                                       \n",
      "                                                                 \n",
      " time_distributed_6 (TimeDis  (None, 16, 1, 1, 1024)   0         \n",
      " tributed)                                                       \n",
      "                                                                 \n",
      " time_distributed_7 (TimeDis  (None, 16, 1024)         0         \n",
      " tributed)                                                       \n",
      "                                                                 \n",
      " gru (GRU)                   (None, 128)               443136    \n",
      "                                                                 \n",
      " dropout_4 (Dropout)         (None, 128)               0         \n",
      "                                                                 \n",
      " dense_5 (Dense)             (None, 128)               16512     \n",
      "                                                                 \n",
      " dropout_5 (Dropout)         (None, 128)               0         \n",
      "                                                                 \n",
      " dense_6 (Dense)             (None, 5)                 645       \n",
      "                                                                 \n",
      "=================================================================\n",
      "Total params: 3,693,253\n",
      "Trainable params: 3,669,317\n",
      "Non-trainable params: 23,936\n",
      "_________________________________________________________________\n"
     ]
    }
   ],
   "source": [
    "# build the model\n",
    "\n",
    "rnn_cnn_tl2=RNNCNN_TL2()\n",
    "rnn_cnn_tl2.initialize_path(project_folder)\n",
    "rnn_cnn_tl2.initialize_image_properties(image_height=120,image_width=120)\n",
    "rnn_cnn_tl2.initialize_hyperparams(frames_to_sample=16,batch_size=5,num_epochs=20)\n",
    "rnn_cnn_tl2_model=rnn_cnn_tl2.define_model(gru_cells=128,dense_neurons=128,dropout=0.25)\n",
    "rnn_cnn_tl2_model.summary()"
   ]
  },
  {
   "cell_type": "code",
   "execution_count": 33,
   "metadata": {
    "colab": {
     "base_uri": "https://localhost:8080/"
    },
    "executionInfo": {
     "elapsed": 1882866,
     "status": "ok",
     "timestamp": 1660480850610,
     "user": {
      "displayName": "Deepak Hiremath",
      "userId": "06961457277516205177"
     },
     "user_tz": -330
    },
    "id": "dlNPcW8NQRxV",
    "outputId": "d8798236-5095-4144-889f-314c30dd81d9"
   },
   "outputs": [
    {
     "name": "stderr",
     "output_type": "stream",
     "text": [
      "WARNING:tensorflow:`period` argument is deprecated. Please use `save_freq` to specify the frequency in number of batches seen.\n"
     ]
    },
    {
     "name": "stdout",
     "output_type": "stream",
     "text": [
      "Total Params: 3693253\n",
      "Epoch 1/20\n",
      "133/133 [==============================] - ETA: 0s - loss: 1.2462 - categorical_accuracy: 0.4766\n",
      "Epoch 1: saving model to model_init_2022-08-1412_09_27.633077/model-00001-1.24621-0.47662-0.72145-0.75000.h5\n",
      "133/133 [==============================] - 95s 714ms/step - loss: 1.2462 - categorical_accuracy: 0.4766 - val_loss: 0.7214 - val_categorical_accuracy: 0.7500 - lr: 0.0010\n",
      "Epoch 2/20\n",
      "133/133 [==============================] - ETA: 0s - loss: 0.6638 - categorical_accuracy: 0.7179\n",
      "Epoch 2: saving model to model_init_2022-08-1412_09_27.633077/model-00002-0.66379-0.71795-0.43724-0.77000.h5\n",
      "133/133 [==============================] - 93s 704ms/step - loss: 0.6638 - categorical_accuracy: 0.7179 - val_loss: 0.4372 - val_categorical_accuracy: 0.7700 - lr: 0.0010\n",
      "Epoch 3/20\n",
      "133/133 [==============================] - ETA: 0s - loss: 0.5100 - categorical_accuracy: 0.7979\n",
      "Epoch 3: saving model to model_init_2022-08-1412_09_27.633077/model-00003-0.50997-0.79789-0.41314-0.80000.h5\n",
      "133/133 [==============================] - 94s 708ms/step - loss: 0.5100 - categorical_accuracy: 0.7979 - val_loss: 0.4131 - val_categorical_accuracy: 0.8000 - lr: 0.0010\n",
      "Epoch 4/20\n",
      "133/133 [==============================] - ETA: 0s - loss: 0.3962 - categorical_accuracy: 0.8567\n",
      "Epoch 4: saving model to model_init_2022-08-1412_09_27.633077/model-00004-0.39619-0.85671-0.35840-0.88000.h5\n",
      "133/133 [==============================] - 94s 710ms/step - loss: 0.3962 - categorical_accuracy: 0.8567 - val_loss: 0.3584 - val_categorical_accuracy: 0.8800 - lr: 0.0010\n",
      "Epoch 5/20\n",
      "133/133 [==============================] - ETA: 0s - loss: 0.3550 - categorical_accuracy: 0.8688\n",
      "Epoch 5: saving model to model_init_2022-08-1412_09_27.633077/model-00005-0.35504-0.86878-0.34364-0.85000.h5\n",
      "133/133 [==============================] - 93s 702ms/step - loss: 0.3550 - categorical_accuracy: 0.8688 - val_loss: 0.3436 - val_categorical_accuracy: 0.8500 - lr: 0.0010\n",
      "Epoch 6/20\n",
      "133/133 [==============================] - ETA: 0s - loss: 0.2917 - categorical_accuracy: 0.8967\n",
      "Epoch 6: saving model to model_init_2022-08-1412_09_27.633077/model-00006-0.29168-0.89668-0.67748-0.73000.h5\n",
      "133/133 [==============================] - 94s 707ms/step - loss: 0.2917 - categorical_accuracy: 0.8967 - val_loss: 0.6775 - val_categorical_accuracy: 0.7300 - lr: 0.0010\n",
      "Epoch 7/20\n",
      "133/133 [==============================] - ETA: 0s - loss: 0.2904 - categorical_accuracy: 0.9035\n",
      "Epoch 7: saving model to model_init_2022-08-1412_09_27.633077/model-00007-0.29044-0.90347-0.33276-0.87000.h5\n",
      "133/133 [==============================] - 94s 708ms/step - loss: 0.2904 - categorical_accuracy: 0.9035 - val_loss: 0.3328 - val_categorical_accuracy: 0.8700 - lr: 0.0010\n",
      "Epoch 8/20\n",
      "133/133 [==============================] - ETA: 0s - loss: 0.2016 - categorical_accuracy: 0.9291\n",
      "Epoch 8: saving model to model_init_2022-08-1412_09_27.633077/model-00008-0.20156-0.92911-0.32904-0.86000.h5\n",
      "133/133 [==============================] - 93s 705ms/step - loss: 0.2016 - categorical_accuracy: 0.9291 - val_loss: 0.3290 - val_categorical_accuracy: 0.8600 - lr: 0.0010\n",
      "Epoch 9/20\n",
      "133/133 [==============================] - ETA: 0s - loss: 0.2168 - categorical_accuracy: 0.9306\n",
      "Epoch 9: saving model to model_init_2022-08-1412_09_27.633077/model-00009-0.21682-0.93062-0.36814-0.89000.h5\n",
      "133/133 [==============================] - 95s 714ms/step - loss: 0.2168 - categorical_accuracy: 0.9306 - val_loss: 0.3681 - val_categorical_accuracy: 0.8900 - lr: 0.0010\n",
      "Epoch 10/20\n",
      "133/133 [==============================] - ETA: 0s - loss: 0.2854 - categorical_accuracy: 0.9027\n",
      "Epoch 10: saving model to model_init_2022-08-1412_09_27.633077/model-00010-0.28545-0.90271-0.45158-0.84000.h5\n",
      "133/133 [==============================] - 94s 706ms/step - loss: 0.2854 - categorical_accuracy: 0.9027 - val_loss: 0.4516 - val_categorical_accuracy: 0.8400 - lr: 0.0010\n",
      "Epoch 11/20\n",
      "133/133 [==============================] - ETA: 0s - loss: 0.1807 - categorical_accuracy: 0.9404\n",
      "Epoch 11: saving model to model_init_2022-08-1412_09_27.633077/model-00011-0.18069-0.94042-0.20279-0.91000.h5\n",
      "133/133 [==============================] - 94s 711ms/step - loss: 0.1807 - categorical_accuracy: 0.9404 - val_loss: 0.2028 - val_categorical_accuracy: 0.9100 - lr: 0.0010\n",
      "Epoch 12/20\n",
      "133/133 [==============================] - ETA: 0s - loss: 0.1235 - categorical_accuracy: 0.9661\n",
      "Epoch 12: saving model to model_init_2022-08-1412_09_27.633077/model-00012-0.12354-0.96606-0.22055-0.93000.h5\n",
      "133/133 [==============================] - 93s 702ms/step - loss: 0.1235 - categorical_accuracy: 0.9661 - val_loss: 0.2206 - val_categorical_accuracy: 0.9300 - lr: 0.0010\n",
      "Epoch 13/20\n",
      "133/133 [==============================] - ETA: 0s - loss: 0.1043 - categorical_accuracy: 0.9653\n",
      "Epoch 13: saving model to model_init_2022-08-1412_09_27.633077/model-00013-0.10426-0.96531-0.23022-0.93000.h5\n",
      "133/133 [==============================] - 94s 712ms/step - loss: 0.1043 - categorical_accuracy: 0.9653 - val_loss: 0.2302 - val_categorical_accuracy: 0.9300 - lr: 0.0010\n",
      "Epoch 14/20\n",
      "133/133 [==============================] - ETA: 0s - loss: 0.2360 - categorical_accuracy: 0.9216\n",
      "Epoch 14: saving model to model_init_2022-08-1412_09_27.633077/model-00014-0.23597-0.92157-0.70088-0.79000.h5\n",
      "133/133 [==============================] - 94s 707ms/step - loss: 0.2360 - categorical_accuracy: 0.9216 - val_loss: 0.7009 - val_categorical_accuracy: 0.7900 - lr: 0.0010\n",
      "Epoch 15/20\n",
      "133/133 [==============================] - ETA: 0s - loss: 0.3177 - categorical_accuracy: 0.8989\n",
      "Epoch 15: saving model to model_init_2022-08-1412_09_27.633077/model-00015-0.31769-0.89894-0.39166-0.83000.h5\n",
      "\n",
      "Epoch 15: ReduceLROnPlateau reducing learning rate to 0.00020000000949949026.\n",
      "133/133 [==============================] - 95s 717ms/step - loss: 0.3177 - categorical_accuracy: 0.8989 - val_loss: 0.3917 - val_categorical_accuracy: 0.8300 - lr: 0.0010\n",
      "Epoch 16/20\n",
      "133/133 [==============================] - ETA: 0s - loss: 0.1469 - categorical_accuracy: 0.9472\n",
      "Epoch 16: saving model to model_init_2022-08-1412_09_27.633077/model-00016-0.14693-0.94721-0.36370-0.85000.h5\n",
      "133/133 [==============================] - 94s 713ms/step - loss: 0.1469 - categorical_accuracy: 0.9472 - val_loss: 0.3637 - val_categorical_accuracy: 0.8500 - lr: 2.0000e-04\n",
      "Epoch 17/20\n",
      "133/133 [==============================] - ETA: 0s - loss: 0.0805 - categorical_accuracy: 0.9796\n",
      "Epoch 17: saving model to model_init_2022-08-1412_09_27.633077/model-00017-0.08053-0.97964-0.10170-0.96000.h5\n",
      "133/133 [==============================] - 96s 723ms/step - loss: 0.0805 - categorical_accuracy: 0.9796 - val_loss: 0.1017 - val_categorical_accuracy: 0.9600 - lr: 2.0000e-04\n",
      "Epoch 18/20\n",
      "133/133 [==============================] - ETA: 0s - loss: 0.0786 - categorical_accuracy: 0.9789\n",
      "Epoch 18: saving model to model_init_2022-08-1412_09_27.633077/model-00018-0.07861-0.97888-0.17367-0.94000.h5\n",
      "133/133 [==============================] - 94s 706ms/step - loss: 0.0786 - categorical_accuracy: 0.9789 - val_loss: 0.1737 - val_categorical_accuracy: 0.9400 - lr: 2.0000e-04\n",
      "Epoch 19/20\n",
      "133/133 [==============================] - ETA: 0s - loss: 0.0638 - categorical_accuracy: 0.9819\n",
      "Epoch 19: saving model to model_init_2022-08-1412_09_27.633077/model-00019-0.06380-0.98190-0.18888-0.92000.h5\n",
      "133/133 [==============================] - 94s 708ms/step - loss: 0.0638 - categorical_accuracy: 0.9819 - val_loss: 0.1889 - val_categorical_accuracy: 0.9200 - lr: 2.0000e-04\n",
      "Epoch 20/20\n",
      "133/133 [==============================] - ETA: 0s - loss: 0.0394 - categorical_accuracy: 0.9849\n",
      "Epoch 20: saving model to model_init_2022-08-1412_09_27.633077/model-00020-0.03938-0.98492-0.13614-0.93000.h5\n",
      "133/133 [==============================] - 94s 711ms/step - loss: 0.0394 - categorical_accuracy: 0.9849 - val_loss: 0.1361 - val_categorical_accuracy: 0.9300 - lr: 2.0000e-04\n"
     ]
    }
   ],
   "source": [
    "print(\"Total Params:\", rnn_cnn_tl2_model.count_params())\n",
    "history_model9=rnn_cnn_tl2.train_model(rnn_cnn_tl2_model,augment_data=True)"
   ]
  },
  {
   "cell_type": "code",
   "execution_count": 34,
   "metadata": {
    "colab": {
     "base_uri": "https://localhost:8080/",
     "height": 265
    },
    "executionInfo": {
     "elapsed": 672,
     "status": "ok",
     "timestamp": 1660480901445,
     "user": {
      "displayName": "Deepak Hiremath",
      "userId": "06961457277516205177"
     },
     "user_tz": -330
    },
    "id": "ODilFWZsQgwI",
    "outputId": "720fde61-cb4e-4ab5-8647-0b551ff1f42a"
   },
   "outputs": [
    {
     "data": {
      "image/png": "[encoded data removed]",
      "text/plain": [
       "<Figure size 1080x288 with 2 Axes>"
      ]
     },
     "metadata": {
      "needs_background": "light"
     },
     "output_type": "display_data"
    }
   ],
   "source": [
    "# plotting the trainign and validation metrics\n",
    "plot(history_model9)"
   ]
  },
  {
   "cell_type": "markdown",
   "metadata": {
    "id": "axsTRJVUYTZ5"
   },
   "source": [
    "### Observations\n",
    "- This has the best performance\n",
    "- It shows a training accuracy of **_98.5%_** and a validation accuracy of **_93%_**"
   ]
  },
  {
   "cell_type": "markdown",
   "metadata": {
    "id": "pabbV5c2YvRe"
   },
   "source": [
    "## Conclusions\n",
    "\n",
    "<ol>\n",
    "<li>\n",
    "We started building our model with exercise, experiment on getting the optimal parameters like image resolution, frame size and batch sizes.\n",
    "</li>\n",
    "<li>We have tried different models starting with a base model of CNN only and slowly building up by including RNN layers. We have also included transfer learning to check its performance in gesture recognition.</li>\n",
    "<li>In all models, we checked different parameters and tested their performance on the available data. The CNN 2D models were generally overfitting with high training accuracy of around 90% and low validation accuracy of around 71% while a CNN 3D model gave around 79% with no overfitting. </li>\n",
    "<li>CNNs with RNN proved better than only CNN models. Both CNN 2D and CNN 3D models with RNN showed similar accuracies.</li>\n",
    "<li><em>Transfer Learning.  </em>Lastely We trained the models using transfer learning from MobileNet with GRU cells without and with training of transfer learning weights. The model with trained transfer learning weights provided the best accuracy. We achieved a <em>training accuracy</em> of <em><strong>98.5%</strong></em> and a <em>validation accuracy</em> of <em><strong>93%</strong></em>.</li>\n",
    "</ol>"
   ]
  },
  {
   "cell_type": "markdown",
   "metadata": {
    "id": "1CdfsGgxYyWh"
   },
   "source": [
    "## Learnings\n",
    "<ol>\n",
    "<li>As seen in this study, transfer learning has proved to be better than any other models including complex ones with LSTM and GRU with CNN. Any machine learning model should be quickly deployed. So, using available resources like transfer learning is important</li>\n",
    "<li>In the absence of a suitable transfer learning model, we should explore more options and layers of the different available CNN and RNN models including various activation functions and residual network options.</li>\n",
    "</ol>"
   ]
  },
  {
   "cell_type": "markdown",
   "metadata": {
    "id": "mXXKtMCaYrmn"
   },
   "source": [
    "# Loading model and Testing"
   ]
  },
  {
   "cell_type": "code",
   "execution_count": 36,
   "metadata": {
    "executionInfo": {
     "elapsed": 2296,
     "status": "ok",
     "timestamp": 1660481185331,
     "user": {
      "displayName": "Deepak Hiremath",
      "userId": "06961457277516205177"
     },
     "user_tz": -330
    },
    "id": "lOjAQAoOYRaA"
   },
   "outputs": [],
   "source": [
    "# laoding the h5 file stored\n",
    "import time\n",
    "from keras.models import load_model\n",
    "model = load_model('/content/model_init_2022-08-1412_09_27.633077/model-00020-0.03938-0.98492-0.13614-0.93000.h5')"
   ]
  },
  {
   "cell_type": "code",
   "execution_count": 37,
   "metadata": {
    "executionInfo": {
     "elapsed": 961,
     "status": "ok",
     "timestamp": 1660481251121,
     "user": {
      "displayName": "Deepak Hiremath",
      "userId": "06961457277516205177"
     },
     "user_tz": -330
    },
    "id": "Q1_DbkveZBri"
   },
   "outputs": [],
   "source": [
    "test_generator=RNNCNN_TL2()\n",
    "test_generator.initialize_path(project_folder)\n",
    "test_generator.initialize_image_properties(image_height=120,image_width=120)\n",
    "test_generator.initialize_hyperparams(frames_to_sample=16,batch_size=5,num_epochs=1)\n",
    "\n",
    "g=test_generator.generator(test_generator.val_path,test_generator.val_doc,augment=False)\n",
    "batch_data, batch_labels=next(g)"
   ]
  },
  {
   "cell_type": "code",
   "execution_count": 38,
   "metadata": {
    "colab": {
     "base_uri": "https://localhost:8080/"
    },
    "executionInfo": {
     "elapsed": 414,
     "status": "ok",
     "timestamp": 1660481270408,
     "user": {
      "displayName": "Deepak Hiremath",
      "userId": "06961457277516205177"
     },
     "user_tz": -330
    },
    "id": "ch7VgKPiZSEK",
    "outputId": "3384c1f3-e181-46fe-d021-58297ce3042c"
   },
   "outputs": [
    {
     "data": {
      "text/plain": [
       "array([[0., 0., 1., 0., 0.],\n",
       "       [1., 0., 0., 0., 0.],\n",
       "       [1., 0., 0., 0., 0.],\n",
       "       [0., 0., 0., 1., 0.],\n",
       "       [0., 0., 0., 0., 1.]])"
      ]
     },
     "execution_count": 38,
     "metadata": {},
     "output_type": "execute_result"
    }
   ],
   "source": [
    "batch_labels"
   ]
  },
  {
   "cell_type": "code",
   "execution_count": 39,
   "metadata": {
    "colab": {
     "base_uri": "https://localhost:8080/"
    },
    "executionInfo": {
     "elapsed": 1031,
     "status": "ok",
     "timestamp": 1660481324849,
     "user": {
      "displayName": "Deepak Hiremath",
      "userId": "06961457277516205177"
     },
     "user_tz": -330
    },
    "id": "4Rtw0QFdZW5C",
    "outputId": "28ef9fc5-e0df-4483-b8fb-172dd4db3b42"
   },
   "outputs": [
    {
     "name": "stdout",
     "output_type": "stream",
     "text": [
      "[2 2 0 3 4]\n"
     ]
    }
   ],
   "source": [
    "print(np.argmax(model.predict(batch_data[:,:,:,:,:]),axis=1))"
   ]
  },
  {
   "cell_type": "code",
   "execution_count": null,
   "metadata": {
    "id": "eoMaBd5bZkDH"
   },
   "outputs": [],
   "source": []
  }
 ],
 "metadata": {
  "accelerator": "GPU",
  "colab": {
   "collapsed_sections": [],
   "name": "Copy of Gesture_Recognize.ipynb",
   "provenance": [
    {
     "file_id": "1nXkGdAuZL9SokIrpoXsxlMTVjmvf5Ty_",
     "timestamp": 1660482371274
    }
   ]
  },
  "gpuClass": "standard",
  "kernelspec": {
   "display_name": "Python 3",
   "language": "python",
   "name": "python3"
  },
  "language_info": {
   "codemirror_mode": {
    "name": "ipython",
    "version": 3
   },
   "file_extension": ".py",
   "mimetype": "text/x-python",
   "name": "python",
   "nbconvert_exporter": "python",
   "pygments_lexer": "ipython3",
   "version": "3.8.8"
  }
 },
 "nbformat": 4,
 "nbformat_minor": 1
}
